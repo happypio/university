{
 "cells": [
  {
   "cell_type": "markdown",
   "metadata": {},
   "source": [
    "## Zadanie 11\n"
   ]
  },
  {
   "cell_type": "code",
   "execution_count": 1,
   "metadata": {},
   "outputs": [
    {
     "name": "stdout",
     "output_type": "stream",
     "text": [
      "Prosta regresji to:\n",
      "y = 0.6363636363636364 * x + 0.5454545454545459\n"
     ]
    }
   ],
   "source": [
    "import numpy as np\n",
    "x = [1, 3, 4, 6, 8, 9, 11, 14]\n",
    "y = [1, 2, 4, 4, 5, 7, 8, 9]\n",
    "\n",
    "n = len(x)\n",
    "\n",
    "sum1 = sum(x[i] * y[i] for i in range(n))\n",
    "sum2 = sum(x[i] ** 2 for i in range(n))\n",
    "\n",
    "a  = (sum1 - sum(x)*sum(y)/n) / (sum2 - sum(x)**2/n)\n",
    "b = sum(y)/n - a * sum(x)/n\n",
    "print(f'Prosta regresji to:\\ny = {a} * x + {b}')"
   ]
  },
  {
   "cell_type": "code",
   "execution_count": 2,
   "metadata": {},
   "outputs": [
    {
     "data": {
      "text/plain": [
       "[<matplotlib.lines.Line2D at 0x7fd02b58feb0>]"
      ]
     },
     "execution_count": 2,
     "metadata": {},
     "output_type": "execute_result"
    },
    {
     "data": {
      "image/png": "[encoded data removed]",
      "text/plain": [
       "<Figure size 432x288 with 1 Axes>"
      ]
     },
     "metadata": {},
     "output_type": "display_data"
    }
   ],
   "source": [
    "import matplotlib.pyplot as plt\n",
    "plt.style.use('seaborn-whitegrid')\n",
    "import numpy as np\n",
    "\n",
    "fig = plt.figure()\n",
    "ax = plt.axes()\n",
    "\n",
    "x = x\n",
    "reg = [a*x[i] + b for i in range(n)]\n",
    "ax.plot(x, reg);\n",
    "plt.plot(x, y, 'o')"
   ]
  },
  {
   "cell_type": "markdown",
   "metadata": {},
   "source": [
    "## Zadanie 12\n"
   ]
  },
  {
   "cell_type": "code",
   "execution_count": 5,
   "metadata": {},
   "outputs": [
    {
     "name": "stdout",
     "output_type": "stream",
     "text": [
      "Wartości C oraz k to kolejno:\n",
      "15971.80708782614\n",
      "1.4042040049307924\n",
      "Wartość P przewidywana dla V = 100 to:\n",
      "24.8282463659601\n"
     ]
    }
   ],
   "source": [
    "V = [54.3, 61.8, 72.4, 88.7, 118.6, 194.0]\n",
    "P = [61.2, 49.5, 37.6, 28.4, 19.2, 10.1]\n",
    "\n",
    "log_v = [np.log(v) for v in V]\n",
    "log_p = [np.log(p) for p in P]\n",
    "\n",
    "n = len(V)\n",
    "\n",
    "avg_v = sum(log_v)/n\n",
    "avg_p = sum(log_p)/n\n",
    "\n",
    "a  = sum([(vi - avg_v)*(pi - avg_p) for vi, pi in zip(log_v, log_p)]) / sum([(vi - avg_v)**2 for vi in log_v])\n",
    "k = -a\n",
    "b = avg_p - a*avg_v\n",
    "c = np.exp(b)\n",
    "\n",
    "#print(a)\n",
    "#print(b)\n",
    "print(\"Wartości C oraz k to kolejno:\")\n",
    "print(c)\n",
    "print(k)\n",
    "\n",
    "#V = 100, ile wynosi P?\n",
    "P = c/100**k\n",
    "print(\"Wartość P przewidywana dla V = 100 to:\")\n",
    "print(P)"
   ]
  },
  {
   "cell_type": "code",
   "execution_count": null,
   "metadata": {},
   "outputs": [],
   "source": []
  }
 ],
 "metadata": {
  "kernelspec": {
   "display_name": "Python 3",
   "language": "python",
   "name": "python3"
  },
  "language_info": {
   "codemirror_mode": {
    "name": "ipython",
    "version": 3
   },
   "file_extension": ".py",
   "mimetype": "text/x-python",
   "name": "python",
   "nbconvert_exporter": "python",
   "pygments_lexer": "ipython3",
   "version": "3.8.3"
  },
  "metadata": {
   "interpreter": {
    "hash": "31f2aee4e71d21fbe5cf8b01ff0e069b9275f58929596ceb00d14d90e3e16cd6"
   }
  }
 },
 "nbformat": 4,
 "nbformat_minor": 2
}
