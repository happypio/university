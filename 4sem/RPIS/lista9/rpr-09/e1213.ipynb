{
 "cells": [
  {
   "cell_type": "code",
   "execution_count": 1,
   "metadata": {},
   "outputs": [],
   "source": [
    "# Miasto 0, Szer 1, Dług 2, Opady 3, Temp 4, Wys 5\n",
    "import csv\n",
    "table = []\n",
    "with open('klimat.csv', newline='') as csvfile:\n",
    "    reader = csv.reader(csvfile, delimiter=';', quotechar='|')\n",
    "    for row in reader:\n",
    "        table.append(row)\n",
    "        #print(', '.join(row))"
   ]
  },
  {
   "cell_type": "markdown",
   "metadata": {},
   "source": [
    "# Zadanie 12"
   ]
  },
  {
   "cell_type": "markdown",
   "metadata": {},
   "source": [
    "#### $$a = \\frac{\\sum_{i=1}^{n}x_i\\cdot y_i - n\\bar{x}\\bar{y}}{\\sum_{i=1}^{n}x_i^2 - n\\bar{x}^2}$$\n",
    "$$b = \\bar{y} - a\\bar{x}$$"
   ]
  },
  {
   "cell_type": "code",
   "execution_count": 9,
   "metadata": {},
   "outputs": [
    {
     "name": "stdout",
     "output_type": "stream",
     "text": [
      "Prosta regresji to:\n",
      "Temp = 0.00021858661501265034 * Wysokość + 8.05594817726625\n"
     ]
    }
   ],
   "source": [
    "n = len(table) - 1\n",
    "y = [float(i[4]) for i in table[1:]]\n",
    "x = [float(i[5]) for i in table[1:]]\n",
    "sum1 = sum(x[i] * y[i] for i in range(n))\n",
    "sum2 = sum(x[i] ** 2 for i in range(n))\n",
    "\n",
    "a  = (sum1 - sum(x) * sum(y) / n) / (sum2 - sum(x) * sum(x) / n)\n",
    "b = sum(y) / n - a * sum(x) / n\n",
    "print(f'Prosta regresji to:\\nTemp = {a} * Wysokość + {b}')"
   ]
  },
  {
   "cell_type": "markdown",
   "metadata": {},
   "source": [
    "# Zadanie 13"
   ]
  },
  {
   "cell_type": "markdown",
   "metadata": {},
   "source": [
    "#### $$\\beta = (X^TX)^{-1}X^TY$$"
   ]
  },
  {
   "cell_type": "code",
   "execution_count": 5,
   "metadata": {},
   "outputs": [],
   "source": [
    "import numpy as np\n",
    "X = np.array([ [1,float(i[1]) , float(i[2])] for i in table[1:]])\n",
    "Y = np.array([float(i[4]) for i in table[1:]])\n",
    "XT = X.transpose()\n",
    "M = np.linalg.inv(XT.dot(X))\n",
    "B = M.dot(XT.dot(Y))"
   ]
  },
  {
   "cell_type": "code",
   "execution_count": 10,
   "metadata": {},
   "outputs": [
    {
     "name": "stdout",
     "output_type": "stream",
     "text": [
      "Prosta regresji to:\n",
      "Temp = -0.32809155570185844 * Szerokość -0.17775028886334 * Długość + 28.531073457173534\n"
     ]
    }
   ],
   "source": [
    "print(f'Prosta regresji to:\\nTemp = {B[1]} * Szerokość {B[2]} * Długość + {B[0]}')"
   ]
  },
  {
   "cell_type": "code",
   "execution_count": null,
   "metadata": {},
   "outputs": [],
   "source": []
  }
 ],
 "metadata": {
  "kernelspec": {
   "display_name": "Python 3",
   "language": "python",
   "name": "python3"
  },
  "language_info": {
   "codemirror_mode": {
    "name": "ipython",
    "version": 3
   },
   "file_extension": ".py",
   "mimetype": "text/x-python",
   "name": "python",
   "nbconvert_exporter": "python",
   "pygments_lexer": "ipython3",
   "version": "3.8.3"
  }
 },
 "nbformat": 4,
 "nbformat_minor": 4
}
