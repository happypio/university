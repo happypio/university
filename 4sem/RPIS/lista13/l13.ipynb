{
 "cells": [
  {
   "cell_type": "markdown",
   "metadata": {},
   "source": [
    "# Zadanie 1"
   ]
  },
  {
   "cell_type": "code",
   "execution_count": 1,
   "metadata": {},
   "outputs": [
    {
     "name": "stdout",
     "output_type": "stream",
     "text": [
      "-: 6 +:  25\n",
      "0.0008779102936387064\n"
     ]
    }
   ],
   "source": [
    "from collections import defaultdict\n",
    "import scipy.stats\n",
    "import math\n",
    "\n",
    "data = []\n",
    "m = 7.75\n",
    "\n",
    "with open('data1301.txt', newline='') as f:\n",
    "    for line in f:\n",
    "        data.append(float(line.strip()))\n",
    "n = len(data)\n",
    "\n",
    "minus_sign, plus_sign = [],[]\n",
    "\n",
    "for i in data:\n",
    "    if i < m:\n",
    "        minus_sign.append(n)\n",
    "    if i > m:\n",
    "        plus_sign.append(n)\n",
    "    \n",
    "#przy zalozeniu prawdziwosci H_0, P(X < m) = 1/2, czyli \n",
    "print(\"-:\", len(minus_sign), \"+: \", len(plus_sign))\n",
    "p_value = scipy.stats.binom.cdf(6, n, 1/2)\n",
    "print(2 * p_value)\n",
    "#Ilosc obserwacji ponizej mediany jest zbyt mala \n",
    "#i na poziomie alfa = 0.05 odrzucamy hipotezę"
   ]
  },
  {
   "cell_type": "markdown",
   "metadata": {},
   "source": [
    "# Zadanie 2"
   ]
  },
  {
   "cell_type": "code",
   "execution_count": 13,
   "metadata": {},
   "outputs": [
    {
     "name": "stdout",
     "output_type": "stream",
     "text": [
      "0.987400068036656\n"
     ]
    }
   ],
   "source": [
    "#275 na A, 225 na B\n",
    "#hipoteza: średnia glosow na A, mi = 0.5, alternatywna: < 0.5\n",
    "n = 500\n",
    "avg = 275 / n\n",
    "mi = 0.5\n",
    "S = math.sqrt((275 * (1 - avg)**2 + 225* (-avg)**2 )/(n-1))\n",
    "SE = S/math.sqrt(n)\n",
    "t = (avg - mi) / SE\n",
    "p_value = scipy.stats.t.cdf(t, n - 1)\n",
    "print(p_value)\n",
    "#hipoteza jednostronna, czyli przyjmujemy H_0 i wnioskujemy, że A wygra wybory"
   ]
  },
  {
   "cell_type": "markdown",
   "metadata": {},
   "source": [
    "## Zadanie 6"
   ]
  },
  {
   "cell_type": "markdown",
   "metadata": {},
   "source": [
    "### $$r_{s} = 1 – \\frac{6 \\sum_{i=1}^{n} d_{i}^{2}}{n \\ \\left(n^{2} – 1\\right)}$$"
   ]
  },
  {
   "cell_type": "code",
   "execution_count": 3,
   "metadata": {},
   "outputs": [],
   "source": [
    "specjalisci = []\n",
    "zwykli = []\n",
    "with open('data1306.txt', newline='') as f:\n",
    "    for line in f:\n",
    "        tmp = line.strip().split(\"\\t\")\n",
    "        \n",
    "        if tmp[0] != 'S':\n",
    "            specjalisci.append(int(tmp[0]))\n",
    "            zwykli.append(int(tmp[1]))"
   ]
  },
  {
   "cell_type": "code",
   "execution_count": 4,
   "metadata": {},
   "outputs": [
    {
     "name": "stdout",
     "output_type": "stream",
     "text": [
      "[1, 2, 3, 4, 5, 6, 7, 8, 9, 10]\n",
      "[1, 2, 3, 4, 5, 6, 7, 8, 9, 10]\n",
      "0.4666666666666667\n"
     ]
    }
   ],
   "source": [
    "print(sorted(specjalisci))\n",
    "print(sorted(zwykli))\n",
    "\n",
    "#czyli nie ma powtorek i nie musimy sie martwic usrednianiem rang\n",
    "from collections import defaultdict\n",
    "#rangowanie: widac, ze ocena jest jednoczesnie ranga\n",
    "ds = [i for i in range(1,11)]\n",
    "dz = [i for i in range(1,11)]\n",
    "di_sq = [(ds[specjalisci[i] - 1] - dz[zwykli[i] - 1])**2 for i in range(10)]\n",
    "\n",
    "n = len(zwykli) # tyle samo co specjalsici\n",
    "rs = 1 - 6 * sum(di_sq) / (n*(n**2 - 1))\n",
    "#print(6 * sum(di_sq) / (n*(n**2 - 1)))\n",
    "print(rs) \n",
    "# korelacja umiarkowana"
   ]
  },
  {
   "cell_type": "markdown",
   "metadata": {},
   "source": [
    "## Zadanie 9"
   ]
  },
  {
   "cell_type": "markdown",
   "metadata": {},
   "source": [
    "### $$\\rho_{X,Y}={\\frac {\\sum _{i=1}^{n}(x_{i}-{\\overline {x}})(y_{i}-{\\overline {y}})}{{\\sqrt {\\sum _{i=1}^{n}(x_{i}-{\\overline {x}})^{2}}}{\\sqrt {\\sum _{i=1}^{n}(y_{i}-{\\overline {y}})^{2}}}}}$$"
   ]
  },
  {
   "cell_type": "code",
   "execution_count": 5,
   "metadata": {},
   "outputs": [],
   "source": [
    "papierosy = []\n",
    "cisnienie = []\n",
    "with open('data1309.txt', newline='') as f:\n",
    "    for line in f:\n",
    "        tmp = line.strip().split(\"\\t\")\n",
    "        \n",
    "        if tmp[0] != 'L':\n",
    "            papierosy.append(int(tmp[0]))\n",
    "            cisnienie.append(int(tmp[1]))"
   ]
  },
  {
   "cell_type": "code",
   "execution_count": 6,
   "metadata": {},
   "outputs": [
    {
     "name": "stdout",
     "output_type": "stream",
     "text": [
      "0.6918255553232499\n"
     ]
    }
   ],
   "source": [
    "n = len(papierosy)\n",
    "x = [papierosy[i] for i in range(n)]\n",
    "y = [cisnienie[i] for i in range(n)]\n",
    "x_avg = sum(x)/n\n",
    "y_avg = sum(y)/n\n",
    "        \n",
    "sum_xy = sum((x[i] - x_avg)*(y[i] - y_avg) for i in range(n))\n",
    "sum_x = sum((x[i] - x_avg)**2 for i in range(n))\n",
    "sum_y = sum((y[i] - y_avg)**2 for i in range(n))\n",
    "        \n",
    "corr = sum_xy / (math.sqrt(sum_x) * math.sqrt(sum_y))\n",
    "print(corr)\n",
    "#czyli silnie skorelowane"
   ]
  },
  {
   "cell_type": "markdown",
   "metadata": {},
   "source": [
    "## Zadanie 10"
   ]
  },
  {
   "cell_type": "code",
   "execution_count": 7,
   "metadata": {},
   "outputs": [],
   "source": [
    "sedzia1 = []\n",
    "sedzia2 = []\n",
    "with open('data1310.txt', newline='') as f:\n",
    "    for line in f:\n",
    "        tmp = line.strip().split(\"\\t\")\n",
    "        \n",
    "        if tmp[0] != 'S1':\n",
    "            sedzia1.append(int(tmp[0]))\n",
    "            sedzia2.append(int(tmp[1]))"
   ]
  },
  {
   "cell_type": "code",
   "execution_count": 8,
   "metadata": {},
   "outputs": [
    {
     "name": "stdout",
     "output_type": "stream",
     "text": [
      "0.8909090909090909\n"
     ]
    }
   ],
   "source": [
    "n = len(sedzia1)\n",
    "x = [sedzia1[i] for i in range(n)]\n",
    "y = [sedzia2[i] for i in range(n)]\n",
    "x_avg = sum(x)/n\n",
    "y_avg = sum(y)/n\n",
    "        \n",
    "sum_xy = sum((x[i] - x_avg)*(y[i] - y_avg) for i in range(n))\n",
    "sum_x = sum((x[i] - x_avg)**2 for i in range(n))\n",
    "sum_y = sum((y[i] - y_avg)**2 for i in range(n))\n",
    "        \n",
    "corr = sum_xy / (math.sqrt(sum_x) * math.sqrt(sum_y))\n",
    "print(corr)\n",
    "#czyli silnie skorelowane"
   ]
  },
  {
   "cell_type": "markdown",
   "metadata": {},
   "source": [
    "## Zadanie 12"
   ]
  },
  {
   "cell_type": "code",
   "execution_count": 9,
   "metadata": {},
   "outputs": [
    {
     "name": "stdout",
     "output_type": "stream",
     "text": [
      "srednia:  8.341612903225805\n"
     ]
    }
   ],
   "source": [
    "data = []\n",
    "with open('data1301.txt', newline='') as f:\n",
    "    for line in f:\n",
    "        data.append(float(line.strip()));\n",
    "\n",
    "#Hipoteza o wartości średniej:\n",
    "mi = 8.2\n",
    "print(\"srednia: \", sum(data) / len(data))"
   ]
  },
  {
   "cell_type": "code",
   "execution_count": 10,
   "metadata": {},
   "outputs": [
    {
     "name": "stdout",
     "output_type": "stream",
     "text": [
      "wariancja: 0.5990739784946237\n",
      "0.15824699220025895\n"
     ]
    }
   ],
   "source": [
    "# jak w pliku\n",
    "n = len(data)\n",
    "avg = sum(data) / n\n",
    "\n",
    "S = math.sqrt(sum((i - avg)**2 for i in data)/(n - 1))\n",
    "SE = S/math.sqrt(n)\n",
    "print(\"wariancja:\",S**2)\n",
    "t = (avg - mi) / SE\n",
    "\n",
    "# hipoteza jednostronna, więc p_value to \n",
    "# przedział po prawej stronie\n",
    "p_value = 1 - scipy.stats.t.cdf(t, n - 1)\n",
    "print(p_value)\n",
    "# czyli na poziomie istotności alfa = 0.05 przyjmujemy hipotezę\n",
    "# nie możemy stwierdzić z dużą pewnoscia, czy mi > 8.2"
   ]
  },
  {
   "cell_type": "code",
   "execution_count": 11,
   "metadata": {},
   "outputs": [
    {
     "name": "stdout",
     "output_type": "stream",
     "text": [
      "wariancja: 0.5892530936012694\n",
      "0.07572904100222844\n"
     ]
    }
   ],
   "source": [
    "# jak w pliku\n",
    "n = len(data) * 2\n",
    "\n",
    "S = math.sqrt(2 * sum((i - avg)**2 for i in data)/(n - 1))\n",
    "SE = S/math.sqrt(n)\n",
    "print(\"wariancja:\",S**2)\n",
    "t = (avg - mi) / SE\n",
    "\n",
    "# hipoteza jednostronna, więc p_value to \n",
    "# przedział po prawej stronie\n",
    "p_value = 1 - scipy.stats.t.cdf(t, n - 1)\n",
    "print(p_value)\n",
    "# czyli na poziomie istotności alfa = 0.05 przyjmujemy hipotezę\n",
    "# nie możemy stwierdzić z dużą pewnoscia, czy mi > 8.2"
   ]
  },
  {
   "cell_type": "code",
   "execution_count": 12,
   "metadata": {},
   "outputs": [
    {
     "name": "stdout",
     "output_type": "stream",
     "text": [
      "wariancja: 0.5835136154168414\n",
      "0.011163927587735323\n"
     ]
    }
   ],
   "source": [
    "# jak w pliku\n",
    "n = len(data) * 5\n",
    "\n",
    "S = math.sqrt(5 * sum((i - avg)**2 for i in data)/(n - 1))\n",
    "SE = S/math.sqrt(n)\n",
    "print(\"wariancja:\",S**2)\n",
    "t = (avg - mi) / SE\n",
    "\n",
    "# hipoteza jednostronna, więc p_value to \n",
    "# przedział po prawej stronie\n",
    "p_value = 1 - scipy.stats.t.cdf(t, n - 1)\n",
    "print(p_value)\n",
    "# czyli na poziomie istotności alfa = 0.05 odrzucamy hipotezę\n",
    "# stwierdzamy z dużą pewnoscia, że mi > 8.2"
   ]
  },
  {
   "cell_type": "code",
   "execution_count": 3,
   "metadata": {},
   "outputs": [
    {
     "name": "stdout",
     "output_type": "stream",
     "text": [
      "0.2936837572807312\n"
     ]
    }
   ],
   "source": [
    "x = 1\n",
    "for i in range (365,335,-1):\n",
    "    x *= i/365\n",
    "print(x)"
   ]
  },
  {
   "cell_type": "code",
   "execution_count": null,
   "metadata": {},
   "outputs": [],
   "source": []
  }
 ],
 "metadata": {
  "kernelspec": {
   "display_name": "Python 3",
   "language": "python",
   "name": "python3"
  },
  "language_info": {
   "codemirror_mode": {
    "name": "ipython",
    "version": 3
   },
   "file_extension": ".py",
   "mimetype": "text/x-python",
   "name": "python",
   "nbconvert_exporter": "python",
   "pygments_lexer": "ipython3",
   "version": "3.8.3"
  }
 },
 "nbformat": 4,
 "nbformat_minor": 4
}
