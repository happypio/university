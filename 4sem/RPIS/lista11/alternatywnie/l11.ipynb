{
 "metadata": {
  "language_info": {
   "codemirror_mode": {
    "name": "ipython",
    "version": 3
   },
   "file_extension": ".py",
   "mimetype": "text/x-python",
   "name": "python",
   "nbconvert_exporter": "python",
   "pygments_lexer": "ipython3",
   "version": "3.8.5"
  },
  "orig_nbformat": 2,
  "kernelspec": {
   "name": "python38564bit15739fc702ac4a39a51b6a8572e59d06",
   "display_name": "Python 3.8.5 64-bit"
  },
  "metadata": {
   "interpreter": {
    "hash": "31f2aee4e71d21fbe5cf8b01ff0e069b9275f58929596ceb00d14d90e3e16cd6"
   }
  }
 },
 "nbformat": 4,
 "nbformat_minor": 2,
 "cells": [
  {
   "source": [
    "### Zadanie 1"
   ],
   "cell_type": "markdown",
   "metadata": {}
  },
  {
   "cell_type": "code",
   "execution_count": 2,
   "metadata": {},
   "outputs": [
    {
     "output_type": "stream",
     "name": "stdout",
     "text": [
      "11.371534195933497\n0.0033955368224991567\n"
     ]
    }
   ],
   "source": [
    "import csv\n",
    "from collections import defaultdict\n",
    "import scipy.stats\n",
    "\n",
    "data = defaultdict(list)\n",
    "avgs = defaultdict(int)\n",
    "general_avg = 0\n",
    "\n",
    "with open('rp11-01.csv', newline='') as csvfile:\n",
    "    reader = csv.reader(csvfile, delimiter=',')\n",
    "    for row in reader:\n",
    "        data[row[1]].append(int(row[0]))\n",
    "\n",
    "for key in data.keys():\n",
    "    general_avg += sum(data[key])\n",
    "    avgs[key] = sum(data[key])/len(data[key])\n",
    "\n",
    "general_avg /= 15\n",
    "\n",
    "SSA = 5*sum([(x - general_avg)**2 for x in avgs.values()])\n",
    "SSTot = 0\n",
    "for i in data.keys():\n",
    "    for j in range(len(data[i])):\n",
    "        SSTot += (data[i][j] - general_avg)**2\n",
    "\n",
    "SSE = SSTot - SSA\n",
    "\n",
    "MSA = SSA / (len(data)-1)\n",
    "MSE = SSE / (3*(5 - 1))\n",
    "\n",
    "t = MSA / MSE\n",
    "print(t)\n",
    "\n",
    "p_value = 2*(1 - scipy.stats.f.cdf(t, dfn = 2, dfd = 12))\n",
    "print(p_value)\n",
    "\n",
    "# Przy poziomie istotności alfa = 0.05 hipotezę odrzucamy\n"
   ]
  },
  {
   "source": [
    "### Zadanie 2"
   ],
   "cell_type": "markdown",
   "metadata": {}
  },
  {
   "cell_type": "code",
   "execution_count": 3,
   "metadata": {},
   "outputs": [
    {
     "output_type": "stream",
     "name": "stdout",
     "text": [
      "6.239257643869678e-08\n"
     ]
    }
   ],
   "source": [
    "data = defaultdict(list)\n",
    "avgs = defaultdict(int)\n",
    "general_avg = 0\n",
    "\n",
    "rows = []\n",
    "with open('rp11-02.csv', newline='') as csvfile:\n",
    "    reader = csv.reader(csvfile, delimiter=',')\n",
    "    for row in reader:\n",
    "        temp = []\n",
    "        for el in row:\n",
    "            temp.append(el)\n",
    "        if len(temp) < 4:\n",
    "            temp.append('')\n",
    "        rows.append(temp)\n",
    "\n",
    "n = 0\n",
    "\n",
    "for i in range(1, len(rows)):\n",
    "    for j in range(len(rows[0])):\n",
    "        if rows[i][j] != '':\n",
    "            n+=1\n",
    "            data[rows[0][j]].append(int(rows[i][j]))\n",
    "\n",
    "for key in data.keys():\n",
    "    general_avg += sum(data[key])\n",
    "    avgs[key] = sum(data[key])/len(data[key])\n",
    "\n",
    "general_avg /= n\n",
    "\n",
    "SSA = 0\n",
    "\n",
    "for avg_i in avgs:\n",
    "    SSA += len(data[avg_i])*(avgs[avg_i] - general_avg)**2\n",
    "\n",
    "SSTot = 0\n",
    "for i in data.keys():\n",
    "    for j in range(len(data[i])):\n",
    "        SSTot += (data[i][j] - general_avg)**2\n",
    "\n",
    "SSE = SSTot - SSA\n",
    "MSA =  SSA/3\n",
    "MSE = SSE/58\n",
    "\n",
    "t = MSA / MSE \n",
    "p_value = 2*(1-scipy.stats.f.cdf(t, dfn = 3, dfd = 58))\n",
    "print(p_value)\n",
    "#czyli odrzucamy hipotezę"
   ]
  },
  {
   "source": [
    "### Zadanie 3"
   ],
   "cell_type": "markdown",
   "metadata": {}
  },
  {
   "cell_type": "code",
   "execution_count": 19,
   "metadata": {},
   "outputs": [
    {
     "output_type": "stream",
     "name": "stdout",
     "text": [
      "0.887627170146963\n"
     ]
    }
   ],
   "source": [
    "data = defaultdict(list)\n",
    "avgs = defaultdict(int)\n",
    "general_avg = 0\n",
    "\n",
    "rows = []\n",
    "with open('rp11-03.csv', newline='') as csvfile:\n",
    "    reader = csv.reader(csvfile, delimiter=',')\n",
    "    for row in reader:\n",
    "        temp = []\n",
    "        for el in row:\n",
    "            temp.append(el)\n",
    "        if len(temp) < 4:\n",
    "            temp.append('')\n",
    "        rows.append(temp)\n",
    "\n",
    "n = 0\n",
    "\n",
    "for i in range(1, len(rows)):\n",
    "    for j in range(len(rows[0])):\n",
    "        if rows[i][j] != '':\n",
    "            n+=1\n",
    "            data[rows[0][j]].append(int(rows[i][j]))\n",
    "\n",
    "for key in data.keys():\n",
    "    general_avg += sum(data[key])\n",
    "    avgs[key] = sum(data[key])/len(data[key])\n",
    "\n",
    "general_avg /= n\n",
    "\n",
    "SSA = 0\n",
    "\n",
    "for avg_i in avgs:\n",
    "    SSA += len(data[avg_i])*(avgs[avg_i] - general_avg)**2\n",
    "\n",
    "SSTot = 0\n",
    "for i in data.keys():\n",
    "    for j in range(len(data[i])):\n",
    "        SSTot += (data[i][j] - general_avg)**2\n",
    "\n",
    "SSE = SSTot - SSA\n",
    "MSA =  SSA/3\n",
    "MSE = SSE/58\n",
    "\n",
    "t = MSA / MSE\n",
    "p_value = 1-scipy.stats.f.cdf(t, dfn = 3, dfd = 58)\n",
    "print(p_value)\n",
    "# Czyli nie mamy podstaw do odrzucenia hipotezy"
   ]
  },
  {
   "source": [
    "### Zadanie 4\n"
   ],
   "cell_type": "markdown",
   "metadata": {}
  },
  {
   "cell_type": "code",
   "execution_count": 5,
   "metadata": {},
   "outputs": [],
   "source": [
    "data_producers = defaultdict(list)\n",
    "data_type = defaultdict(list)\n",
    "avgs = defaultdict(int)\n",
    "general_avg = 0\n",
    "\n",
    "rows = []\n",
    "with open('rp11-04.csv', newline='') as csvfile:\n",
    "    reader = csv.reader(csvfile, delimiter=',')\n",
    "    for row in reader:\n",
    "        rows.append(row)\n",
    "\n",
    "for i in range(1, len(rows)):\n",
    "    for j in range(1, len(rows[i])):\n",
    "        if rows[i][j] != '':\n",
    "            data_producers[rows[i][0]].append(int(rows[i][j]))\n",
    "\n",
    "for i in range(1, len(rows)):\n",
    "    for j in range(1, len(rows[i])):\n",
    "        if rows[i][j] != '':\n",
    "            data_type[rows[0][j]].append(int(rows[i][j]))\n",
    "            "
   ]
  },
  {
   "source": [
    "#### Niezależność od producenta\n"
   ],
   "cell_type": "markdown",
   "metadata": {}
  },
  {
   "source": [
    "avgs = defaultdict(int)\n",
    "general_avg = 0\n",
    "for key in data_producers.keys():\n",
    "    general_avg += sum(data_producers[key])\n",
    "    avgs[key] = sum(data_producers[key])/len(data_producers[key])\n",
    "\n",
    "general_avg /= 15\n",
    "\n",
    "SSA = 3*sum([(x - general_avg)**2 for x in avgs.values()])\n",
    "\n",
    "SSTot = 0\n",
    "for i in data_producers.keys():\n",
    "    for j in range(len(data_producers[i])):\n",
    "        SSTot += (data_producers[i][j] - general_avg)**2\n",
    "\n",
    "SSE = SSTot - SSA\n",
    "\n",
    "MSA = SSA / (len(data_producers)-1)\n",
    "MSE = SSE / (5*(3 - 1))\n",
    "\n",
    "t = MSA / MSE\n",
    "\n",
    "print(scipy.stats.f.cdf(t, dfn = 4, dfd = 10))\n",
    "\n",
    "p_value = 1-scipy.stats.f.cdf(t, dfn = 4, dfd = 10)\n",
    "print(p_value)\n",
    "\n",
    "# Zatem nie ma podstaw do odrzucenia hipotezy - czyli wytrzymałość jest niezależna od producenta"
   ],
   "cell_type": "code",
   "metadata": {},
   "execution_count": 20,
   "outputs": [
    {
     "output_type": "stream",
     "name": "stdout",
     "text": [
      "0.002934042163318725\n0.9970659578366813\n"
     ]
    }
   ]
  },
  {
   "source": [
    "#### Wytrzymałość a rodzaj opony\n"
   ],
   "cell_type": "markdown",
   "metadata": {}
  },
  {
   "cell_type": "code",
   "execution_count": 22,
   "metadata": {},
   "outputs": [
    {
     "output_type": "stream",
     "name": "stdout",
     "text": [
      "0.9997146131646496\n0.00028538683535039855\n"
     ]
    }
   ],
   "source": [
    "avgs = defaultdict(int)\n",
    "general_avg = 0\n",
    "for key in data_type.keys():\n",
    "    general_avg += sum(data_type[key])\n",
    "    avgs[key] = sum(data_type[key])/len(data_type[key])\n",
    "\n",
    "general_avg /= 15\n",
    "\n",
    "SSA = 5*sum([(x - general_avg)**2 for x in avgs.values()])\n",
    "\n",
    "SSTot = 0\n",
    "for i in data_type.keys():\n",
    "    for j in range(len(data_type[i])):\n",
    "        SSTot += (data_type[i][j] - general_avg)**2\n",
    "\n",
    "SSE = SSTot - SSA\n",
    "\n",
    "MSA = SSA / (len(data_type)-1)\n",
    "MSE = SSE / (3*(5 - 1))\n",
    "\n",
    "t = MSA / MSE\n",
    "\n",
    "print(scipy.stats.f.cdf(t, dfn = 2, dfd = 12))\n",
    "\n",
    "p_value = 1-scipy.stats.f.cdf(t, dfn = 2, dfd = 12)\n",
    "print(p_value)\n",
    "\n",
    "# Zatem odrzuacmy hipoteze o równości średnich - czyli różne rodzaje opon mają różną wytrzymałość"
   ]
  },
  {
   "source": [
    "### Zadanie 9"
   ],
   "cell_type": "markdown",
   "metadata": {}
  },
  {
   "cell_type": "code",
   "execution_count": 8,
   "metadata": {},
   "outputs": [
    {
     "output_type": "stream",
     "name": "stdout",
     "text": [
      "2.1447866879169277\nprzedział: (2689.5671602427456, 2984.2995064239212\np1 value: 0.9650304721854002\np1 value: 0.8519027195830752\np1 value: 0.5883008855237513\n"
     ]
    }
   ],
   "source": [
    "import numpy as np\n",
    "rows = []\n",
    "with open('rp11-09.csv', newline='') as csvfile:\n",
    "    reader = csv.reader(csvfile, delimiter=',')\n",
    "    for row in reader:\n",
    "        if row[0] != 'Czas':\n",
    "            rows.append(int(row[0]))\n",
    "\n",
    "avg = sum(rows) / 15\n",
    "squared_err = [(x - avg)**2 for x in rows]\n",
    "\n",
    "S2 = (1/15)*sum(squared_err)\n",
    "t = scipy.stats.t.isf(0.025, df=14)\n",
    "print(t)\n",
    "\n",
    "interval_start = avg - t*np.sqrt(S2)/np.sqrt(14)\n",
    "interval_end = avg + t*np.sqrt(S2)/np.sqrt(14)\n",
    "\n",
    "print(f\"przedział: ({interval_start}, {interval_end}\")\n",
    "\n",
    "h1 = (avg - 2840)*np.sqrt(14)/np.sqrt(S2)\n",
    "p1 = 2*scipy.stats.t.cdf(h1, df=14)\n",
    "print(f\"p1 value: {p1}\")\n",
    "\n",
    "\n",
    "h2 = (avg - 2850)*np.sqrt(14)/np.sqrt(S2)\n",
    "p2 = 2*scipy.stats.t.cdf(h2, df=14)\n",
    "print(f\"p1 value: {p2}\")\n",
    "\n",
    "h3 = (avg - 2875)*np.sqrt(14)/np.sqrt(S2)\n",
    "p3 = 2*scipy.stats.t.cdf(h3, df=14)\n",
    "print(f\"p1 value: {p3}\")\n"
   ]
  },
  {
   "source": [
    "### Zadanie 10(E3)"
   ],
   "cell_type": "markdown",
   "metadata": {}
  },
  {
   "cell_type": "code",
   "execution_count": 9,
   "metadata": {},
   "outputs": [
    {
     "output_type": "stream",
     "name": "stdout",
     "text": [
      "defaultdict(<class 'list'>, {'Cukier': [1, 1, 1, 1, 1, 1, 1, 1, 1, 1, 2, 2, 2, 2, 2, 2, 2, 2, 2, 2], 'Waga': [1, 1, 1, 1, 1, 2, 2, 2, 2, 2, 1, 1, 1, 1, 1, 2, 2, 2, 2, 2], 'Cisnienie': [70, 80, 83, 85, 65, 85, 80, 90, 95, 88, 85, 90, 95, 90, 86, 90, 95, 100, 105, 110]})\n"
     ]
    }
   ],
   "source": [
    "data = defaultdict(list)\n",
    "avgs = defaultdict(int)\n",
    "general_avg = 0\n",
    "\n",
    "rows = []\n",
    "with open('rp11-10.csv', newline='') as csvfile:\n",
    "    reader = csv.reader(csvfile, delimiter=',')\n",
    "    for row in reader:\n",
    "        rows.append(row)\n",
    "\n",
    "for i in range(1, len(rows)):\n",
    "    for j in range(len(rows[i])):\n",
    "        data[rows[0][j]].append(int(rows[i][j]))\n",
    "\n",
    "print(data)"
   ]
  },
  {
   "source": [
    "#### Poziom cukru a ciśnienie - hipoteza:  cisnienie nie zalezy od cukru (srednie cisnien w obu grupach są te same)\n"
   ],
   "cell_type": "markdown",
   "metadata": {}
  },
  {
   "cell_type": "code",
   "execution_count": 10,
   "metadata": {},
   "outputs": [
    {
     "output_type": "stream",
     "name": "stdout",
     "text": [
      "0.00893724525587447\n"
     ]
    }
   ],
   "source": [
    "normalny = []\n",
    "for i in range(len(data['Cisnienie'])):\n",
    "    if data['Cukier'][i] == 1:\n",
    "        normalny.append(data['Cisnienie'][i])\n",
    "\n",
    "podwyzszony = []\n",
    "for i in range(len(data['Cisnienie'])):\n",
    "    if data['Cukier'][i] == 2:\n",
    "        podwyzszony.append(data['Cisnienie'][i])\n",
    "\n",
    "normalny_avg = sum(normalny) / len(normalny)\n",
    "podwyzszony_avg = sum(podwyzszony)/ len(podwyzszony)\n",
    "general_avg = (sum(normalny)+sum(podwyzszony)) / (len(normalny) + len(podwyzszony))\n",
    "\n",
    "ssa = len(normalny)* ((normalny_avg - general_avg)**2 + (podwyzszony_avg - general_avg)**2)\n",
    "sstot = 0\n",
    "for i in range(len(normalny)):\n",
    "    sstot += (normalny[i] - general_avg)**2\n",
    "\n",
    "for i in range(len(podwyzszony)):\n",
    "    sstot += (podwyzszony[i] - general_avg)**2\n",
    "sse = sstot - ssa\n",
    "\n",
    "msa = ssa / 1\n",
    "mse = sse / 18\n",
    "\n",
    "t = msa / mse\n",
    "\n",
    "p_value = 2*(1-scipy.stats.f.cdf(t, dfn = 1, dfd = 18))\n",
    "print(p_value)\n",
    "\n",
    "# Czyli odrzucamy hipotezę"
   ]
  },
  {
   "source": [
    "#### Związek między wagą a ciśnieniem - hipoteza: cisnienie nie zalezy od wagi (srednie takie same)\n",
    "\n"
   ],
   "cell_type": "markdown",
   "metadata": {}
  },
  {
   "cell_type": "code",
   "execution_count": 11,
   "metadata": {},
   "outputs": [
    {
     "output_type": "stream",
     "name": "stdout",
     "text": [
      "0.022105454694833604\n"
     ]
    }
   ],
   "source": [
    "normalny = []\n",
    "for i in range(len(data['Cisnienie'])):\n",
    "    if data['Waga'][i] == 1:\n",
    "        normalny.append(data['Cisnienie'][i])\n",
    "\n",
    "podwyzszony = []\n",
    "for i in range(len(data['Cisnienie'])):\n",
    "    if data['Waga'][i] == 2:\n",
    "        podwyzszony.append(data['Cisnienie'][i])\n",
    "\n",
    "normalny_avg = sum(normalny) / len(normalny)\n",
    "podwyzszony_avg = sum(podwyzszony)/ len(podwyzszony)\n",
    "general_avg = (sum(normalny)+sum(podwyzszony)) / (len(normalny) + len(podwyzszony))\n",
    "\n",
    "ssb = len(normalny)* ((normalny_avg - general_avg)**2 + (podwyzszony_avg - general_avg)**2)\n",
    "sstot = 0\n",
    "for i in range(len(normalny)):\n",
    "    sstot += (normalny[i] - general_avg)**2\n",
    "\n",
    "for i in range(len(podwyzszony)):\n",
    "    sstot += (podwyzszony[i] - general_avg)**2\n",
    "sse = sstot - ssa\n",
    "\n",
    "msb = ssb / 1\n",
    "mse = sse / 18\n",
    "\n",
    "t = msb / mse\n",
    "\n",
    "p_value = 2*(1-scipy.stats.f.cdf(t, dfn = 1, dfd = 18))\n",
    "print(p_value)\n",
    "# A więc odrzucamy hipotezę"
   ]
  },
  {
   "source": [
    "#### Interakcja wagi z poziomem cukru - hipoteza: cisnienie nie zalezy od interakcji (ANOVA 2 czynnikowa z powtorzeniami)\n"
   ],
   "cell_type": "markdown",
   "metadata": {}
  },
  {
   "cell_type": "code",
   "execution_count": 12,
   "metadata": {},
   "outputs": [
    {
     "output_type": "stream",
     "name": "stdout",
     "text": [
      "0.051673680282005204\n"
     ]
    }
   ],
   "source": [
    "cukier_normalny = defaultdict(list)\n",
    "cukier_podwyzszony = defaultdict(list)\n",
    "\n",
    "for i in range(len(data['Cisnienie'])):\n",
    "    if data['Cukier'][i] == 1:\n",
    "        cukier_normalny[data['Waga'][i]].append(data['Cisnienie'][i])\n",
    "    else:\n",
    "        cukier_podwyzszony[data['Waga'][i]].append(data['Cisnienie'][i])\n",
    "\n",
    "sse = 0\n",
    "for k in range(1, 3):\n",
    "    avg_temp = sum(cukier_normalny[k]) / len(cukier_normalny[k])\n",
    "    for i in range(len(cukier_normalny[k])):\n",
    "        sse += (cukier_normalny[k][i] - avg_temp)**2\n",
    "\n",
    "for k in range(1, 3):\n",
    "    avg_temp = sum(cukier_podwyzszony[k]) / len(cukier_podwyzszony[k])\n",
    "    for i in range(len(cukier_podwyzszony[k])):\n",
    "        sse += (cukier_podwyzszony[k][i] - avg_temp)**2\n",
    "\n",
    "ssab = sstot-ssa-ssb-sse\n",
    "\n",
    "msab = ssab/1\n",
    "mse = sse/16\n",
    "\n",
    "t = msab/mse\n",
    "\n",
    "p_value = 2*(scipy.stats.f.cdf(t, dfn = 1, dfd = 16))\n",
    "print(p_value)\n",
    "#p_value na pograniczu odrzucenia"
   ]
  },
  {
   "source": [
    "### Zadanie 11"
   ],
   "cell_type": "markdown",
   "metadata": {}
  },
  {
   "source": [
    "#### Związek między nośnikiem reklamy a skutecznością reklamy - hipoteza: Skutecznosc reklamy nie zalezy od nosnika (rowne srednie)"
   ],
   "cell_type": "markdown",
   "metadata": {}
  },
  {
   "cell_type": "code",
   "execution_count": 13,
   "metadata": {},
   "outputs": [
    {
     "output_type": "stream",
     "name": "stdout",
     "text": [
      "781.25\n0.0023804063990084945\n"
     ]
    }
   ],
   "source": [
    "nosnik = defaultdict(list)\n",
    "avgs = defaultdict(int)\n",
    "general_avg = 0\n",
    "\n",
    "rows = []\n",
    "with open('rp11-11.csv', newline='') as csvfile:\n",
    "    reader = csv.reader(csvfile, delimiter=',')\n",
    "    for row in reader:\n",
    "        rows.append(row)\n",
    "\n",
    "for i in range(1, len(rows)):\n",
    "    nosnik[rows[i][0]].append(int(rows[i][2]))\n",
    "\n",
    "for key in nosnik.keys():\n",
    "    general_avg += sum(nosnik[key])\n",
    "    avgs[key] = sum(nosnik[key])/len(nosnik[key])\n",
    "\n",
    "general_avg /= 18\n",
    "\n",
    "SSA = 6*sum([(x - general_avg)**2 for x in avgs.values()])\n",
    "SSTot = 0\n",
    "for i in nosnik.keys():\n",
    "    for j in range(len(nosnik[i])):\n",
    "        SSTot += (nosnik[i][j] - general_avg)**2\n",
    "\n",
    "SSE = SSTot - SSA\n",
    "\n",
    "print(ssa)\n",
    "\n",
    "MSA = SSA / (len(nosnik)-1)\n",
    "MSE = SSE / (3*(6 - 1))\n",
    "\n",
    "t = MSA / MSE\n",
    "\n",
    "p_value = 2*(1 - scipy.stats.f.cdf(t, dfn = 2, dfd = 12))\n",
    "print(p_value)\n",
    "#Zatem odrzucamy hipoteze -> nosnik ma znaczenie\n",
    "\n"
   ]
  },
  {
   "source": [
    "#### Związek między tematem reklamy a jej nośnikiem - ANOVA dwuczynnikowa z replikacją"
   ],
   "cell_type": "markdown",
   "metadata": {}
  },
  {
   "source": [
    "#### hipoteza: skutecznosc reklamy niez zalezy od interakcji pomiedzy nosnikiem a tematem"
   ],
   "cell_type": "markdown",
   "metadata": {}
  },
  {
   "cell_type": "code",
   "execution_count": 14,
   "metadata": {},
   "outputs": [
    {
     "output_type": "stream",
     "name": "stdout",
     "text": [
      "0.00031169839293543333\ndefaultdict(<function <lambda> at 0x7f0c7d5fe550>, {'Radio': defaultdict(<class 'list'>, {'Cena': 17.333333333333332, 'Jakosc': 16.666666666666668}), 'Prasa': defaultdict(<class 'list'>, {'Cena': 32.333333333333336, 'Jakosc': 24.666666666666668}), 'Internet': defaultdict(<class 'list'>, {'Cena': 25.0, 'Jakosc': 37.333333333333336})})\n"
     ]
    }
   ],
   "source": [
    "nosnik_typ = defaultdict(lambda: defaultdict(list))\n",
    "temat_typ = defaultdict(lambda: defaultdict(list))\n",
    "temat_avg = defaultdict(int)\n",
    "avgs_typ = defaultdict(lambda: defaultdict(list))\n",
    "avgs_nosnik = defaultdict(int)\n",
    "\n",
    "avg_qual = 0\n",
    "avg_price = 0\n",
    "\n",
    "general_avg = 0\n",
    "\n",
    "for i in range(1, len(rows)):\n",
    "    nosnik_typ[rows[i][0]][rows[i][1]].append(int(rows[i][2]))\n",
    "\n",
    "for i in range(1, len(rows)):\n",
    "    temat_typ[rows[i][1]][rows[i][0]].append(int(rows[i][2]))\n",
    "\n",
    "for key in nosnik_typ.keys():\n",
    "    for key2 in nosnik_typ[key].keys():\n",
    "        avgs_nosnik[key] += sum(nosnik_typ[key][key2])\n",
    "        general_avg +=sum(nosnik_typ[key][key2])\n",
    "        avgs_typ[key][key2] = sum(nosnik_typ[key][key2]) / len(nosnik_typ[key][key2])\n",
    "    avgs_nosnik[key] /= 6\n",
    "\n",
    "for key in temat_typ.keys():\n",
    "    for key2 in temat_typ[key].keys():\n",
    "        temat_avg[key] += sum(temat_typ[key][key2])\n",
    "    temat_avg[key] /= 9 \n",
    "\n",
    "general_avg /= 18\n",
    "\n",
    "ssa = 0 #nosnik\n",
    "\n",
    "for key in avgs_nosnik.keys():\n",
    "    ssa += (avgs_nosnik[key] - general_avg)**2\n",
    "\n",
    "ssa *= 3*2\n",
    "\n",
    "ssb = 0 # temat\n",
    "\n",
    "for key in temat_avg.keys():\n",
    "    ssb += (temat_avg[key] - general_avg)**2\n",
    "ssb *= 3*3\n",
    "\n",
    "ssab = 0\n",
    "\n",
    "for key in avgs_typ.keys():\n",
    "    for key2 in avgs_typ[key].keys():\n",
    "        ssab += (avgs_typ[key][key2] - avgs_nosnik[key] - temat_avg[key2]+general_avg)**2\n",
    "\n",
    "ssab *= 3\n",
    "\n",
    "sstot = 0\n",
    "\n",
    "for key in nosnik_typ.keys():\n",
    "    for key2 in nosnik_typ[key].keys():\n",
    "        for i in range(len(nosnik_typ[key][key2])):\n",
    "            sstot += (nosnik_typ[key][key2][i] - general_avg)**2\n",
    "\n",
    "sse = sstot - ssa - ssb - ssab\n",
    "\n",
    "msab = ssab / 2\n",
    "mse = sse / 12\n",
    "\n",
    "t = msab/mse\n",
    "\n",
    "p_value = 2*(1 - scipy.stats.f.cdf(t, dfn = 2, dfd = 12))\n",
    "print(p_value) # czyli odrzucamy hipoteze \n",
    "\n",
    "print(avgs_typ)\n",
    "#Podpunkt b: Czyli najlepsza jest reklama  internet - jakosc (srednia- 37.(3))\n"
   ]
  },
  {
   "source": [
    "### Zadanie 12"
   ],
   "cell_type": "markdown",
   "metadata": {}
  },
  {
   "cell_type": "code",
   "execution_count": 15,
   "metadata": {},
   "outputs": [
    {
     "output_type": "stream",
     "name": "stdout",
     "text": [
      "defaultdict(<class 'list'>, {0: [93, 99, 95, 80, 86, 98, 98, 94, 89, 95, 97, 96, 90, 85, 95, 91], 1: [88, 95, 86, 77, 88, 94, 94, 88, 93, 95, 91, 82, 90, 79, 81, 89]})\n"
     ]
    }
   ],
   "source": [
    "wagi = defaultdict(list)\n",
    "avgs = defaultdict(int)\n",
    "general_avg = 0\n",
    "rows = []\n",
    "with open('rp11-13.csv', newline='') as csvfile:\n",
    "    reader = csv.reader(csvfile, delimiter=',')\n",
    "    for row in reader:\n",
    "        rows.append(row)\n",
    "\n",
    "for row in rows:\n",
    "    wagi[0].append(int(row[0]))\n",
    "    wagi[1].append(int(row[1]))\n",
    "\n",
    "print(wagi)"
   ]
  },
  {
   "source": [
    "#### Anova 1 czynnik - hipoteza: dieta nie zmienia wagi (równe srednie)\n"
   ],
   "cell_type": "markdown",
   "metadata": {}
  },
  {
   "cell_type": "code",
   "execution_count": 16,
   "metadata": {},
   "outputs": [
    {
     "output_type": "stream",
     "name": "stdout",
     "text": [
      "0.06356748524636746\n"
     ]
    }
   ],
   "source": [
    "\n",
    "avgs[0] = sum(wagi[0]) / len(wagi[0])\n",
    "avgs[1] = sum(wagi[1]) / len(wagi[1])\n",
    "\n",
    "general_avg = (sum(wagi[0]) + sum(wagi[1])) / (len(wagi[0]) + len(wagi[1]))\n",
    "\n",
    "ssa = (avgs[0] - general_avg)**2 + (avgs[1] - general_avg)**2\n",
    "ssa *= 16\n",
    "\n",
    "sstot = 0\n",
    "for key in wagi.keys():\n",
    "    for i in range(len(wagi[key])):\n",
    "        sstot += (wagi[key][i] - general_avg)**2\n",
    "\n",
    "sse = sstot - ssa\n",
    "\n",
    "msa = ssa / 1\n",
    "mse = sse / 30\n",
    "\n",
    "t = msa / mse\n",
    "\n",
    "p_value = 2*(1 - scipy.stats.f.cdf(t, dfn = 1, dfd = 30))\n",
    "print(p_value)\n",
    "#Czyli dla lfa= 0.05, nie ma podstaw do odrzucenia hipotezy\n"
   ]
  },
  {
   "source": [
    "#### Zadanie 13"
   ],
   "cell_type": "markdown",
   "metadata": {}
  },
  {
   "cell_type": "code",
   "execution_count": 17,
   "metadata": {},
   "outputs": [
    {
     "output_type": "stream",
     "name": "stdout",
     "text": [
      "defaultdict(<class 'list'>, {0: [60, 65, 79, 55, 75, 60, 69, 108, 77, 88], 1: [57, 60, 70, 60, 70, 65, 59, 101, 67, 86]})\n"
     ]
    }
   ],
   "source": [
    "poletka = defaultdict(list)\n",
    "avgs = defaultdict(int)\n",
    "general_avg = 0\n",
    "rows = []\n",
    "with open('rp11-12.csv', newline='') as csvfile:\n",
    "    reader = csv.reader(csvfile, delimiter=';')\n",
    "    for row in reader:\n",
    "        rows.append(row)\n",
    "\n",
    "for row in rows:\n",
    "    poletka[0].append(int(row[0]))\n",
    "    poletka[1].append(int(row[1]))\n",
    "\n",
    "print(poletka)\n"
   ]
  },
  {
   "source": [
    "#### Anova 1 czynnik - hipoteza: czynnik nie daje efektów (równe średnie)"
   ],
   "cell_type": "markdown",
   "metadata": {}
  },
  {
   "cell_type": "code",
   "execution_count": 18,
   "metadata": {},
   "outputs": [
    {
     "output_type": "stream",
     "name": "stdout",
     "text": [
      "0.9091991442709739\n"
     ]
    }
   ],
   "source": [
    "\n",
    "avgs[0] = sum(poletka[0]) / len(poletka[0])\n",
    "avgs[1] = sum(poletka[1]) / len(poletka[1])\n",
    "\n",
    "general_avg = (sum(poletka[0]) + sum(poletka[1])) / (len(poletka[0]) + len(poletka[1]))\n",
    "\n",
    "ssa = (avgs[0] - general_avg)**2 + (avgs[1] - general_avg)**2\n",
    "ssa *= 10\n",
    "\n",
    "sstot = 0\n",
    "for key in poletka.keys():\n",
    "    for i in range(len(poletka[key])):\n",
    "        sstot += (poletka[key][i] - general_avg)**2\n",
    "\n",
    "sse = sstot - ssa\n",
    "\n",
    "msa = ssa / 1\n",
    "mse = sse / 18\n",
    "\n",
    "t = msa / mse\n",
    "\n",
    "p_value = 2*scipy.stats.f.cdf(t, dfn = 1, dfd = 18)\n",
    "print(p_value)\n",
    "#Brak podstaw do odrzucenia hipotezy"
   ]
  },
  {
   "cell_type": "code",
   "execution_count": null,
   "metadata": {},
   "outputs": [],
   "source": []
  }
 ]
}