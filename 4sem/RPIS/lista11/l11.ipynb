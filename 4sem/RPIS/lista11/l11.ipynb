{
 "cells": [
  {
   "cell_type": "markdown",
   "metadata": {},
   "source": [
    "### Zadanie 1"
   ]
  },
  {
   "cell_type": "code",
   "execution_count": 1,
   "metadata": {},
   "outputs": [
    {
     "name": "stdout",
     "output_type": "stream",
     "text": [
      "defaultdict(<class 'list'>, {'A': [246, 231, 236, 217, 246], 'B': [243, 246, 243, 235, 235], 'C': [265, 260, 265, 253, 291]})\n",
      "2870.933333333337 4385.733333333334\n",
      "11.371534195933497\n",
      "0.0016977684112495783\n"
     ]
    }
   ],
   "source": [
    "import csv\n",
    "from collections import defaultdict\n",
    "import scipy.stats\n",
    "\n",
    "data = defaultdict(list)\n",
    "global_avg = 0\n",
    "\n",
    "with open('rp11-01.csv', newline='') as csvfile:\n",
    "    reader = csv.reader(csvfile, delimiter=',')\n",
    "    for row in reader:\n",
    "        data[row[1]].append(int(row[0]))\n",
    "print(data)\n",
    "\n",
    "\n",
    "avgs = defaultdict(int)\n",
    "for key in data.keys():\n",
    "    global_avg += sum(data[key])\n",
    "    avgs[key] = sum(data[key])/len(data[key])\n",
    "\n",
    "global_avg /= 15\n",
    "\n",
    "SSA = 5*sum([(x - global_avg)**2 for x in avgs.values()])\n",
    "SSTot = 0\n",
    "for i in data.keys():\n",
    "    for j in range(len(data[i])):\n",
    "        SSTot += (data[i][j] - global_avg)**2\n",
    "\n",
    "\n",
    "print(SSA,SSTot)\n",
    "SSE = SSTot - SSA\n",
    "\n",
    "MSA = SSA / 2 # (I - 1) = 3 - 1\n",
    "MSE = SSE / 12 #(I(n - 1)) = 3*(5 - 1)\n",
    "\n",
    "t = MSA / MSE\n",
    "print(t)\n",
    "\n",
    "p_value = 1 - scipy.stats.f.cdf(t, dfn = 2, dfd = 12)\n",
    "print(p_value)\n",
    "\n",
    "# Przy poziomie istotności alfa = 0.05 hipotezę odrzucamy"
   ]
  },
  {
   "cell_type": "markdown",
   "metadata": {},
   "source": [
    "### Zadanie 2"
   ]
  },
  {
   "cell_type": "code",
   "execution_count": 15,
   "metadata": {},
   "outputs": [
    {
     "name": "stdout",
     "output_type": "stream",
     "text": [
      "defaultdict(<class 'list'>, {'A': [41, 43, 45, 44, 42, 48, 49, 48, 47, 45, 47, 45, 46, 45, 48, 40, 44, 39], 'B': [44, 40, 37, 43, 41, 43, 42, 40, 43, 42, 44, 42, 40, 37], 'C': [43, 40, 42, 41, 41, 39, 45, 38, 40, 45, 34, 43, 43, 42, 42, 39], 'D': [34, 37, 37, 41, 37, 39, 36, 41, 42, 37, 37, 33, 42, 36]})\n",
      "62\n",
      "17.569134436894323\n",
      "3.119628821934839e-08\n"
     ]
    }
   ],
   "source": [
    "data = defaultdict(list)\n",
    "avgs = defaultdict(int)\n",
    "general_avg = 0\n",
    "n = 0\n",
    "with open('rp11-02.csv', newline='') as csvfile:\n",
    "    reader = csv.reader(csvfile, delimiter=',')\n",
    "    tmp = {1:'A', 2:\"B\", 3:\"C\", 4:\"D\"}\n",
    "    for row in reader:\n",
    "        if row[0] != 'A':\n",
    "            for i in range(len(row)):\n",
    "                if row[i] != '':\n",
    "                    data[tmp[i+1]].append(int(row[i]))\n",
    "                    n += 1\n",
    "\n",
    "print(data)\n",
    "for key in data.keys():\n",
    "    general_avg += sum(data[key])\n",
    "    avgs[key] = sum(data[key])/len(data[key])\n",
    "\n",
    "print(n)\n",
    "general_avg /= n\n",
    "\n",
    "SSA = 0\n",
    "\n",
    "for avg_i in avgs:\n",
    "    SSA += len(data[avg_i])*(avgs[avg_i] - general_avg)**2\n",
    "\n",
    "SSTot = 0\n",
    "for i in data.keys():\n",
    "    for j in range(len(data[i])):\n",
    "        SSTot += (data[i][j] - general_avg)**2\n",
    "\n",
    "SSE = SSTot - SSA\n",
    "MSA =  SSA/3 \n",
    "MSE = SSE/58 # (n1 + n2 + n3 + n4 - 4 = 18 + 14 + 16 + 14 - 4\n",
    "\n",
    "t = MSA / MSE \n",
    "print(t)\n",
    "p_value = 1-scipy.stats.f.cdf(t, dfn = 3, dfd = 58)\n",
    "print(p_value)\n",
    "#czyli odrzucamy hipotezę"
   ]
  },
  {
   "cell_type": "markdown",
   "metadata": {},
   "source": [
    "### Zadanie 3"
   ]
  },
  {
   "cell_type": "code",
   "execution_count": 3,
   "metadata": {},
   "outputs": [
    {
     "name": "stdout",
     "output_type": "stream",
     "text": [
      "defaultdict(<class 'list'>, {'A': [64, 28, 33, 83, 37, 31, 60, 40, 56, 45, 10, 26, 49, 25, 52, 62, 31, 25], 'B': [64, 28, 33, 83, 37, 31, 60, 40, 56, 45, 10, 26, 49, 25], 'C': [55, 43, 53, 18, 59, 32, 27, 30, 38, 25, 42, 45, 20, 46, 46, 36], 'D': [39, 38, 45, 44, 29, 30, 50, 63, 29, 31, 14, 48, 52, 38]})\n",
      "62\n",
      "0.112372829853037\n"
     ]
    }
   ],
   "source": [
    "data = defaultdict(list)\n",
    "avgs = defaultdict(int)\n",
    "general_avg = 0\n",
    "\n",
    "general_avg = 0\n",
    "n = 0\n",
    "with open('rp11-03.csv', newline='') as csvfile:\n",
    "    reader = csv.reader(csvfile, delimiter=',')\n",
    "    tmp = {1:'A', 2:\"B\", 3:\"C\", 4:\"D\"}\n",
    "    for row in reader:\n",
    "        if row[0] != 'A':\n",
    "            for i in range(len(row)):\n",
    "                if row[i] != '':\n",
    "                    data[tmp[i+1]].append(int(row[i]))\n",
    "                    n += 1\n",
    "print(data)\n",
    "print(n)\n",
    "\n",
    "for key in data.keys():\n",
    "    general_avg += sum(data[key])\n",
    "    avgs[key] = sum(data[key])/len(data[key])\n",
    "\n",
    "general_avg /= n\n",
    "\n",
    "SSA = 0\n",
    "\n",
    "for avg_i in avgs:\n",
    "    SSA += len(data[avg_i])*(avgs[avg_i] - general_avg)**2\n",
    "\n",
    "SSTot = 0\n",
    "for i in data.keys():\n",
    "    for j in range(len(data[i])):\n",
    "        SSTot += (data[i][j] - general_avg)**2\n",
    "\n",
    "SSE = SSTot - SSA\n",
    "MSA =  SSA/3\n",
    "MSE = SSE/58\n",
    "\n",
    "t = MSA / MSE\n",
    "p_value = scipy.stats.f.cdf(t, dfn = 3, dfd = 58)\n",
    "print(p_value)\n",
    "# Czyli nie mamy podstaw do odrzucenia hipotezy"
   ]
  },
  {
   "cell_type": "markdown",
   "metadata": {},
   "source": [
    "### Zadanie 4\n"
   ]
  },
  {
   "cell_type": "code",
   "execution_count": 4,
   "metadata": {},
   "outputs": [
    {
     "name": "stdout",
     "output_type": "stream",
     "text": [
      "defaultdict(<class 'list'>, {'A': [250, 255, 261], 'B': [255, 250, 260], 'C': [245, 257, 268], 'D': [250, 255, 259], 'E': [250, 255, 262]})\n",
      "defaultdict(<class 'list'>, {'Zimowe': [250, 255, 245, 250, 250], 'Letnie': [255, 250, 257, 255, 255], 'Uniwersalne': [261, 260, 268, 259, 262]})\n"
     ]
    }
   ],
   "source": [
    "producers = defaultdict(list)\n",
    "types = defaultdict(list)\n",
    "avgs = defaultdict(int)\n",
    "general_avg = 0\n",
    "\n",
    "rows = []\n",
    "with open('rp11-04.csv', newline='') as csvfile:\n",
    "    reader = csv.reader(csvfile, delimiter=',')\n",
    "    for row in reader:\n",
    "        rows.append(row)\n",
    "\n",
    "for i in range(1, len(rows)):\n",
    "    for j in range(1, len(rows[i])):\n",
    "        if rows[i][j] != '':\n",
    "            producers[rows[i][0]].append(int(rows[i][j]))\n",
    "print(producers)\n",
    "\n",
    "for i in range(1, len(rows)):\n",
    "    for j in range(1, len(rows[i])):\n",
    "        if rows[i][j] != '':\n",
    "            types[rows[0][j]].append(int(rows[i][j]))\n",
    "            \n",
    "print(types)\n",
    "            "
   ]
  },
  {
   "cell_type": "markdown",
   "metadata": {},
   "source": [
    "#### Niezależność od producenta\n"
   ]
  },
  {
   "cell_type": "code",
   "execution_count": 5,
   "metadata": {},
   "outputs": [
    {
     "name": "stdout",
     "output_type": "stream",
     "text": [
      "0.9970659578366813\n"
     ]
    }
   ],
   "source": [
    "avgs = defaultdict(int)\n",
    "general_avg = 0\n",
    "for key in producers.keys():\n",
    "    general_avg += sum(producers[key])\n",
    "    avgs[key] = sum(producers[key])/len(producers[key])\n",
    "\n",
    "general_avg /= 15\n",
    "\n",
    "SSA = 3*sum([(x - general_avg)**2 for x in avgs.values()])\n",
    "\n",
    "SSTot = 0\n",
    "for i in producers.keys():\n",
    "    for j in range(len(producers[i])):\n",
    "        SSTot += (producers[i][j] - general_avg)**2\n",
    "\n",
    "SSE = SSTot - SSA\n",
    "\n",
    "MSA = SSA / (len(producers)-1)\n",
    "MSE = SSE / (5*(3 - 1))\n",
    "\n",
    "t = MSA / MSE\n",
    "\n",
    "\n",
    "p_value = 1 - scipy.stats.f.cdf(t, dfn = 4, dfd = 10)\n",
    "print(p_value)\n",
    "\n",
    "# Zatem nie ma podstaw do odrzucenia hipotezy - czyli wytrzymałość jest niezależna od producenta"
   ]
  },
  {
   "cell_type": "markdown",
   "metadata": {},
   "source": [
    "#### Wytrzymałość a rodzaj opony\n"
   ]
  },
  {
   "cell_type": "code",
   "execution_count": 9,
   "metadata": {},
   "outputs": [
    {
     "name": "stdout",
     "output_type": "stream",
     "text": [
      "0.9997146131646496\n",
      "0.00028538683535039855\n"
     ]
    }
   ],
   "source": [
    "avgs = defaultdict(int)\n",
    "general_avg = 0\n",
    "for key in types.keys():\n",
    "    general_avg += sum(types[key])\n",
    "    avgs[key] = sum(types[key])/len(types[key])\n",
    "\n",
    "general_avg /= 15\n",
    "\n",
    "SSA = 5*sum([(x - general_avg)**2 for x in avgs.values()])\n",
    "\n",
    "SSTot = 0\n",
    "for i in types.keys():\n",
    "    for j in range(len(types[i])):\n",
    "        SSTot += (types[i][j] - general_avg)**2\n",
    "\n",
    "SSE = SSTot - SSA\n",
    "\n",
    "MSA = SSA / (len(types)-1)\n",
    "MSE = SSE / (3*(5 - 1))\n",
    "\n",
    "t = MSA / MSE\n",
    "\n",
    "print(scipy.stats.f.cdf(t, dfn = 2, dfd = 12))\n",
    "\n",
    "p_value = 1- scipy.stats.f.cdf(t, dfn = 2, dfd = 12)\n",
    "print(p_value)\n",
    "\n",
    "# Zatem odrzuacmy hipoteze o równości średnich - czyli różne rodzaje opon mają różną wytrzymałość"
   ]
  },
  {
   "cell_type": "markdown",
   "metadata": {},
   "source": [
    "### Zadanie 9"
   ]
  },
  {
   "cell_type": "code",
   "execution_count": 10,
   "metadata": {},
   "outputs": [
    {
     "name": "stdout",
     "output_type": "stream",
     "text": [
      "2.1447866879169277\n",
      "przedział: (2984.2995064239212, 2689.5671602427456\n",
      "p1 value: 0.9650304721854002\n",
      "p1 value: 0.8519027195830752\n",
      "p1 value: 0.5883008855237513\n"
     ]
    }
   ],
   "source": [
    "import numpy as np\n",
    "rows = []\n",
    "with open('rp11-09.csv', newline='') as csvfile:\n",
    "    reader = csv.reader(csvfile, delimiter=',')\n",
    "    for row in reader:\n",
    "        if row[0] != 'Czas':\n",
    "            rows.append(int(row[0]))\n",
    "\n",
    "avg = sum(rows) / 15\n",
    "squared_err = [(x - avg)**2 for x in rows]\n",
    "\n",
    "S2 = (1/15)*sum(squared_err)\n",
    "t = scipy.stats.t.isf(0.025, df=14)\n",
    "print(t)\n",
    "\n",
    "interval_start = avg + t*np.sqrt(S2)/np.sqrt(14)\n",
    "interval_end = avg - t*np.sqrt(S2)/np.sqrt(14)\n",
    "\n",
    "print(f\"przedział: ({interval_start}, {interval_end}\")\n",
    "\n",
    "h1 = (avg - 2840)*np.sqrt(14)/np.sqrt(S2)\n",
    "p1 = 2 * min(scipy.stats.t.cdf(h1, df=14), 1 - scipy.stats.t.cdf(h1, df=14))\n",
    "print(f\"p1 value: {p1}\")\n",
    "\n",
    "\n",
    "h2 = (avg - 2850)*np.sqrt(14)/np.sqrt(S2)\n",
    "p2 = 2 * min(scipy.stats.t.cdf(h2, df=14), 1 - scipy.stats.t.cdf(h2, df=14))\n",
    "print(f\"p1 value: {p2}\")\n",
    "\n",
    "h3 = (avg - 2875)*np.sqrt(14)/np.sqrt(S2)\n",
    "p3 = 2 * min(scipy.stats.t.cdf(h3, df=14), 1 - scipy.stats.t.cdf(h3, df=14))\n",
    "print(f\"p1 value: {p3}\")\n"
   ]
  },
  {
   "cell_type": "markdown",
   "metadata": {},
   "source": [
    "### Zadanie 10(E3)"
   ]
  },
  {
   "cell_type": "code",
   "execution_count": 51,
   "metadata": {},
   "outputs": [
    {
     "name": "stdout",
     "output_type": "stream",
     "text": [
      "defaultdict(<class 'list'>, {'Cukier': [1, 1, 1, 1, 1, 1, 1, 1, 1, 1, 2, 2, 2, 2, 2, 2, 2, 2, 2, 2], 'Waga': [1, 1, 1, 1, 1, 2, 2, 2, 2, 2, 1, 1, 1, 1, 1, 2, 2, 2, 2, 2], 'Cisnienie': [70, 80, 83, 85, 65, 85, 80, 90, 95, 88, 85, 90, 95, 90, 86, 90, 95, 100, 105, 110]})\n"
     ]
    }
   ],
   "source": [
    "data = defaultdict(list)\n",
    "avgs = defaultdict(int)\n",
    "general_avg = 0\n",
    "\n",
    "rows = []\n",
    "with open('rp11-10.csv', newline='') as csvfile:\n",
    "    reader = csv.reader(csvfile, delimiter=',')\n",
    "    for row in reader:\n",
    "        rows.append(row)\n",
    "\n",
    "for i in range(1, len(rows)):\n",
    "    for j in range(len(rows[i])):\n",
    "        data[rows[0][j]].append(int(rows[i][j]))\n",
    "\n",
    "print(data)"
   ]
  },
  {
   "cell_type": "markdown",
   "metadata": {},
   "source": [
    "#### Poziom cukru a ciśnienie - hipoteza:  cisnienie nie zalezy od cukru (srednie cisnien w obu grupach są te same)\n"
   ]
  },
  {
   "cell_type": "code",
   "execution_count": 52,
   "metadata": {},
   "outputs": [
    {
     "name": "stdout",
     "output_type": "stream",
     "text": [
      "0.004468622627937235\n"
     ]
    }
   ],
   "source": [
    "normalny = []\n",
    "for i in range(len(data['Cisnienie'])):\n",
    "    if data['Cukier'][i] == 1:\n",
    "        normalny.append(data['Cisnienie'][i])\n",
    "\n",
    "podwyzszony = []\n",
    "for i in range(len(data['Cisnienie'])):\n",
    "    if data['Cukier'][i] == 2:\n",
    "        podwyzszony.append(data['Cisnienie'][i])\n",
    "\n",
    "normalny_avg = sum(normalny) / len(normalny)\n",
    "podwyzszony_avg = sum(podwyzszony)/ len(podwyzszony)\n",
    "general_avg = (sum(normalny)+sum(podwyzszony)) / (len(normalny) + len(podwyzszony))\n",
    "\n",
    "ssa = len(normalny)* ((normalny_avg - general_avg)**2 + (podwyzszony_avg - general_avg)**2)\n",
    "sstot = 0\n",
    "for i in range(len(normalny)):\n",
    "    sstot += (normalny[i] - general_avg)**2\n",
    "\n",
    "for i in range(len(podwyzszony)):\n",
    "    sstot += (podwyzszony[i] - general_avg)**2\n",
    "sse = sstot - ssa\n",
    "\n",
    "msa = ssa / 1\n",
    "mse = sse / 18\n",
    "\n",
    "t = msa / mse\n",
    "\n",
    "p_value = (1-scipy.stats.f.cdf(t, dfn = 1, dfd = 18))\n",
    "print(p_value)\n",
    "\n",
    "# Czyli odrzucamy hipotezę"
   ]
  },
  {
   "cell_type": "markdown",
   "metadata": {},
   "source": [
    "#### Związek między wagą a ciśnieniem - hipoteza: cisnienie nie zalezy od wagi (srednie takie same)\n",
    "\n"
   ]
  },
  {
   "cell_type": "code",
   "execution_count": 55,
   "metadata": {},
   "outputs": [
    {
     "name": "stdout",
     "output_type": "stream",
     "text": [
      "82.9 93.8\n",
      "[70, 80, 83, 85, 65, 85, 90, 95, 90, 86]\n",
      "0.016224146737865652\n"
     ]
    }
   ],
   "source": [
    "normalny = []\n",
    "for i in range(len(data['Cisnienie'])):\n",
    "    if data['Waga'][i] == 1:\n",
    "        normalny.append(data['Cisnienie'][i])\n",
    "\n",
    "podwyzszony = []\n",
    "for i in range(len(data['Cisnienie'])):\n",
    "    if data['Waga'][i] == 2:\n",
    "        podwyzszony.append(data['Cisnienie'][i])\n",
    "\n",
    "normalny_avg = sum(normalny) / len(normalny)\n",
    "podwyzszony_avg = sum(podwyzszony)/ len(podwyzszony)\n",
    "general_avg = (sum(normalny)+sum(podwyzszony)) / (len(normalny) + len(podwyzszony))\n",
    "print(normalny_avg,podwyzszony_avg)\n",
    "print(normalny)\n",
    "ssb = len(normalny)* ((normalny_avg - general_avg)**2 + (podwyzszony_avg - general_avg)**2)\n",
    "sstot = 0\n",
    "for i in range(len(normalny)):\n",
    "    sstot += (normalny[i] - general_avg)**2\n",
    "\n",
    "for i in range(len(podwyzszony)):\n",
    "    sstot += (podwyzszony[i] - general_avg)**2\n",
    "sse = sstot - ssb\n",
    "\n",
    "msb = ssb / 1\n",
    "mse = sse / 18\n",
    "\n",
    "t = msb / mse\n",
    "\n",
    "p_value = (1-scipy.stats.f.cdf(t, dfn = 1, dfd = 18))\n",
    "print(p_value)\n",
    "# A więc odrzucamy hipotezę"
   ]
  },
  {
   "cell_type": "markdown",
   "metadata": {},
   "source": [
    "#### Interakcja wagi z poziomem cukru - hipoteza: cisnienie nie zalezy od interakcji (ANOVA 2 czynnikowa z powtorzeniami)\n"
   ]
  },
  {
   "cell_type": "code",
   "execution_count": 56,
   "metadata": {},
   "outputs": [
    {
     "name": "stdout",
     "output_type": "stream",
     "text": [
      "defaultdict(<class 'list'>, {1: [70, 80, 83, 85, 65], 2: [85, 80, 90, 95, 88]})\n",
      "781.25 594.049999999999\n",
      "0.9741631598589974\n"
     ]
    }
   ],
   "source": [
    "cukier_normalny = defaultdict(list)\n",
    "cukier_podwyzszony = defaultdict(list)\n",
    "\n",
    "for i in range(len(data['Cisnienie'])):\n",
    "    if data['Cukier'][i] == 1:\n",
    "        cukier_normalny[data['Waga'][i]].append(data['Cisnienie'][i])\n",
    "    else:\n",
    "        cukier_podwyzszony[data['Waga'][i]].append(data['Cisnienie'][i])\n",
    "print(cukier_normalny)\n",
    "sse = 0\n",
    "for k in range(1, 3):\n",
    "    avg_temp = sum(cukier_normalny[k]) / len(cukier_normalny[k])\n",
    "    for i in range(len(cukier_normalny[k])):\n",
    "        sse += (cukier_normalny[k][i] - avg_temp)**2\n",
    "\n",
    "for k in range(1, 3):\n",
    "    avg_temp = sum(cukier_podwyzszony[k]) / len(cukier_podwyzszony[k])\n",
    "    for i in range(len(cukier_podwyzszony[k])):\n",
    "        sse += (cukier_podwyzszony[k][i] - avg_temp)**2\n",
    "print(ssa,ssb)\n",
    "ssab = sstot-ssa-ssb-sse\n",
    "\n",
    "msab = ssab/1\n",
    "mse = sse/16\n",
    "\n",
    "t = msab/mse\n",
    "\n",
    "p_value = 1 - (scipy.stats.f.cdf(t, dfn = 1, dfd = 16))\n",
    "print(p_value)\n",
    "#p_value na pograniczu odrzucenia"
   ]
  },
  {
   "cell_type": "markdown",
   "metadata": {},
   "source": [
    "### Zadanie 11"
   ]
  },
  {
   "cell_type": "markdown",
   "metadata": {},
   "source": [
    "#### Związek między nośnikiem reklamy a skutecznością reklamy - hipoteza: Skutecznosc reklamy nie zalezy od nosnika (rowne srednie)"
   ]
  },
  {
   "cell_type": "code",
   "execution_count": 40,
   "metadata": {},
   "outputs": [
    {
     "name": "stdout",
     "output_type": "stream",
     "text": [
      "781.25\n",
      "0.0023804063990084945\n"
     ]
    }
   ],
   "source": [
    "nosnik = defaultdict(list)\n",
    "avgs = defaultdict(int)\n",
    "general_avg = 0\n",
    "\n",
    "rows = []\n",
    "with open('rp11-11.csv', newline='') as csvfile:\n",
    "    reader = csv.reader(csvfile, delimiter=',')\n",
    "    for row in reader:\n",
    "        rows.append(row)\n",
    "\n",
    "for i in range(1, len(rows)):\n",
    "    nosnik[rows[i][0]].append(int(rows[i][2]))\n",
    "\n",
    "for key in nosnik.keys():\n",
    "    general_avg += sum(nosnik[key])\n",
    "    avgs[key] = sum(nosnik[key])/len(nosnik[key])\n",
    "\n",
    "general_avg /= 18\n",
    "\n",
    "SSA = 6*sum([(x - general_avg)**2 for x in avgs.values()])\n",
    "SSTot = 0\n",
    "for i in nosnik.keys():\n",
    "    for j in range(len(nosnik[i])):\n",
    "        SSTot += (nosnik[i][j] - general_avg)**2\n",
    "\n",
    "SSE = SSTot - SSA\n",
    "\n",
    "print(ssa)\n",
    "\n",
    "MSA = SSA / (len(nosnik)-1)\n",
    "MSE = SSE / (3*(6 - 1))\n",
    "\n",
    "t = MSA / MSE\n",
    "\n",
    "p_value = 2*(1 - scipy.stats.f.cdf(t, dfn = 2, dfd = 12))\n",
    "print(p_value)\n",
    "#Zatem odrzucamy hipoteze -> nosnik ma znaczenie\n",
    "\n"
   ]
  },
  {
   "cell_type": "markdown",
   "metadata": {},
   "source": [
    "#### Związek między tematem reklamy a jej nośnikiem - ANOVA dwuczynnikowa z replikacją"
   ]
  },
  {
   "cell_type": "markdown",
   "metadata": {},
   "source": [
    "#### hipoteza: skutecznosc reklamy niez zalezy od interakcji pomiedzy nosnikiem a tematem"
   ]
  },
  {
   "cell_type": "code",
   "execution_count": 57,
   "metadata": {},
   "outputs": [
    {
     "name": "stdout",
     "output_type": "stream",
     "text": [
      "660.0555555555559\n",
      "2.0\n",
      "defaultdict(<function <lambda> at 0x7f1329aa7ca0>, {'1': defaultdict(<class 'list'>, {'1': 76.6, '2': 87.6}), '2': defaultdict(<class 'list'>, {'1': 89.2, '2': 100.0})})\n"
     ]
    }
   ],
   "source": [
    "nosnik_typ = defaultdict(lambda: defaultdict(list))\n",
    "temat_typ = defaultdict(lambda: defaultdict(list))\n",
    "temat_avg = defaultdict(int)\n",
    "avgs_typ = defaultdict(lambda: defaultdict(list))\n",
    "avgs_nosnik = defaultdict(int)\n",
    "\n",
    "avg_qual = 0\n",
    "avg_price = 0\n",
    "\n",
    "general_avg = 0\n",
    "\n",
    "for i in range(1, len(rows)):\n",
    "    nosnik_typ[rows[i][0]][rows[i][1]].append(int(rows[i][2]))\n",
    "\n",
    "for i in range(1, len(rows)):\n",
    "    temat_typ[rows[i][1]][rows[i][0]].append(int(rows[i][2]))\n",
    "\n",
    "for key in nosnik_typ.keys():\n",
    "    for key2 in nosnik_typ[key].keys():\n",
    "        avgs_nosnik[key] += sum(nosnik_typ[key][key2])\n",
    "        general_avg +=sum(nosnik_typ[key][key2])\n",
    "        avgs_typ[key][key2] = sum(nosnik_typ[key][key2]) / len(nosnik_typ[key][key2])\n",
    "    avgs_nosnik[key] /= 6\n",
    "\n",
    "for key in temat_typ.keys():\n",
    "    for key2 in temat_typ[key].keys():\n",
    "        temat_avg[key] += sum(temat_typ[key][key2])\n",
    "    temat_avg[key] /= 9 \n",
    "\n",
    "general_avg /= 18\n",
    "\n",
    "ssa = 0 #nosnik\n",
    "\n",
    "for key in avgs_nosnik.keys():\n",
    "    ssa += (avgs_nosnik[key] - general_avg)**2\n",
    "\n",
    "ssa *= 3*2\n",
    "\n",
    "ssb = 0 # temat\n",
    "\n",
    "for key in temat_avg.keys():\n",
    "    ssb += (temat_avg[key] - general_avg)**2\n",
    "ssb *= 3*3\n",
    "\n",
    "print(ssb)\n",
    "ssab = 0\n",
    "\n",
    "for key in avgs_typ.keys():\n",
    "    for key2 in avgs_typ[key].keys():\n",
    "        ssab += (avgs_typ[key][key2] - avgs_nosnik[key] - temat_avg[key2]+general_avg)**2\n",
    "\n",
    "ssab *= 3\n",
    "\n",
    "sstot = 0\n",
    "\n",
    "for key in nosnik_typ.keys():\n",
    "    for key2 in nosnik_typ[key].keys():\n",
    "        for i in range(len(nosnik_typ[key][key2])):\n",
    "            sstot += (nosnik_typ[key][key2][i] - general_avg)**2\n",
    "\n",
    "sse = sstot - ssa - ssb - ssab\n",
    "\n",
    "msab = ssab / 2\n",
    "mse = sse / 12\n",
    "\n",
    "t = msab/mse\n",
    "\n",
    "p_value = 2*(1 - scipy.stats.f.cdf(t, dfn = 2, dfd = 12))\n",
    "print(p_value) # czyli odrzucamy hipoteze \n",
    "\n",
    "print(avgs_typ)\n",
    "#Podpunkt b: Czyli najlepsza jest reklama  internet - jakosc (srednia- 37.(3))\n"
   ]
  },
  {
   "cell_type": "markdown",
   "metadata": {},
   "source": [
    "### Zadanie 12"
   ]
  },
  {
   "cell_type": "code",
   "execution_count": 61,
   "metadata": {},
   "outputs": [
    {
     "name": "stdout",
     "output_type": "stream",
     "text": [
      "defaultdict(<class 'list'>, {0: [93, 99, 95, 80, 86, 98, 98, 94, 89, 95, 97, 96, 90, 85, 95, 91], 1: [88, 95, 86, 77, 88, 94, 94, 88, 93, 95, 91, 82, 90, 79, 81, 89]})\n"
     ]
    }
   ],
   "source": [
    "wagi = defaultdict(list)\n",
    "avgs = defaultdict(int)\n",
    "general_avg = 0\n",
    "rows = []\n",
    "with open('rp11-12.csv', newline='') as csvfile:\n",
    "    reader = csv.reader(csvfile, delimiter=',')\n",
    "    for row in reader:\n",
    "        rows.append(row)\n",
    "\n",
    "for row in rows:\n",
    "    wagi[0].append(int(row[0]))\n",
    "    wagi[1].append(int(row[1]))\n",
    "\n",
    "print(wagi)"
   ]
  },
  {
   "cell_type": "markdown",
   "metadata": {},
   "source": [
    "#### Anova 1 czynnik - hipoteza: dieta nie zmienia wagi (równe srednie)\n"
   ]
  },
  {
   "cell_type": "code",
   "execution_count": 62,
   "metadata": {},
   "outputs": [
    {
     "name": "stdout",
     "output_type": "stream",
     "text": [
      "0.06356748524636746\n"
     ]
    }
   ],
   "source": [
    "\n",
    "avgs[0] = sum(wagi[0]) / len(wagi[0])\n",
    "avgs[1] = sum(wagi[1]) / len(wagi[1])\n",
    "\n",
    "general_avg = (sum(wagi[0]) + sum(wagi[1])) / (len(wagi[0]) + len(wagi[1]))\n",
    "\n",
    "ssa = (avgs[0] - general_avg)**2 + (avgs[1] - general_avg)**2\n",
    "ssa *= 16\n",
    "\n",
    "sstot = 0\n",
    "for key in wagi.keys():\n",
    "    for i in range(len(wagi[key])):\n",
    "        sstot += (wagi[key][i] - general_avg)**2\n",
    "\n",
    "sse = sstot - ssa\n",
    "\n",
    "msa = ssa / 1\n",
    "mse = sse / 30\n",
    "\n",
    "t = msa / mse\n",
    "\n",
    "p_value = 2*(1 - scipy.stats.f.cdf(t, dfn = 1, dfd = 30))\n",
    "print(p_value)\n",
    "#Czyli dla lfa= 0.05, nie ma podstaw do odrzucenia hipotezy\n"
   ]
  },
  {
   "cell_type": "markdown",
   "metadata": {},
   "source": [
    "#### Zadanie 13"
   ]
  },
  {
   "cell_type": "code",
   "execution_count": 28,
   "metadata": {},
   "outputs": [
    {
     "name": "stdout",
     "output_type": "stream",
     "text": [
      "defaultdict(<class 'list'>, {0: [93, 99, 95, 80, 86, 98, 98, 94, 89, 95, 97, 96, 90, 85, 95, 91], 1: [88, 95, 86, 77, 88, 94, 94, 88, 93, 95, 91, 82, 90, 79, 81, 89]})\n"
     ]
    }
   ],
   "source": [
    "poletka = defaultdict(list)\n",
    "avgs = defaultdict(int)\n",
    "general_avg = 0\n",
    "rows = []\n",
    "with open('rp11-12.csv', newline='') as csvfile:\n",
    "    reader = csv.reader(csvfile, delimiter=',')\n",
    "    for row in reader:\n",
    "        rows.append(row)\n",
    "\n",
    "for row in rows:\n",
    "    poletka[0].append(int(row[0]))\n",
    "    poletka[1].append(int(row[1]))\n",
    "\n",
    "print(poletka)\n"
   ]
  },
  {
   "cell_type": "markdown",
   "metadata": {},
   "source": [
    "#### Anova 1 czynnik - hipoteza: czynnik nie daje efektów (równe średnie)"
   ]
  },
  {
   "cell_type": "code",
   "execution_count": 29,
   "metadata": {},
   "outputs": [
    {
     "name": "stdout",
     "output_type": "stream",
     "text": [
      "1.6045319457094354\n"
     ]
    }
   ],
   "source": [
    "\n",
    "avgs[0] = sum(poletka[0]) / len(poletka[0])\n",
    "avgs[1] = sum(poletka[1]) / len(poletka[1])\n",
    "\n",
    "general_avg = (sum(poletka[0]) + sum(poletka[1])) / (len(poletka[0]) + len(poletka[1]))\n",
    "\n",
    "ssa = (avgs[0] - general_avg)**2 + (avgs[1] - general_avg)**2\n",
    "ssa *= 10\n",
    "\n",
    "sstot = 0\n",
    "for key in poletka.keys():\n",
    "    for i in range(len(poletka[key])):\n",
    "        sstot += (poletka[key][i] - general_avg)**2\n",
    "\n",
    "sse = sstot - ssa\n",
    "\n",
    "msa = ssa / 1\n",
    "mse = sse / 18\n",
    "\n",
    "t = msa / mse\n",
    "\n",
    "p_value = 2*scipy.stats.f.cdf(t, dfn = 1, dfd = 18)\n",
    "print(p_value)\n",
    "#Brak podstaw do odrzucenia hipotezy"
   ]
  },
  {
   "cell_type": "code",
   "execution_count": null,
   "metadata": {},
   "outputs": [],
   "source": []
  },
  {
   "cell_type": "code",
   "execution_count": null,
   "metadata": {},
   "outputs": [],
   "source": []
  }
 ],
 "metadata": {
  "kernelspec": {
   "display_name": "Python 3",
   "language": "python",
   "name": "python3"
  },
  "language_info": {
   "codemirror_mode": {
    "name": "ipython",
    "version": 3
   },
   "file_extension": ".py",
   "mimetype": "text/x-python",
   "name": "python",
   "nbconvert_exporter": "python",
   "pygments_lexer": "ipython3",
   "version": "3.8.3"
  },
  "metadata": {
   "interpreter": {
    "hash": "31f2aee4e71d21fbe5cf8b01ff0e069b9275f58929596ceb00d14d90e3e16cd6"
   }
  }
 },
 "nbformat": 4,
 "nbformat_minor": 2
}
