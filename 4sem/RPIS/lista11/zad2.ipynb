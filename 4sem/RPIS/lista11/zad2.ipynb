{
 "cells": [
  {
   "cell_type": "code",
   "execution_count": 2,
   "metadata": {},
   "outputs": [
    {
     "name": "stdout",
     "output_type": "stream",
     "text": [
      "defaultdict(<class 'list'>, {'A': [246, 231, 236, 217, 246], 'B': [243, 246, 243, 235, 235], 'C': [265, 260, 265, 253, 291]})\n",
      "2870.933333333337 4385.733333333334\n",
      "11.371534195933497\n",
      "0.0016977684112495783\n"
     ]
    }
   ],
   "source": [
    "import csv\n",
    "from collections import defaultdict\n",
    "import scipy.stats\n",
    "\n",
    "data = defaultdict(list)\n",
    "global_avg = 0\n",
    "\n",
    "with open('rp11-01.csv', newline='') as csvfile:\n",
    "    reader = csv.reader(csvfile, delimiter=',')\n",
    "    for row in reader:\n",
    "        data[row[1]].append(int(row[0]))\n",
    "print(data)\n",
    "\n",
    "\n",
    "avgs = defaultdict(int)\n",
    "for key in data.keys():\n",
    "    global_avg += sum(data[key])\n",
    "    avgs[key] = sum(data[key])/len(data[key])\n",
    "\n",
    "global_avg /= 15\n",
    "\n",
    "SSA = 5*sum([(x - global_avg)**2 for x in avgs.values()])\n",
    "SSTot = 0\n",
    "for i in data.keys():\n",
    "    for j in range(len(data[i])):\n",
    "        SSTot += (data[i][j] - global_avg)**2\n",
    "\n",
    "\n",
    "print(SSA,SSTot)\n",
    "SSE = SSTot - SSA\n",
    "\n",
    "MSA = SSA / 2 # (I - 1) = 3 - 1\n",
    "MSE = SSE / 12 #(I(n - 1)) = 3*(5 - 1)\n",
    "\n",
    "t = MSA / MSE\n",
    "print(t)\n",
    "\n",
    "p_value = 1 - scipy.stats.f.cdf(t, dfn = 2, dfd = 12)\n",
    "print(p_value)\n",
    "\n",
    "# Przy poziomie istotności alfa = 0.05 hipotezę odrzucamy"
   ]
  },
  {
   "cell_type": "code",
   "execution_count": 1,
   "metadata": {},
   "outputs": [
    {
     "name": "stdout",
     "output_type": "stream",
     "text": [
      "defaultdict(<class 'list'>, {'A': [41, 43, 45, 44, 42, 48, 49, 48, 47, 45, 47, 45, 46, 45, 48, 40, 44, 39], 'B': [44, 40, 37, 43, 41, 43, 42, 40, 43, 42, 44, 42, 40, 37], 'C': [43, 40, 42, 41, 41, 39, 45, 38, 40, 45, 34, 43, 43, 42, 42, 39], 'D': [34, 37, 37, 41, 37, 39, 36, 41, 42, 37, 37, 33, 42, 36]})\n",
      "62\n",
      "17.569134436894323\n",
      "3.119628821934839e-08\n"
     ]
    }
   ],
   "source": [
    "import csv\n",
    "from collections import defaultdict\n",
    "import scipy.stats\n",
    "data = defaultdict(list)\n",
    "avgs = defaultdict(int)\n",
    "general_avg = 0\n",
    "n = 0\n",
    "with open('rp11-02.csv', newline='') as csvfile:\n",
    "    reader = csv.reader(csvfile, delimiter=',')\n",
    "    tmp = {1:'A', 2:\"B\", 3:\"C\", 4:\"D\"}\n",
    "    for row in reader:\n",
    "        if row[0] != 'A':\n",
    "            for i in range(len(row)):\n",
    "                if row[i] != '':\n",
    "                    data[tmp[i+1]].append(int(row[i]))\n",
    "                    n += 1\n",
    "\n",
    "print(data)\n",
    "for key in data.keys():\n",
    "    general_avg += sum(data[key])\n",
    "    avgs[key] = sum(data[key])/len(data[key])\n",
    "\n",
    "print(n)\n",
    "general_avg /= n\n",
    "\n",
    "ssa = 0\n",
    "\n",
    "for avg_i in avgs:\n",
    "    ssa += len(data[avg_i])*(avgs[avg_i] - general_avg)**2\n",
    "\n",
    "sst = 0\n",
    "for i in data.keys():\n",
    "    for j in range(len(data[i])):\n",
    "        sst += (data[i][j] - general_avg)**2\n",
    "\n",
    "sse = sst - ssa\n",
    "msa =  ssa/3 \n",
    "mse = sse/58 # (n1 + n2 + n3 + n4 - 4 = 18 + 14 + 16 + 14 - 4\n",
    "\n",
    "t = msa / mse\n",
    "print(t)\n",
    "p_value = 1-scipy.stats.f.cdf(t, dfn = 3, dfd = 58)\n",
    "print(p_value)\n",
    "#czyli odrzucamy hipotezę"
   ]
  },
  {
   "cell_type": "code",
   "execution_count": 5,
   "metadata": {},
   "outputs": [
    {
     "name": "stdout",
     "output_type": "stream",
     "text": [
      "defaultdict(<class 'list'>, {'A': [64, 28, 33, 83, 37, 31, 60, 40, 56, 45, 10, 26, 49, 25, 52, 62, 31, 25], 'B': [64, 28, 33, 83, 37, 31, 60, 40, 56, 45, 10, 26, 49, 25], 'C': [55, 43, 53, 18, 59, 32, 27, 30, 38, 25, 42, 45, 20, 46, 46, 36], 'D': [39, 38, 45, 44, 29, 30, 50, 63, 29, 31, 14, 48, 52, 38]})\n",
      "62\n",
      "0.112372829853037\n"
     ]
    }
   ],
   "source": [
    "data = defaultdict(list)\n",
    "avgs = defaultdict(int)\n",
    "general_avg = 0\n",
    "\n",
    "general_avg = 0\n",
    "n = 0\n",
    "with open('rp11-03.csv', newline='') as csvfile:\n",
    "    reader = csv.reader(csvfile, delimiter=',')\n",
    "    tmp = {1:'A', 2:\"B\", 3:\"C\", 4:\"D\"}\n",
    "    for row in reader:\n",
    "        if row[0] != 'A':\n",
    "            for i in range(len(row)):\n",
    "                if row[i] != '':\n",
    "                    data[tmp[i+1]].append(int(row[i]))\n",
    "                    n += 1\n",
    "print(data)\n",
    "print(n)\n",
    "\n",
    "for key in data.keys():\n",
    "    general_avg += sum(data[key])\n",
    "    avgs[key] = sum(data[key])/len(data[key])\n",
    "\n",
    "general_avg /= n\n",
    "\n",
    "SSA = 0\n",
    "\n",
    "for avg_i in avgs:\n",
    "    SSA += len(data[avg_i])*(avgs[avg_i] - general_avg)**2\n",
    "\n",
    "SSTot = 0\n",
    "for i in data.keys():\n",
    "    for j in range(len(data[i])):\n",
    "        SSTot += (data[i][j] - general_avg)**2\n",
    "\n",
    "SSE = SSTot - SSA\n",
    "MSA =  SSA/3\n",
    "MSE = SSE/58\n",
    "\n",
    "t = MSA / MSE\n",
    "p_value = min(scipy.stats.f.cdf(t, dfn = 3, dfd = 58), 1 - scipy.stats.f.cdf(t, dfn = 3, dfd = 58))\n",
    "print(p_value)\n",
    "# Czyli nie mamy podstaw do odrzucenia hipotezy"
   ]
  },
  {
   "cell_type": "code",
   "execution_count": null,
   "metadata": {},
   "outputs": [],
   "source": []
  }
 ],
 "metadata": {
  "kernelspec": {
   "display_name": "Python 3",
   "language": "python",
   "name": "python3"
  },
  "language_info": {
   "codemirror_mode": {
    "name": "ipython",
    "version": 3
   },
   "file_extension": ".py",
   "mimetype": "text/x-python",
   "name": "python",
   "nbconvert_exporter": "python",
   "pygments_lexer": "ipython3",
   "version": "3.8.3"
  }
 },
 "nbformat": 4,
 "nbformat_minor": 4
}
