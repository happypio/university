{
 "cells": [
  {
   "cell_type": "markdown",
   "metadata": {},
   "source": [
    "## Zadanie 10"
   ]
  },
  {
   "cell_type": "code",
   "execution_count": 69,
   "metadata": {
    "scrolled": true
   },
   "outputs": [
    {
     "name": "stdout",
     "output_type": "stream",
     "text": [
      "defaultdict(<class 'list'>, {'Cukier': [1, 1, 1, 1, 1, 1, 1, 1, 1, 1, 2, 2, 2, 2, 2, 2, 2, 2, 2, 2], 'Waga': [1, 1, 1, 1, 1, 2, 2, 2, 2, 2, 1, 1, 1, 1, 1, 2, 2, 2, 2, 2], 'Cisnienie': [70, 80, 83, 85, 65, 85, 80, 90, 95, 88, 85, 90, 95, 90, 86, 90, 95, 100, 105, 110]})\n"
     ]
    }
   ],
   "source": [
    "import csv\n",
    "from collections import defaultdict\n",
    "import scipy.stats\n",
    "data = defaultdict(list)\n",
    "\n",
    "with open('rp11-10.csv', newline='') as csvfile:\n",
    "    tmp = {1:'Cukier',2:'Waga',3:'Cisnienie'}\n",
    "    reader = csv.reader(csvfile, delimiter=',')\n",
    "    for row in reader:\n",
    "        if (row[0] != \"Cukier\"):\n",
    "            for i in range(len(row)):\n",
    "                data[tmp[i + 1]].append(int(row[i]))\n",
    "\n",
    "print(data)"
   ]
  },
  {
   "cell_type": "markdown",
   "metadata": {},
   "source": [
    "#### część 1 - hipoteza o równości średnich dla grup o podwyższonym cukrze i w normie\n",
    "jeśli średnie się różnią to ciśnienie zależy od cukru"
   ]
  },
  {
   "cell_type": "code",
   "execution_count": 84,
   "metadata": {},
   "outputs": [
    {
     "name": "stdout",
     "output_type": "stream",
     "text": [
      "0.004468622627937235\n"
     ]
    }
   ],
   "source": [
    "groups = defaultdict(list)\n",
    "general_avg = 0\n",
    "avgs = defaultdict(int)\n",
    "\n",
    "for i in range(len(data[\"Cisnienie\"])):\n",
    "    if data['Cukier'][i] == 1:\n",
    "        groups[1].append(data[\"Cisnienie\"][i])\n",
    "    else:\n",
    "        groups[2].append(data[\"Cisnienie\"][i])\n",
    "    general_avg += data[\"Cisnienie\"][i]\n",
    "    \n",
    "general_avg /= 2 * len(groups[1])\n",
    "\n",
    "avgs[1] = sum(groups[1]) / len(groups[1])\n",
    "avgs[2] = sum(groups[2]) / len(groups[2])\n",
    "\n",
    "SSA = len(groups[1]) * ((avgs[1] - general_avg)**2 + (avgs[2] - general_avg)**2)\n",
    "SSTot = 0\n",
    "for i in groups.keys():\n",
    "    for j in groups[i]:\n",
    "        SSTot += (j - general_avg)**2\n",
    "        \n",
    "SSE = SSTot - SSA\n",
    "\n",
    "MSA = SSA / 1 #I - 1  = (2 - 1)\n",
    "MSE = SSE / 18 # I*(n -1) = (2 * (9 - 1))\n",
    "\n",
    "t = MSA / MSE\n",
    "\n",
    "p_value = 1 - scipy.stats.f.cdf(t, dfn = 1, dfd = 18)\n",
    "print(p_value)\n",
    "\n",
    "# Na poziomie istotności alfa hipotezę odrzucamy (czyli cukier ma wpływ na ciśnienie)"
   ]
  },
  {
   "cell_type": "markdown",
   "metadata": {},
   "source": [
    "#### część 2 - hipoteza o równości średnich dla grup o podwyższonej wadze i normalnej\n",
    "jeśli średnie się różnią to ciśnienie zależy od wagi"
   ]
  },
  {
   "cell_type": "code",
   "execution_count": 85,
   "metadata": {},
   "outputs": [
    {
     "name": "stdout",
     "output_type": "stream",
     "text": [
      "0.016224146737865652\n"
     ]
    }
   ],
   "source": [
    "groups = defaultdict(list)\n",
    "general_avg = 0\n",
    "avgs = defaultdict(int)\n",
    "\n",
    "for i in range(len(data[\"Cisnienie\"])):\n",
    "    if data['Waga'][i] == 1:\n",
    "        groups[1].append(data[\"Cisnienie\"][i])\n",
    "    else:\n",
    "        groups[2].append(data[\"Cisnienie\"][i])\n",
    "    general_avg += data[\"Cisnienie\"][i]\n",
    "    \n",
    "general_avg /= 2 * len(groups[1])\n",
    "\n",
    "avgs[1] = sum(groups[1]) / len(groups[1])\n",
    "avgs[2] = sum(groups[2]) / len(groups[2])\n",
    "\n",
    "SSB = len(groups[1]) * ((avgs[1] - general_avg)**2 + (avgs[2] - general_avg)**2)\n",
    "SSTot = 0\n",
    "for i in groups.keys():\n",
    "    for j in groups[i]:\n",
    "        SSTot += (j - general_avg)**2\n",
    "        \n",
    "SSE = SSTot - SSB\n",
    "\n",
    "MSB = SSB / 1 #I - 1  = (2 - 1)\n",
    "MSE = SSE / 18 # I*(n -1) = (2 * (9 - 1))\n",
    "\n",
    "t = MSB / MSE\n",
    "\n",
    "p_value = 1 - scipy.stats.f.cdf(t, dfn = 1, dfd = 18)\n",
    "print(p_value)\n",
    "\n",
    "# Na poziomie istotności alfa hipotezę odrzucamy (czyli waga ma wpływ na ciśnienie)"
   ]
  },
  {
   "cell_type": "markdown",
   "metadata": {},
   "source": [
    "#### część 3 - ANOVA 2 czynnikowa z powtórzeniami - czy istnieje interakcja wagi z cukrem\n",
    "hipoteza: istnieje"
   ]
  },
  {
   "cell_type": "code",
   "execution_count": 90,
   "metadata": {},
   "outputs": [
    {
     "name": "stdout",
     "output_type": "stream",
     "text": [
      "0.9741631598589974\n"
     ]
    }
   ],
   "source": [
    "groups = defaultdict(lambda: defaultdict(list)) #cukier w normie i zawyżony\n",
    "\n",
    "for i in range(len(data['Cisnienie'])):\n",
    "    if data['Cukier'][i] == 1:\n",
    "        groups[1][data['Waga'][i]].append(data['Cisnienie'][i])\n",
    "    else:\n",
    "        groups[2][data['Waga'][i]].append(data['Cisnienie'][i])\n",
    "\n",
    "SSE = 0\n",
    "for i in [1,2]:\n",
    "    for j in [1,2]:\n",
    "        avg_in_observ = sum(groups[i][j])/len(groups[i][j])\n",
    "        for k in range(len(groups[i][j])):\n",
    "            SSE += (groups[i][j][k] - avg_in_observ)**2\n",
    "\n",
    "\n",
    "SSAB = SSTot-SSA-SSB-SSE\n",
    "MSE = SSE/16 # I*J*K - I*J = 2*2*5 - 2*2\n",
    "\n",
    "MSAB = SSAB/1 # (I-1)(J-1) = (2-1) * (2-1)\n",
    "\n",
    "t = MSAB/MSE\n",
    "p_value = 1 - scipy.stats.f.cdf(t, dfn = 1, dfd = 16)\n",
    "print(p_value)\n",
    "#p_value bardzo duże, przy poziomie istotności alfa = 0.05 hipotezy nie odrzucamy\n"
   ]
  },
  {
   "cell_type": "markdown",
   "metadata": {},
   "source": [
    "### Zadanie 12"
   ]
  },
  {
   "cell_type": "markdown",
   "metadata": {},
   "source": [
    "#### hipoteza o równości średnich przed i po diecie"
   ]
  },
  {
   "cell_type": "code",
   "execution_count": 130,
   "metadata": {},
   "outputs": [
    {
     "name": "stdout",
     "output_type": "stream",
     "text": [
      "defaultdict(<class 'list'>, {0: [93, 99, 95, 80, 86, 98, 98, 94, 89, 95, 97, 96, 90, 85, 95, 91], 1: [88, 95, 86, 77, 88, 94, 94, 88, 93, 95, 91, 82, 90, 79, 81, 89]})\n"
     ]
    }
   ],
   "source": [
    "data = defaultdict(list)\n",
    "global_avg = 0\n",
    "with open('rp11-12.csv', newline='') as csvfile:\n",
    "    reader = csv.reader(csvfile, delimiter=',')\n",
    "    for row in reader:\n",
    "        for i in range(len(row)):\n",
    "            data[i].append(int(row[i]))\n",
    "            global_avg += int(row[i])\n",
    "global_avg /= len(data[0]) * 2\n",
    "print(data)"
   ]
  },
  {
   "cell_type": "code",
   "execution_count": 132,
   "metadata": {},
   "outputs": [
    {
     "name": "stdout",
     "output_type": "stream",
     "text": [
      "0.03178374262318373\n"
     ]
    }
   ],
   "source": [
    "avgs = defaultdict(list)\n",
    "\n",
    "avgs[0] = sum(data[0]) / len(data[0])\n",
    "avgs[1] = sum(data[1]) / len(data[1])\n",
    "\n",
    "SSA = 16 * ((avgs[0] - global_avg)**2 + (avgs[1] - global_avg)**2)\n",
    "\n",
    "SSTot = 0\n",
    "for key in data.keys():\n",
    "    for i in range(len(data[key])):\n",
    "        SSTot += (data[key][i] - global_avg)**2\n",
    "\n",
    "SSE = SSTot - SSA\n",
    "\n",
    "MSA = SSA / 1 # I - 1 = 2 - 1\n",
    "MSE = SSE / 30 # I(n - 1) = 2(16 - 1)\n",
    "\n",
    "t = MSA / MSE\n",
    "\n",
    "p_value = 1 - scipy.stats.f.cdf(t, dfn = 1, dfd = 30)\n",
    "print(p_value)\n",
    "\n",
    "#Na poziomie istotności alfa = 0.05 odrzucamy hipotezę\n"
   ]
  },
  {
   "cell_type": "markdown",
   "metadata": {},
   "source": [
    "### Zadanie 13"
   ]
  },
  {
   "cell_type": "markdown",
   "metadata": {},
   "source": [
    "#### Hipoteza o równości średnich dla dówch typów uprawy"
   ]
  },
  {
   "cell_type": "code",
   "execution_count": 133,
   "metadata": {},
   "outputs": [
    {
     "name": "stdout",
     "output_type": "stream",
     "text": [
      "defaultdict(<class 'list'>, {0: [60, 65, 79, 55, 75, 60, 69, 108, 77, 88], 1: [57, 60, 70, 60, 70, 65, 59, 101, 67, 86]})\n"
     ]
    }
   ],
   "source": [
    "data = defaultdict(list)\n",
    "global_avg = 0\n",
    "with open('rp11-13.csv', newline='') as csvfile:\n",
    "    reader = csv.reader(csvfile, delimiter=';')\n",
    "    for row in reader:\n",
    "        for i in range(len(row)):\n",
    "            data[i].append(int(row[i]))\n",
    "            global_avg += int(row[i])\n",
    "global_avg /= len(data[0]) * 2\n",
    "print(data)\n"
   ]
  },
  {
   "cell_type": "code",
   "execution_count": 134,
   "metadata": {},
   "outputs": [
    {
     "name": "stdout",
     "output_type": "stream",
     "text": [
      "0.545400427864513\n"
     ]
    }
   ],
   "source": [
    "avgs = defaultdict(list)\n",
    "\n",
    "avgs[0] = sum(data[0]) / len(data[0])\n",
    "avgs[1] = sum(data[1]) / len(data[1])\n",
    "\n",
    "\n",
    "SSA = 10 * ((avgs[0] - global_avg)**2 + (avgs[1] - global_avg)**2)\n",
    "\n",
    "SSTot  = 0\n",
    "for key in data.keys():\n",
    "    for i in range(len(data[key])):\n",
    "        SSTot += (data[key][i] - global_avg)**2\n",
    "\n",
    "SSE = SSTot - SSA\n",
    "\n",
    "MSA = SSA / 1 # I - 1 = 2 - 1\n",
    "MSE = SSE / 18 # I(n - 1) = 2 (10 - 1)\n",
    "\n",
    "t = MSA/MSE\n",
    "\n",
    "p_value = 1 - scipy.stats.f.cdf(t, dfn = 1, dfd = 18)\n",
    "print(p_value)\n",
    "# Na poziomie istotności alfa = 0.05 nie ma podstaw do odrzucenia hipotezy"
   ]
  },
  {
   "cell_type": "code",
   "execution_count": null,
   "metadata": {},
   "outputs": [],
   "source": []
  }
 ],
 "metadata": {
  "kernelspec": {
   "display_name": "Python 3",
   "language": "python",
   "name": "python3"
  },
  "language_info": {
   "codemirror_mode": {
    "name": "ipython",
    "version": 3
   },
   "file_extension": ".py",
   "mimetype": "text/x-python",
   "name": "python",
   "nbconvert_exporter": "python",
   "pygments_lexer": "ipython3",
   "version": "3.8.3"
  }
 },
 "nbformat": 4,
 "nbformat_minor": 4
}
