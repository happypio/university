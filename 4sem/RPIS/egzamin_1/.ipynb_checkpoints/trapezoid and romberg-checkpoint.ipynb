{
 "cells": [
  {
   "cell_type": "code",
   "execution_count": 12,
   "metadata": {},
   "outputs": [],
   "source": [
    "def f(x):\n",
    "    return math.exp(-(x**2/2))\n",
    "def compositeTrapezoid(n,a,b):\n",
    "    h = (b-a)/n\n",
    "    sum = 0\n",
    "    for i in range(1,n):\n",
    "        sum += f(a + i*h)\n",
    "    return (1/2)*h*(f(a) + 2*sum + f(b))\n",
    "\n",
    "def RombergsMethod(n,a,b, Rombergs_tab):\n",
    "    new_R_tab = [compositeTrapezoid(n,a,b)]\n",
    "    for r in range(len(Rombergs_tab)):\n",
    "        new_R_tab.append(1/(4**(r+1) - 1) * ((4**(r+1)) * (new_R_tab[r]) - Rombergs_tab[r]))\n",
    "    Rombergs_tab = new_R_tab\n",
    "    return Rombergs_tab"
   ]
  },
  {
   "cell_type": "code",
   "execution_count": 37,
   "metadata": {},
   "outputs": [],
   "source": [
    "def I(x,experiment = True):\n",
    "    a,b = 0,x\n",
    "    N = 2 # N + 1 is number of points between (a,b) to error less than 10^(-8)\n",
    "    # We want to have N as a power of 2\n",
    "    bound = math.sqrt(((b-a)**3)/12) * 10**4\n",
    "    while N < bound:\n",
    "        N *= 2\n",
    "    if(experiment):\n",
    "        print(\"Minimum N required for given error:\",N)\n",
    "        print(\"Composite Trapezoid for\", N, \"subsets:\", compositeTrapezoid(N,a,b))\n",
    "    Rombergs_tab = []\n",
    "    i = 1\n",
    "    while i <= N:\n",
    "        Rombergs_tab = RombergsMethod(i,a,b,Rombergs_tab)\n",
    "        i *= 2\n",
    "    if (not experiment):\n",
    "        return Rombergs_tab[-1]\n",
    "    print(\"Romberg's method for\", N, \"subsets:\", Rombergs_tab[-1],'\\n')\n",
    "    Rombergs_tab = []\n",
    "    # Just for experiment with results of 2 methods\n",
    "    for n in [2**i for i in range(15)]:\n",
    "        Rombergs_tab = RombergsMethod(n,a,b,Rombergs_tab)\n",
    "        if n >= (2**10):\n",
    "            print(\"Composite Trapezoid for\", n, \"subsets:\", compositeTrapezoid(N,a,b))\n",
    "            print(\"Romberg's method for\", n, \"subsets:\", Rombergs_tab[-1])"
   ]
  },
  {
   "cell_type": "code",
   "execution_count": 40,
   "metadata": {},
   "outputs": [],
   "source": [
    "def phi(t):\n",
    "    if t >= 0:\n",
    "        return 1/2 + 1/(math.sqrt(2 * math.pi)) * I(t,False)\n",
    "    else:\n",
    "        return 1/2 - 1/(math.sqrt(2 * math.pi)) * I(-t,False)"
   ]
  },
  {
   "cell_type": "code",
   "execution_count": 43,
   "metadata": {},
   "outputs": [
    {
     "name": "stdout",
     "output_type": "stream",
     "text": [
      "Minimum N required for given error: 8192\n",
      "Composite Trapezoid for 8192 subsets: 1.1962880119781758\n",
      "Romberg's method for 8192 subsets: 1.1962880133226144 \n",
      "\n",
      "Composite Trapezoid for 1024 subsets: 1.1962880119781758\n",
      "Romberg's method for 1024 subsets: 1.1962880133226106\n",
      "Composite Trapezoid for 2048 subsets: 1.1962880119781758\n",
      "Romberg's method for 2048 subsets: 1.196288013322609\n",
      "Composite Trapezoid for 4096 subsets: 1.1962880119781758\n",
      "Romberg's method for 4096 subsets: 1.1962880133226013\n",
      "Composite Trapezoid for 8192 subsets: 1.1962880119781758\n",
      "Romberg's method for 8192 subsets: 1.1962880133226144\n",
      "Composite Trapezoid for 16384 subsets: 1.1962880119781758\n",
      "Romberg's method for 16384 subsets: 1.1962880133226068\n"
     ]
    },
    {
     "data": {
      "text/plain": [
       "0.9999997133484154"
      ]
     },
     "execution_count": 43,
     "metadata": {},
     "output_type": "execute_result"
    }
   ],
   "source": [
    "I(2)\n",
    "phi(5)"
   ]
  },
  {
   "cell_type": "code",
   "execution_count": null,
   "metadata": {},
   "outputs": [],
   "source": []
  }
 ],
 "metadata": {
  "kernelspec": {
   "display_name": "Python 3",
   "language": "python",
   "name": "python3"
  },
  "language_info": {
   "codemirror_mode": {
    "name": "ipython",
    "version": 3
   },
   "file_extension": ".py",
   "mimetype": "text/x-python",
   "name": "python",
   "nbconvert_exporter": "python",
   "pygments_lexer": "ipython3",
   "version": "3.8.3"
  }
 },
 "nbformat": 4,
 "nbformat_minor": 4
}
