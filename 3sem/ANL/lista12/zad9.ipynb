{
 "cells": [
  {
   "cell_type": "code",
   "execution_count": 201,
   "metadata": {},
   "outputs": [],
   "source": [
    "import numpy as np\n",
    "import math\n",
    "def fact(n):\n",
    "    ans = 1\n",
    "    for i in range(1,n + 1):\n",
    "        ans *= i\n",
    "    return ans\n",
    "def count_k(k,n):\n",
    "    coefficients = np.array([1])\n",
    "    for i in range(n+1):\n",
    "        if i != k:\n",
    "            tmp = np.copy(coefficients)\n",
    "            tmp *= -i\n",
    "            tmp = np.insert(tmp, len(tmp), 0, axis=0)\n",
    "            coefficients = np.insert(coefficients, 0, 0, axis=0)\n",
    "            coefficients += tmp\n",
    "    \n",
    "    w = 0\n",
    "    for i in reversed(range(n + 1)):\n",
    "        w = w*n + coefficients[i] / (i + 1)\n",
    "    w *= n #integral\n",
    "    w *= pow(-1, n-k)/(fact(k) * fact(n - k))\n",
    "    return w"
   ]
  },
  {
   "cell_type": "code",
   "execution_count": 202,
   "metadata": {},
   "outputs": [],
   "source": [
    "def f(x):\n",
    "    return 1/(1 + pow(x,2))"
   ]
  },
  {
   "cell_type": "code",
   "execution_count": 203,
   "metadata": {},
   "outputs": [],
   "source": [
    "def integral(n, a, b):\n",
    "    ans = 0\n",
    "    h = (b - a / n)\n",
    "    for i in range(n + 1):\n",
    "        t = count_k(i, n)\n",
    "        t *= h * f(a + h*i)\n",
    "        ans += t\n",
    "    return ans    "
   ]
  },
  {
   "cell_type": "code",
   "execution_count": 221,
   "metadata": {},
   "outputs": [],
   "source": [
    "I = 2 * np.arctan(3)"
   ]
  },
  {
   "cell_type": "code",
   "execution_count": 227,
   "metadata": {},
   "outputs": [
    {
     "name": "stdout",
     "output_type": "stream",
     "text": [
      "2.027503309502391\n",
      "0.07462204267140171\n",
      "1.6038348489283871\n",
      "2.7722250843157736\n",
      "3.609133824758622\n",
      "4.253110286531051\n"
     ]
    }
   ],
   "source": [
    "for i in range(1, 12, 2):\n",
    "    print(abs(I - integral(i, -4, 4)))"
   ]
  },
  {
   "cell_type": "code",
   "execution_count": 223,
   "metadata": {},
   "outputs": [],
   "source": [
    "def integral2(a, b):\n",
    "    h = (b-a/1)\n",
    "    print(1/2 * h * (f(a) + f(a + h)))\n",
    "    h = (b-a/3)\n",
    "    print(3/8 * h * (f(a) + 3*(f (a + h)) + 3*(f(a + 2*h)) + f(a + 3*h)))"
   ]
  },
  {
   "cell_type": "code",
   "execution_count": 224,
   "metadata": {},
   "outputs": [
    {
     "name": "stdout",
     "output_type": "stream",
     "text": [
      "0.6000000000000001\n",
      "2.5913696060037523\n"
     ]
    }
   ],
   "source": [
    "integral2(-3,3)"
   ]
  },
  {
   "cell_type": "code",
   "execution_count": 228,
   "metadata": {},
   "outputs": [
    {
     "name": "stdout",
     "output_type": "stream",
     "text": [
      "0.6000000000000001\n",
      "2.591369606003752\n"
     ]
    }
   ],
   "source": [
    "print(integral(1, -3, 3))\n",
    "print(integral(3,-3,3))"
   ]
  },
  {
   "cell_type": "code",
   "execution_count": null,
   "metadata": {},
   "outputs": [],
   "source": []
  }
 ],
 "metadata": {
  "kernelspec": {
   "display_name": "Python 3",
   "language": "python",
   "name": "python3"
  },
  "language_info": {
   "codemirror_mode": {
    "name": "ipython",
    "version": 3
   },
   "file_extension": ".py",
   "mimetype": "text/x-python",
   "name": "python",
   "nbconvert_exporter": "python",
   "pygments_lexer": "ipython3",
   "version": "3.8.3"
  }
 },
 "nbformat": 4,
 "nbformat_minor": 4
}
