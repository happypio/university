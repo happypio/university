{
 "cells": [
  {
   "cell_type": "code",
   "execution_count": 1,
   "metadata": {},
   "outputs": [],
   "source": [
    "sentences = []\n",
    "tests = []\n",
    "with open('sentences.txt') as f:\n",
    "    sentences = [\"<BOS>\" + i + \"<EOS>\" for i in f.read().split() if i != '\\n']\n",
    "with open('test.txt') as f:\n",
    "    tests = [i for i in f.read().split() if i != '\\n']"
   ]
  },
  {
   "cell_type": "code",
   "execution_count": 2,
   "metadata": {},
   "outputs": [
    {
     "data": {
      "text/plain": [
       "'oysteóeursuątyśhceszkupowakwięcec'"
      ]
     },
     "execution_count": 2,
     "metadata": {},
     "output_type": "execute_result"
    }
   ],
   "source": [
    "sentences[0]"
   ]
  },
  {
   "cell_type": "code",
   "execution_count": 2,
   "metadata": {},
   "outputs": [],
   "source": [
    "from tqdm.notebook import tqdm\n",
    "def gen_dict(d, words, n):\n",
    "    if len(words) == 0:\n",
    "        if n not in d:\n",
    "            d[n] = 0\n",
    "        d[n] += 1\n",
    "    else:\n",
    "        if words[0] not in d:\n",
    "            d[words[0]] = dict()\n",
    "        gen_dict(d[words[0]] , words[1:], n)\n",
    "    \n",
    "def loadNgrams(data, number):\n",
    "    Ngrams = [dict() for i in range(number)]\n",
    "    for gram in tqdm(range(number)):\n",
    "        for sen in data:\n",
    "            if len(sen) > gram:\n",
    "                words = [sen[i] for i in range(gram)]\n",
    "                for nxt in sen[gram:]:\n",
    "                    gen_dict(Ngrams[gram], words, nxt)\n",
    "                    for i in range(len(words)):\n",
    "                        if i == len(words) - 1:\n",
    "                            words[i] = nxt\n",
    "                        else:\n",
    "                            words[i] = words[i + 1]\n",
    "    return Ngrams\n",
    "                    \n",
    "    "
   ]
  },
  {
   "cell_type": "code",
   "execution_count": 3,
   "metadata": {},
   "outputs": [
    {
     "data": {
      "application/vnd.jupyter.widget-view+json": {
       "model_id": "d4668368870f4a39a01be22636a508a9",
       "version_major": 2,
       "version_minor": 0
      },
      "text/plain": [
       "HBox(children=(FloatProgress(value=0.0, max=6.0), HTML(value='')))"
      ]
     },
     "metadata": {},
     "output_type": "display_data"
    },
    {
     "name": "stdout",
     "output_type": "stream",
     "text": [
      "\n"
     ]
    }
   ],
   "source": [
    "Ngrams = loadNgrams(sentences, 6)"
   ]
  },
  {
   "cell_type": "code",
   "execution_count": 9,
   "metadata": {},
   "outputs": [],
   "source": [
    "from math import log as ln\n",
    "import random\n",
    "def check_dict(d, words, n):\n",
    "    if len(words) == 0:\n",
    "        if n in d:\n",
    "            return d[n]\n",
    "        return False\n",
    "    else:\n",
    "        if words[0] in d:\n",
    "            return check_dict(d[words[0]], words[1:], n)\n",
    "        return False\n",
    "\n",
    "lambdas = [[1], [1], [0.8, 0.2], [0.7, 0.2, 0.1], [0.6, 0.3, 0.06, 0.04]] # probs 2 grams, 3 grams, 4 grams, 5 grams, 6 grams\n",
    "def prob(c, lambds):\n",
    "    p = 0\n",
    "    l = 0\n",
    "    for i in range(len(c)):\n",
    "        if c[i]:\n",
    "            l = i + 1\n",
    "    #print(len(c), l)\n",
    "    for i in range(len(c) - l, len(lambds)):\n",
    "        p += lambds[i] * c[-1 - i] / c[-2 - i]\n",
    "    return ln(p)\n",
    "            \n",
    "def count_probability(w):\n",
    "    p = 0\n",
    "    length = 0\n",
    "    for l in range(6):\n",
    "        if len(w) > l:\n",
    "            length = l\n",
    "    words = [w[i] for i in range(length)]\n",
    "    words.append('')\n",
    "    for n in w[length:]:\n",
    "        words[length] = n\n",
    "        counts = [check_dict(Ngrams[length - i], words[i:length], words[length]) for i in reversed(range(length + 1))]\n",
    "        p += prob(counts, lambdas[length - 1])\n",
    "        for i in range(len(words) - 1):\n",
    "            words[i] = words[i + 1]\n",
    "    #if p != 0:\n",
    "        #print(p, w)\n",
    "    return p\n",
    "def check(w1, w2):\n",
    "    P_w1 = count_probability(w1)\n",
    "    P_w2 = count_probability(w2)\n",
    "    #print(w1, P_w1)\n",
    "    #print(w2, P_w2)\n",
    "    if (P_w1 > P_w2):\n",
    "        return w1\n",
    "    if (P_w1 == P_w2):\n",
    "        if random.randint(0,1) == 0:\n",
    "            return w1\n",
    "        \n",
    "        \n",
    "    #print(w1, P_w1)\n",
    "    #print(w2, P_w2)\n",
    "    return w2"
   ]
  },
  {
   "cell_type": "code",
   "execution_count": 10,
   "metadata": {},
   "outputs": [
    {
     "name": "stdout",
     "output_type": "stream",
     "text": [
      "0.88368\n"
     ]
    }
   ],
   "source": [
    "summ = 0\n",
    "g = 0\n",
    "for i in range(0, len(tests), 2):\n",
    "    summ += 1\n",
    "    g_word = check(tests[i], tests[i + 1])\n",
    "    if g_word == tests[i]:\n",
    "        g += 1\n",
    "print(g/summ)"
   ]
  },
  {
   "cell_type": "code",
   "execution_count": null,
   "metadata": {},
   "outputs": [],
   "source": []
  }
 ],
 "metadata": {
  "kernelspec": {
   "display_name": "Python 3",
   "language": "python",
   "name": "python3"
  },
  "language_info": {
   "codemirror_mode": {
    "name": "ipython",
    "version": 3
   },
   "file_extension": ".py",
   "mimetype": "text/x-python",
   "name": "python",
   "nbconvert_exporter": "python",
   "pygments_lexer": "ipython3",
   "version": "3.8.3"
  }
 },
 "nbformat": 4,
 "nbformat_minor": 4
}
