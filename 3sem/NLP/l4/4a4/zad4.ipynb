{
 "cells": [
  {
   "cell_type": "code",
   "execution_count": 1,
   "metadata": {},
   "outputs": [],
   "source": [
    "import numpy as np\n",
    "import re\n",
    "def load_tests(file):\n",
    "    originals = []\n",
    "    with open(file) as f:\n",
    "        for line in f:\n",
    "            if line[0] == 'P':\n",
    "                tmp = [i for i in re.split('POTENCJALNY_RYM:|\\[\\*\\]', line) if i != '']    \n",
    "            else:\n",
    "                tmp = [i for i in re.split('RYM:|\\[\\*\\]', line) if i != '']\n",
    "            tmp = [j.split() for j in tmp]\n",
    "            originals.append(tmp) \n",
    "    return originals"
   ]
  },
  {
   "cell_type": "code",
   "execution_count": 2,
   "metadata": {},
   "outputs": [],
   "source": [
    "def load_supertags(file):\n",
    "    d_tags = {}\n",
    "    d_words = {}\n",
    "    with open(file, 'r') as f:\n",
    "        for line in f:\n",
    "            t = line.split()[1]\n",
    "            w = line.split()[0]\n",
    "            d_words[w] = t\n",
    "            if t not in d_tags:\n",
    "                d_tags[t] = {}\n",
    "            d_tags[t][w] = 1\n",
    "    return d_tags, d_words"
   ]
  },
  {
   "cell_type": "code",
   "execution_count": 3,
   "metadata": {},
   "outputs": [],
   "source": [
    "def load_superbazes(file):\n",
    "    base = {}\n",
    "    with open(file) as f:\n",
    "        for line in f:\n",
    "            word, base_word = line.split()\n",
    "            base[word] = base_word\n",
    "    return base"
   ]
  },
  {
   "cell_type": "code",
   "execution_count": 4,
   "metadata": {},
   "outputs": [],
   "source": [
    "from tqdm.notebook import tqdm\n",
    "def load_vectors(file):\n",
    "    vectors = {}\n",
    "    with open(file) as f:\n",
    "        num_lines = sum(1 for line in open(file,'r'))\n",
    "        for line in tqdm(f, total=num_lines):\n",
    "            vec = line.split()\n",
    "            x = np.array([float(i) for i in vec[1:]])\n",
    "            vectors[vec[0]] = x\n",
    "    return vectors"
   ]
  },
  {
   "cell_type": "code",
   "execution_count": 5,
   "metadata": {},
   "outputs": [],
   "source": [
    "d_tags, d_words = load_supertags(\"supertags.txt\")\n",
    "originals = load_tests('rytmiczne_zdania_z_korpusu.txt')\n",
    "base = load_superbazes('superbazy.txt')"
   ]
  },
  {
   "cell_type": "code",
   "execution_count": 6,
   "metadata": {},
   "outputs": [
    {
     "data": {
      "application/vnd.jupyter.widget-view+json": {
       "model_id": "0c586edf195b409fb3b3e9e0447079ec",
       "version_major": 2,
       "version_minor": 0
      },
      "text/plain": [
       "HBox(children=(FloatProgress(value=0.0, max=532220.0), HTML(value='')))"
      ]
     },
     "metadata": {},
     "output_type": "display_data"
    },
    {
     "name": "stdout",
     "output_type": "stream",
     "text": [
      "\n"
     ]
    }
   ],
   "source": [
    "vectors = load_vectors('poleval_base_vectors.txt')"
   ]
  },
  {
   "cell_type": "code",
   "execution_count": 7,
   "metadata": {},
   "outputs": [],
   "source": [
    "sylabs = ['a','ą','e','ę','i','o','ó','u','y']\n",
    "d_sylabs = ['i' + i for i in sylabs if i != 'i']\n",
    "sylabs += [i.upper() for i in sylabs]\n",
    "\n",
    "def count_sylabs(s):\n",
    "    ans = []\n",
    "    for w in s:\n",
    "        c = 0\n",
    "        for l in range( len(w) - 1):\n",
    "            if w[l] in sylabs:\n",
    "                c += 1\n",
    "            if w[l] + w[l + 1] in d_sylabs:\n",
    "                c -= 1\n",
    "        if w[-1] in sylabs:\n",
    "            c += 1\n",
    "        if c != 0:\n",
    "            ans.append(c)\n",
    "    return ans\n",
    "\n",
    "def get_rhym(w):\n",
    "    c = 0\n",
    "    #print(w)\n",
    "    if w[-1] in sylabs:\n",
    "        c += 1\n",
    "    for l in range(len(w) - 2, 0, -1):\n",
    "        if w[l] in sylabs:\n",
    "            c += 1\n",
    "        if w[l] + w[l + 1] in d_sylabs:\n",
    "            c -= 1\n",
    "        if c == 2:\n",
    "            return w[l:]\n",
    "    return w\n",
    "\n",
    "def get_similar(words, og_word):\n",
    "    best = ''\n",
    "    m = 0\n",
    "    tab = []\n",
    "    o = og_word\n",
    "    if og_word in base:\n",
    "        og_word = base[og_word]\n",
    "    else:\n",
    "        return False\n",
    "    for w in words:\n",
    "        t = w\n",
    "        if w in base:\n",
    "            w = base[w]\n",
    "        else:\n",
    "            w = False\n",
    "        if w in vectors and og_word in vectors:\n",
    "            tmp = np.dot(vectors[w], vectors[og_word])\n",
    "            #print(tmp, w)\n",
    "            if tmp > m and o != t:\n",
    "                best = t\n",
    "                m = tmp\n",
    "    if best != '':\n",
    "        #print(o, best)\n",
    "        #print(words)\n",
    "        return best\n",
    "    return False"
   ]
  },
  {
   "cell_type": "code",
   "execution_count": 8,
   "metadata": {},
   "outputs": [],
   "source": [
    "def check(i, w):\n",
    "    if sum(count_sylabs([w])) == sum(count_sylabs([i])) and get_rhym(w) == get_rhym(i) and i != w:\n",
    "        return True\n",
    "    return False\n",
    "\n",
    "def find_best_rhym(w, tag, og_word):\n",
    "    possible = [i for i in list(d_tags[tag].keys()) if check(i, w)] \n",
    "    #if len(possible) < 10:\n",
    "        #print(possible)\n",
    "    return get_similar(possible, og_word)"
   ]
  },
  {
   "cell_type": "code",
   "execution_count": 9,
   "metadata": {},
   "outputs": [],
   "source": [
    "import copy\n",
    "def gen_poem(every=False):\n",
    "    sen = originals[np.random.choice(np.arange(len(originals)))]\n",
    "    ans = copy.deepcopy(sen)\n",
    "    id1_rhym = 0\n",
    "    id2_rhym = 0\n",
    "    for w in range(len(sen[0])):\n",
    "        if sen[0][w].isalpha():\n",
    "            id1_rhym = w\n",
    "    for w in range(len(sen[1])):\n",
    "        if sen[1][w].isalpha():\n",
    "            id2_rhym = w\n",
    "    \n",
    "    first = sen[0][id1_rhym]\n",
    "    if sen[1][id2_rhym] not in d_words:\n",
    "        #print(\"Couldn't find tag, trying again\", sen[1][id2_rhym])\n",
    "        return gen_poem(every)\n",
    "    second = find_best_rhym(first, d_words[sen[1][id2_rhym]], sen[1][id2_rhym])\n",
    "    if not second:\n",
    "        for i in range(10):\n",
    "            if second:\n",
    "                break\n",
    "            tmp = get_similar(list(d_tags[d_words[first]].keys()), first)\n",
    "            possible = list(d_tags[d_words[first]].keys())\n",
    "            first = possible[np.random.choice(np.arange(len(possible)))]\n",
    "            if tmp:\n",
    "                first = tmp\n",
    "            second = find_best_rhym(first, d_words[sen[1][id2_rhym]], sen[1][id2_rhym])\n",
    "        if not second:\n",
    "            #print(\"Couldn't find rhym, trying again\", sen[0][id1_rhym])\n",
    "            return gen_poem(every)\n",
    "    \n",
    "    ans[0][id1_rhym] = first\n",
    "    ans[1][id2_rhym] = second\n",
    "    \n",
    "    for v in range(2):\n",
    "        if v == 0:\n",
    "            e = id1_rhym\n",
    "        else:\n",
    "            e = id2_rhym\n",
    "        for w in range(e):\n",
    "            if every and sen[v][w].isalpha():\n",
    "                w2 = get_similar(list(d_tags[d_words[sen[v][w]]].keys()), sen[v][w])\n",
    "                if w2:\n",
    "                    ans[v][w] = w2\n",
    "            \n",
    "    return sen, ans"
   ]
  },
  {
   "cell_type": "code",
   "execution_count": 10,
   "metadata": {},
   "outputs": [],
   "source": [
    "def cout(s1, s2):\n",
    "    for i in range(2):\n",
    "        print(' '.join(s1[i]))\n",
    "    for i in range(2):\n",
    "        print(' '.join(s2[i]))"
   ]
  },
  {
   "cell_type": "code",
   "execution_count": 11,
   "metadata": {},
   "outputs": [
    {
     "name": "stdout",
     "output_type": "stream",
     "text": [
      "czy gościom i kibicom wystarczy zachodnia\n",
      "obwodnica poznania i autostrada ?\n",
      "czy gościom i kibicom wystarczy zachodnia\n",
      "obwodnica poznania i zarodnia ?\n",
      "\n",
      "skoro chcemy nałożyć nowe obowiązki\n",
      ", musimy wiedzieć , jakie za tym idą koszty .\n",
      "skoro chcemy nałożyć nowe obowiązki\n",
      ", musimy wiedzieć , jakie za tym idą nitrozwiązki .\n",
      "\n",
      "jedyne co możemy , to zainspirować\n",
      "lokalnych polityków i na nich naciskać .\n",
      "jedyne co możemy , to zainspirować\n",
      "lokalnych polityków i na nich interweniować .\n",
      "\n",
      "każda firma dodaje do wyposażenia\n",
      "kuchni co najmniej jedną blachę do pieczenia .\n",
      "każda firma dodaje do wyposażenia\n",
      "kuchni co najmniej jedną blachę do zaczerwienienia .\n",
      "\n",
      "potem zarzucił sobie łopatę na ramię\n",
      "i odszedł , nie spojrzawszy nawet na dziewczynkę .\n",
      "potem zarzucił sobie łopatę na ramię\n",
      "i odszedł , nie spojrzawszy nawet na amię .\n",
      "\n"
     ]
    }
   ],
   "source": [
    "for i in range(5):\n",
    "    s1,s2 = gen_poem()\n",
    "    cout(s1,s2)\n",
    "    print()"
   ]
  },
  {
   "cell_type": "code",
   "execution_count": 12,
   "metadata": {},
   "outputs": [
    {
     "name": "stdout",
     "output_type": "stream",
     "text": [
      "powyższe stanowisko wynika z przyjętych\n",
      "przez polskę zobowiązań międzynarodowych .\n",
      "niniejsze obsadzanie rozmija ze przyjętych\n",
      "poprzez litwę zadłużeń padniętych .\n",
      "\n",
      "utwór z elementami grozy i suspensu\n",
      ", jest także do pewnego stopnia formą żartu .\n",
      "teledysk ze czynnikami fantastyki i suspensu\n",
      ", przyrasta także ku interpretacyjnego orderu telepracą bezsensu .\n",
      "\n",
      "prawie pewne , że będzie to wiceminister\n",
      "obrony narodowej beata oczkowicz .\n",
      "dobrze interpretacyjne , że będzie tamto wiceminister\n",
      "piechoty gromadzkiej marzena gardemeister .\n",
      "\n",
      "tam , gdzie kiedyś potrzebne było zezwolenie\n",
      "na budowę , obecnie wystarczy zgłoszenie .\n",
      "knajpek , skąd skądś konieczne zostało zezwolenie\n",
      "pod obwodnicę , aktualnie odczeka doręczenie .\n",
      "\n",
      "nie tylko warto , ale trzeba nad tą kwestią\n",
      "podyskutować wspólnie , także z opozycją .\n",
      "nie tylko warto , ależ widać pod tą kwestią\n",
      "popracować wespół , także ze gestią .\n",
      "\n"
     ]
    }
   ],
   "source": [
    "for i in range(5):\n",
    "    s1,s2 = gen_poem(True)\n",
    "    cout(s1,s2)\n",
    "    print()"
   ]
  },
  {
   "cell_type": "code",
   "execution_count": null,
   "metadata": {},
   "outputs": [],
   "source": []
  }
 ],
 "metadata": {
  "kernelspec": {
   "display_name": "Python 3",
   "language": "python",
   "name": "python3"
  },
  "language_info": {
   "codemirror_mode": {
    "name": "ipython",
    "version": 3
   },
   "file_extension": ".py",
   "mimetype": "text/x-python",
   "name": "python",
   "nbconvert_exporter": "python",
   "pygments_lexer": "ipython3",
   "version": "3.8.3"
  }
 },
 "nbformat": 4,
 "nbformat_minor": 4
}
