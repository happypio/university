{
 "cells": [
  {
   "cell_type": "code",
   "execution_count": 54,
   "metadata": {},
   "outputs": [],
   "source": [
    "import random\n",
    "import numpy as np\n",
    "diceg = 0\n",
    "dicech = 1\n",
    "p = {}\n",
    "p[diceg] = 0.05\n",
    "p[dicech] = 0.04\n",
    "pd = {}\n",
    "pd[diceg] = [1/6 for i in range(6)]\n",
    "pd[dicech] = [1/10 for i in range(5)] + [0.5]"
   ]
  },
  {
   "cell_type": "code",
   "execution_count": 55,
   "metadata": {},
   "outputs": [],
   "source": [
    "def generate_rolls(dice):\n",
    "    for i in range(10000):\n",
    "        if random.random() < p[dice]:\n",
    "            dice = (dice + 1) % 2\n",
    "        res = np.random.choice(6, p = pd[dice]) + 1\n",
    "        data.append(res)\n",
    "        dices.append(dice)"
   ]
  },
  {
   "cell_type": "code",
   "execution_count": 56,
   "metadata": {},
   "outputs": [],
   "source": [
    "data = []\n",
    "dices = []\n",
    "generate_rolls(diceg)"
   ]
  },
  {
   "cell_type": "code",
   "execution_count": 66,
   "metadata": {},
   "outputs": [],
   "source": [
    "def heuristic(data, length):\n",
    "    ans = []\n",
    "    for i in range(len(data)):\n",
    "        cluster = data[max(i-length, 0):min(i+length, len(data))]\n",
    "        sixes = 0\n",
    "        for c in cluster:\n",
    "            if c == 6:\n",
    "                sixes += 1\n",
    "        if sixes > 0.32 * len(cluster):\n",
    "            ans.append(dicech)\n",
    "        else:\n",
    "            ans.append(diceg)\n",
    "    return ans  \n",
    "def score(guess):\n",
    "    ans = 0\n",
    "    for i in range(10000):\n",
    "        if guess[i] == dices[i]:\n",
    "            ans+=1\n",
    "    return ans / len(guess)"
   ]
  },
  {
   "cell_type": "code",
   "execution_count": 58,
   "metadata": {},
   "outputs": [
    {
     "name": "stdout",
     "output_type": "stream",
     "text": [
      "1 : 0.7205\n",
      "2 : 0.7422\n",
      "3 : 0.7936\n",
      "4 : 0.8053\n",
      "5 : 0.802\n",
      "6 : 0.8229\n",
      "7 : 0.8295\n",
      "8 : 0.8224\n",
      "9 : 0.828\n",
      "10 : 0.8222\n",
      "11 : 0.8142\n",
      "12 : 0.8169\n",
      "13 : 0.8055\n",
      "14 : 0.8066\n",
      "15 : 0.7999\n",
      "16 : 0.7936\n",
      "17 : 0.7974\n",
      "18 : 0.7925\n",
      "19 : 0.7803\n"
     ]
    }
   ],
   "source": [
    "for i in range(1,20):\n",
    "    h_ans = heuristic(data, i)\n",
    "    print(i,\":\",score(h_ans))"
   ]
  },
  {
   "cell_type": "code",
   "execution_count": 59,
   "metadata": {},
   "outputs": [
    {
     "name": "stdout",
     "output_type": "stream",
     "text": [
      "0.8229\n"
     ]
    }
   ],
   "source": [
    "print(score(heuristic(data, 6)))"
   ]
  },
  {
   "cell_type": "code",
   "execution_count": 60,
   "metadata": {},
   "outputs": [],
   "source": [
    "p_transition = [[1- p[dicech], p[dicech]],[p[diceg], 1 - p[diceg]]] # tablica przejsc\n",
    "#emisja bedzie rzut koscia z odpowiednimi prawdopodobienstwami pd \n",
    "#- upraszczamy do emitowania w danym stanie\n",
    "emision = [pd[0],pd[1]]"
   ]
  },
  {
   "cell_type": "code",
   "execution_count": 61,
   "metadata": {},
   "outputs": [],
   "source": [
    "def forward_backward(p_transition, emision):\n",
    "    alpha = [[0 for i in range(10000)],\n",
    "            [0 for i in range(10000)]] # p-stwo, ze w i-tym kroku bedziemy w (0,1) stanie\n",
    "    alpha[0][0] = 1\n",
    "    alpha[0][1] = 0 # bo startujemy z kostki 'poprawnej'\n",
    "    def count_alpha(T):\n",
    "        for t in range(1,T):\n",
    "            for j in range(2):\n",
    "                a0 = alpha[0][t-1] * p_transition[0][j] * emision[j][int(data[t] - 1)]\n",
    "                a1 = alpha[1][t-1] * p_transition[1][j] * emision[j][int(data[t] - 1)]\n",
    "                alpha[j][t] = a0 + a1  \n",
    "                #alpha[j][t] *= 6\n",
    "            n = alpha[0][t] + alpha[1][t]\n",
    "            alpha[0][t] = alpha[0][t] / n\n",
    "            alpha[1][t] = alpha[1][t] / n\n",
    "\n",
    "    beta = [[0 for i in range(10001)],\n",
    "            [0 for i in range(10001)]] # p-stwo, ze w i-tym kroku bedziemy w (0,1) stanie\n",
    "    beta[0][-1] = 1\n",
    "    beta[1][-1] = 1\n",
    "    def count_beta(T):\n",
    "        for t in range(T-1,-1,-1):\n",
    "            for j in range(2):\n",
    "                b0 = beta[0][t+1] * p_transition[j][0] * emision[0][int(data[t] - 1)]\n",
    "                b1 = beta[1][t+1] * p_transition[j][1] * emision[1][int(data[t] - 1)]\n",
    "                beta[j][t] = b0 + b1  \n",
    "                #beta[j][t] *= 6\n",
    "            n = beta[0][t] + beta[1][t]\n",
    "            beta[0][t] = beta[0][t] / n\n",
    "            beta[1][t] = beta[1][t] / n\n",
    "    count_alpha(10000)\n",
    "    count_beta(10000)\n",
    "    ab = [[0 for i in range(10000)],\n",
    "        [0 for i in range(10000)]]\n",
    "    for i in range(len(ab[0])):\n",
    "        n = alpha[0][i] * beta[0][i] + alpha[1][i] * beta[1][i]\n",
    "        ab[0][i] = alpha[0][i] * beta[0][i] / n\n",
    "        ab[1][i] = alpha[1][i] * beta[1][i] / n\n",
    "    return alpha, beta, ab"
   ]
  },
  {
   "cell_type": "code",
   "execution_count": 62,
   "metadata": {},
   "outputs": [],
   "source": [
    "a,b,g = forward_backward(p_transition, emision)"
   ]
  },
  {
   "cell_type": "code",
   "execution_count": 63,
   "metadata": {},
   "outputs": [],
   "source": [
    "def gen_dices(m):\n",
    "    ans = []\n",
    "    for i in range(len(m[0])):\n",
    "        if m[0][i] > m[1][i]:\n",
    "            ans.append(0)\n",
    "        else:\n",
    "            ans.append(1)\n",
    "    return ans"
   ]
  },
  {
   "cell_type": "code",
   "execution_count": 67,
   "metadata": {},
   "outputs": [
    {
     "name": "stdout",
     "output_type": "stream",
     "text": [
      "0.7777\n",
      "0.7861213878612139\n",
      "0.8321\n"
     ]
    }
   ],
   "source": [
    "print(score(gen_dices(a)))\n",
    "print(score(gen_dices(b)))\n",
    "print(score(gen_dices(g)))"
   ]
  },
  {
   "cell_type": "code",
   "execution_count": null,
   "metadata": {},
   "outputs": [],
   "source": []
  }
 ],
 "metadata": {
  "kernelspec": {
   "display_name": "Python 3",
   "language": "python",
   "name": "python3"
  },
  "language_info": {
   "codemirror_mode": {
    "name": "ipython",
    "version": 3
   },
   "file_extension": ".py",
   "mimetype": "text/x-python",
   "name": "python",
   "nbconvert_exporter": "python",
   "pygments_lexer": "ipython3",
   "version": "3.8.3"
  }
 },
 "nbformat": 4,
 "nbformat_minor": 4
}
