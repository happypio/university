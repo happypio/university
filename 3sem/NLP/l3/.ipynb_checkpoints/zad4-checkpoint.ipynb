{
 "cells": [
  {
   "cell_type": "code",
   "execution_count": 182,
   "metadata": {},
   "outputs": [],
   "source": [
    "casino = []\n",
    "with open('kasyno10K.txt') as f:\n",
    "    casino = [int(i) for i in f.read() if i != '\\n' ]"
   ]
  },
  {
   "cell_type": "code",
   "execution_count": 183,
   "metadata": {},
   "outputs": [],
   "source": [
    "def forward_backward(p_transition, emision, data):\n",
    "    alpha = [[0 for i in range(10000)],\n",
    "            [0 for i in range(10000)]] # p-stwo, ze w i-tym kroku bedziemy w (0,1) stanie\n",
    "    alpha[0][0] = 1 \n",
    "    alpha[0][1] = 0 # bo startujemy z kostki 'poprawnej'\n",
    "    def count_alpha(T):\n",
    "        for t in range(1,T):\n",
    "            for j in range(2):\n",
    "                a0 = alpha[0][t-1] * p_transition[0][j] * emision[j][int(data[t] - 1)]\n",
    "                a1 = alpha[1][t-1] * p_transition[1][j] * emision[j][int(data[t] - 1)]\n",
    "                alpha[j][t] = a0 + a1  \n",
    "                #alpha[j][t] *= 6\n",
    "            n = alpha[0][t] + alpha[1][t]\n",
    "            alpha[0][t] = alpha[0][t] / n\n",
    "            alpha[1][t] = alpha[1][t] / n\n",
    "\n",
    "    beta = [[0 for i in range(10000)],\n",
    "            [0 for i in range(10000)]] # p-stwo, ze w i-tym kroku bedziemy w (0,1) stanie\n",
    "    beta[0][-1] = 1\n",
    "    beta[1][-1] = 1\n",
    "    def count_beta(T):\n",
    "        for t in range(T-2,-1,-1):\n",
    "            for j in range(2):\n",
    "                b0 = beta[0][t+1] * p_transition[j][0] * emision[0][int(data[t+1] - 1)]\n",
    "                b1 = beta[1][t+1] * p_transition[j][1] * emision[1][int(data[t+1] - 1)]\n",
    "                beta[j][t] = b0 + b1  \n",
    "                #beta[j][t] *= 6\n",
    "            n = beta[0][t] + beta[1][t]\n",
    "            beta[0][t] = beta[0][t] / n\n",
    "            beta[1][t] = beta[1][t] / n\n",
    "    count_alpha(10000)\n",
    "    count_beta(10000)\n",
    "    ab = [[0 for i in range(10000)],\n",
    "        [0 for i in range(10000)]]\n",
    "    for i in range(len(ab[0])):\n",
    "        n = alpha[0][i] * beta[0][i] + alpha[1][i] * beta[1][i]\n",
    "        ab[0][i] = alpha[0][i] * beta[0][i] / n\n",
    "        ab[1][i] = alpha[1][i] * beta[1][i] / n\n",
    "    return alpha, beta, ab"
   ]
  },
  {
   "cell_type": "code",
   "execution_count": 184,
   "metadata": {},
   "outputs": [],
   "source": [
    "import random\n",
    "from tqdm.notebook import tqdm\n",
    "def r_d():\n",
    "    p = random.choices([i for i in range(1,10)], k=6)\n",
    "    pp = sum(p)\n",
    "    return [i/pp for i in p]\n",
    "def Baum_Welch(data):\n",
    "    p0 = 0.05\n",
    "    p1 = 0.05\n",
    "    p_transition = [[1 - p0, p0], [p1, 1 - p1]]\n",
    "    emision = [r_d(),r_d()]\n",
    "    #print(emision)\n",
    "    it = 300\n",
    "    for _ in tqdm(range(it)):\n",
    "        ksi = [[[0,0],[0,0]] for i in range(10000 - 1)]\n",
    "        alpha, beta, gamma = forward_backward(p_transition, emision, data)\n",
    "        for t in range(10000 - 1):\n",
    "            summ = 0\n",
    "            for i in range(2):\n",
    "                for j in range(2):\n",
    "                    summ += alpha[i][t] * p_transition[i][j] * beta[j][t + 1] * emision[j][data[t + 1] - 1]\n",
    "                #print(summ, alpha[i][t], beta[i][t])\n",
    "            for i in range(2):\n",
    "                for j in range(2):\n",
    "                    ksi[t][i][j] = (alpha[i][t] * p_transition[i][j] * emision[j][data[t + 1] - 1] * beta[j][t + 1])/ summ\n",
    "        \n",
    "        new_transition = [[0,0],[0,0]]\n",
    "        for i in range(2):\n",
    "            for j in range(2):\n",
    "                sum1 = 0\n",
    "                sum2 = 0\n",
    "                for t in range(10000 - 1):\n",
    "                    sum1 += ksi[t][i][j]\n",
    "                    sum2 += gamma[i][t]\n",
    "                new_transition[i][j] = sum1 / sum2\n",
    "        new_emision = [[0 for i in range(6)] for j in range(2)]\n",
    "        for i in range(2):\n",
    "            for k in range(6):\n",
    "                sum1 = 0\n",
    "                sum2 = 0\n",
    "                for t in range(10000):\n",
    "                    if data[t] == k + 1:\n",
    "                        sum1 += gamma[i][t]\n",
    "                    sum2 += gamma[i][t]\n",
    "                new_emision[i][k] = sum1 / sum2\n",
    "        p_transition = new_transition\n",
    "        emision = new_emision\n",
    "        \n",
    "        for i in range(2):\n",
    "            p = sum(p_transition[i])\n",
    "            for j in range(2):\n",
    "                p_transition[i][j] /= p\n",
    "        #print(p_transition)\n",
    "        #print(emision)\n",
    "    \n",
    "    return p_transition, emision\n",
    "    "
   ]
  },
  {
   "cell_type": "code",
   "execution_count": 185,
   "metadata": {},
   "outputs": [
    {
     "data": {
      "application/vnd.jupyter.widget-view+json": {
       "model_id": "b829d79d271b4218b2768705b038515d",
       "version_major": 2,
       "version_minor": 0
      },
      "text/plain": [
       "HBox(children=(FloatProgress(value=0.0, max=300.0), HTML(value='')))"
      ]
     },
     "metadata": {},
     "output_type": "display_data"
    },
    {
     "name": "stdout",
     "output_type": "stream",
     "text": [
      "\n"
     ]
    },
    {
     "data": {
      "text/plain": [
       "([[0.96537510776007, 0.03462489223993009],\n",
       "  [0.04975314165451777, 0.9502468583454823]],\n",
       " [[0.08959262483257435,\n",
       "   0.09649711802965275,\n",
       "   0.10385479972775373,\n",
       "   0.09875674072200362,\n",
       "   0.20589256170586526,\n",
       "   0.40540615498214966],\n",
       "  [0.2115341181952381,\n",
       "   0.19741476979454248,\n",
       "   0.29796772049736164,\n",
       "   0.08811167136997357,\n",
       "   0.1057331328758571,\n",
       "   0.09923858726703148]])"
      ]
     },
     "execution_count": 185,
     "metadata": {},
     "output_type": "execute_result"
    }
   ],
   "source": [
    "Baum_Welch(casino)"
   ]
  },
  {
   "cell_type": "markdown",
   "metadata": {},
   "source": [
    "# RESULT"
   ]
  },
  {
   "cell_type": "markdown",
   "metadata": {},
   "source": [
    "dobra kostka: p_zmiany ~ 0.35 ,\n",
    "[0.9, 0.10, 0.10, 0.10, 0.20, 0.41] <br>\n",
    "zla kostka: p_zmiany ~ 0.05 ,\n",
    "[0.21, 0.20, 0.20, 0.10, 0.10, 0.10]"
   ]
  },
  {
   "cell_type": "code",
   "execution_count": null,
   "metadata": {},
   "outputs": [],
   "source": []
  }
 ],
 "metadata": {
  "kernelspec": {
   "display_name": "Python 3",
   "language": "python",
   "name": "python3"
  },
  "language_info": {
   "codemirror_mode": {
    "name": "ipython",
    "version": 3
   },
   "file_extension": ".py",
   "mimetype": "text/x-python",
   "name": "python",
   "nbconvert_exporter": "python",
   "pygments_lexer": "ipython3",
   "version": "3.8.3"
  }
 },
 "nbformat": 4,
 "nbformat_minor": 4
}
