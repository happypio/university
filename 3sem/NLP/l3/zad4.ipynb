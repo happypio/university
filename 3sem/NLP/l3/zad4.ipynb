{
 "cells": [
  {
   "cell_type": "code",
   "execution_count": 1,
   "metadata": {},
   "outputs": [],
   "source": [
    "casino = []\n",
    "with open('kasyno10K.txt') as f:\n",
    "    casino = [int(i) for i in f.read() if i != '\\n' ]"
   ]
  },
  {
   "cell_type": "code",
   "execution_count": 2,
   "metadata": {},
   "outputs": [],
   "source": [
    "def forward_backward(p_transition, emision, data):\n",
    "    alpha = [[0 for i in range(10000)],\n",
    "            [0 for i in range(10000)]] # p-stwo, ze w i-tym kroku bedziemy w (0,1) stanie\n",
    "    alpha[0][0] = 1 \n",
    "    alpha[0][1] = 0 # bo startujemy z kostki 'poprawnej'\n",
    "    def count_alpha(T):\n",
    "        for t in range(1,T):\n",
    "            for j in range(2):\n",
    "                a0 = alpha[0][t-1] * p_transition[0][j] * emision[j][int(data[t] - 1)]\n",
    "                a1 = alpha[1][t-1] * p_transition[1][j] * emision[j][int(data[t] - 1)]\n",
    "                alpha[j][t] = a0 + a1  \n",
    "                #alpha[j][t] *= 6\n",
    "            n = alpha[0][t] + alpha[1][t]\n",
    "            alpha[0][t] = alpha[0][t] / n\n",
    "            alpha[1][t] = alpha[1][t] / n\n",
    "\n",
    "    beta = [[0 for i in range(10000)],\n",
    "            [0 for i in range(10000)]] # p-stwo, ze w i-tym kroku bedziemy w (0,1) stanie\n",
    "    beta[0][-1] = 1\n",
    "    beta[1][-1] = 1\n",
    "    def count_beta(T):\n",
    "        for t in range(T-2,-1,-1):\n",
    "            for j in range(2):\n",
    "                b0 = beta[0][t+1] * p_transition[j][0] * emision[0][int(data[t+1] - 1)]\n",
    "                b1 = beta[1][t+1] * p_transition[j][1] * emision[1][int(data[t+1] - 1)]\n",
    "                beta[j][t] = b0 + b1  \n",
    "                #beta[j][t] *= 6\n",
    "            n = beta[0][t] + beta[1][t]\n",
    "            beta[0][t] = beta[0][t] / n\n",
    "            beta[1][t] = beta[1][t] / n\n",
    "    count_alpha(10000)\n",
    "    count_beta(10000)\n",
    "    ab = [[0 for i in range(10000)],\n",
    "        [0 for i in range(10000)]]\n",
    "    for i in range(len(ab[0])):\n",
    "        n = alpha[0][i] * beta[0][i] + alpha[1][i] * beta[1][i]\n",
    "        ab[0][i] = alpha[0][i] * beta[0][i] / n\n",
    "        ab[1][i] = alpha[1][i] * beta[1][i] / n\n",
    "    return alpha, beta, ab"
   ]
  },
  {
   "cell_type": "code",
   "execution_count": 7,
   "metadata": {},
   "outputs": [],
   "source": [
    "import random\n",
    "from tqdm.notebook import tqdm\n",
    "def r_d():\n",
    "    r = [random.randint(1,6) for i in range(6)]\n",
    "    #p = random.choices([i for i in range(1,10)], k=6)\n",
    "    summ = sum(r)\n",
    "    return [i/summ for i in r]\n",
    "def Baum_Welch(data, p0, p1):\n",
    "    p_transition = [[1 - p0, p0], [p1, 1 - p1]]\n",
    "    emision = [r_d(),r_d()]\n",
    "    #print(emision)\n",
    "    it = 300\n",
    "    for _ in tqdm(range(it)):\n",
    "        ksi = [[[0,0],[0,0]] for i in range(10000 - 1)]\n",
    "        alpha, beta, gamma = forward_backward(p_transition, emision, data)\n",
    "        for t in range(10000 - 1):\n",
    "            summ = 0\n",
    "            for i in range(2):\n",
    "                for j in range(2):\n",
    "                    summ += alpha[i][t] * p_transition[i][j] * beta[j][t + 1] * emision[j][data[t + 1] - 1]\n",
    "                #print(summ, alpha[i][t], beta[i][t])\n",
    "            for i in range(2):\n",
    "                for j in range(2):\n",
    "                    ksi[t][i][j] = (alpha[i][t] * p_transition[i][j] * emision[j][data[t + 1] - 1] * beta[j][t + 1])/ summ\n",
    "        \n",
    "        new_transition = [[0,0],[0,0]]\n",
    "        for i in range(2):\n",
    "            for j in range(2):\n",
    "                sum1 = 0\n",
    "                sum2 = 0\n",
    "                for t in range(10000 - 1):\n",
    "                    sum1 += ksi[t][i][j]\n",
    "                    sum2 += gamma[i][t]\n",
    "                new_transition[i][j] = sum1 / sum2\n",
    "        new_emision = [[0 for i in range(6)] for j in range(2)]\n",
    "        for i in range(2):\n",
    "            for k in range(6):\n",
    "                sum1 = 0\n",
    "                sum2 = 0\n",
    "                for t in range(10000):\n",
    "                    if data[t] == k + 1:\n",
    "                        sum1 += gamma[i][t]\n",
    "                    sum2 += gamma[i][t]\n",
    "                new_emision[i][k] = sum1 / sum2\n",
    "        p_transition = new_transition\n",
    "        emision = new_emision\n",
    "        \n",
    "        for i in range(2):\n",
    "            p = sum(p_transition[i])\n",
    "            for j in range(2):\n",
    "                p_transition[i][j] /= p\n",
    "        #print(p_transition)\n",
    "        #print(emision)\n",
    "    \n",
    "    return p_transition, emision\n",
    "    "
   ]
  },
  {
   "cell_type": "code",
   "execution_count": 8,
   "metadata": {
    "scrolled": true
   },
   "outputs": [
    {
     "data": {
      "application/vnd.jupyter.widget-view+json": {
       "model_id": "7f1539d799a44d7596268a89e982f081",
       "version_major": 2,
       "version_minor": 0
      },
      "text/plain": [
       "HBox(children=(FloatProgress(value=0.0, max=300.0), HTML(value='')))"
      ]
     },
     "metadata": {},
     "output_type": "display_data"
    },
    {
     "name": "stdout",
     "output_type": "stream",
     "text": [
      "\n"
     ]
    },
    {
     "data": {
      "text/plain": [
       "([[0.950504289736249, 0.04949571026375104],\n",
       "  [0.03428011104107674, 0.9657198889589234]],\n",
       " [[0.2116636516896978,\n",
       "   0.19726275852304212,\n",
       "   0.29808526441389377,\n",
       "   0.08817544334849349,\n",
       "   0.10562805252132003,\n",
       "   0.0991848295035517],\n",
       "  [0.0894988099976941,\n",
       "   0.09659908212299737,\n",
       "   0.10376688767770015,\n",
       "   0.09871290868081946,\n",
       "   0.2059687075597558,\n",
       "   0.4054536039610376]])"
      ]
     },
     "execution_count": 8,
     "metadata": {},
     "output_type": "execute_result"
    }
   ],
   "source": [
    "Baum_Welch(casino, 0.05 , 0.05)"
   ]
  },
  {
   "cell_type": "markdown",
   "metadata": {},
   "source": [
    "# RESULT"
   ]
  },
  {
   "cell_type": "markdown",
   "metadata": {},
   "source": [
    "dobra kostka: p_zmiany ~ 0.03 ,\n",
    "[0.20, 0.20, 0.30, 0.10, 0.10, 0.10] <br>\n",
    "zla kostka: p_zmiany ~ 0.05 ,\n",
    "[0.10, 0.10, 0.10, 0.10, 0.20, 0.40]"
   ]
  },
  {
   "cell_type": "code",
   "execution_count": 9,
   "metadata": {},
   "outputs": [
    {
     "data": {
      "application/vnd.jupyter.widget-view+json": {
       "model_id": "98896cb0cc244e94bea6563ae0231426",
       "version_major": 2,
       "version_minor": 0
      },
      "text/plain": [
       "HBox(children=(FloatProgress(value=0.0, max=300.0), HTML(value='')))"
      ]
     },
     "metadata": {},
     "output_type": "display_data"
    },
    {
     "name": "stdout",
     "output_type": "stream",
     "text": [
      "\n"
     ]
    },
    {
     "data": {
      "text/plain": [
       "([[0.96537510776007, 0.03462489223993013],\n",
       "  [0.049753141654517774, 0.9502468583454822]],\n",
       " [[0.08959262483257437,\n",
       "   0.09649711802965275,\n",
       "   0.10385479972775376,\n",
       "   0.09875674072200365,\n",
       "   0.20589256170586528,\n",
       "   0.40540615498214977],\n",
       "  [0.2115341181952381,\n",
       "   0.19741476979454242,\n",
       "   0.29796772049736153,\n",
       "   0.08811167136997353,\n",
       "   0.10573313287585709,\n",
       "   0.0992385872670315]])"
      ]
     },
     "execution_count": 9,
     "metadata": {},
     "output_type": "execute_result"
    }
   ],
   "source": [
    "Baum_Welch(casino, 0.1, 0.1)"
   ]
  },
  {
   "cell_type": "markdown",
   "metadata": {},
   "source": [
    "dobra kostka: p_zmiany ~ 0.03 ,\n",
    "[0.09, 0.10, 0.10, 0.10, 0.20, 0.41] <br>\n",
    "zla kostka: p_zmiany ~ 0.05 ,\n",
    "[0.20, 0.20, 0.30, 0.10, 0.10, 0.10]"
   ]
  },
  {
   "cell_type": "code",
   "execution_count": 10,
   "metadata": {},
   "outputs": [
    {
     "data": {
      "application/vnd.jupyter.widget-view+json": {
       "model_id": "5789d8228ab04249aad903deb61de324",
       "version_major": 2,
       "version_minor": 0
      },
      "text/plain": [
       "HBox(children=(FloatProgress(value=0.0, max=300.0), HTML(value='')))"
      ]
     },
     "metadata": {},
     "output_type": "display_data"
    },
    {
     "name": "stdout",
     "output_type": "stream",
     "text": [
      "\n"
     ]
    },
    {
     "data": {
      "text/plain": [
       "([[0.96537510776007, 0.03462489223993014],\n",
       "  [0.049753141654517774, 0.9502468583454822]],\n",
       " [[0.08959262483257437,\n",
       "   0.09649711802965272,\n",
       "   0.1038547997277537,\n",
       "   0.09875674072200366,\n",
       "   0.20589256170586534,\n",
       "   0.4054061549821499],\n",
       "  [0.21153411819523804,\n",
       "   0.1974147697945424,\n",
       "   0.2979677204973616,\n",
       "   0.08811167136997354,\n",
       "   0.10573313287585707,\n",
       "   0.0992385872670315]])"
      ]
     },
     "execution_count": 10,
     "metadata": {},
     "output_type": "execute_result"
    }
   ],
   "source": [
    "Baum_Welch(casino, 0.15, 0.15)"
   ]
  },
  {
   "cell_type": "markdown",
   "metadata": {},
   "source": [
    "dobra kostka: p_zmiany ~ 0.03 ,\n",
    "[0.09, 0.10, 0.10, 0.10, 0.20, 0.41] <br>\n",
    "zla kostka: p_zmiany ~ 0.05 ,\n",
    "[0.20, 0.20, 0.30, 0.10, 0.10, 0.10]"
   ]
  },
  {
   "cell_type": "code",
   "execution_count": 11,
   "metadata": {},
   "outputs": [
    {
     "data": {
      "application/vnd.jupyter.widget-view+json": {
       "model_id": "f35f9f1300b343cf8adfce429573316f",
       "version_major": 2,
       "version_minor": 0
      },
      "text/plain": [
       "HBox(children=(FloatProgress(value=0.0, max=300.0), HTML(value='')))"
      ]
     },
     "metadata": {},
     "output_type": "display_data"
    },
    {
     "name": "stdout",
     "output_type": "stream",
     "text": [
      "\n"
     ]
    },
    {
     "data": {
      "text/plain": [
       "([[0.9653751077600699, 0.0346248922399301],\n",
       "  [0.04975314165451777, 0.9502468583454823]],\n",
       " [[0.08959262483257435,\n",
       "   0.09649711802965275,\n",
       "   0.10385479972775376,\n",
       "   0.09875674072200362,\n",
       "   0.20589256170586526,\n",
       "   0.40540615498214966],\n",
       "  [0.21153411819523812,\n",
       "   0.19741476979454248,\n",
       "   0.29796772049736164,\n",
       "   0.08811167136997357,\n",
       "   0.1057331328758571,\n",
       "   0.0992385872670315]])"
      ]
     },
     "execution_count": 11,
     "metadata": {},
     "output_type": "execute_result"
    }
   ],
   "source": [
    "Baum_Welch(casino, 0.30, 0.30)"
   ]
  },
  {
   "cell_type": "markdown",
   "metadata": {},
   "source": [
    "dobra kostka: p_zmiany ~ 0.03 ,\n",
    "[0.09, 0.10, 0.10, 0.10, 0.20, 0.41] <br>\n",
    "zla kostka: p_zmiany ~ 0.05 ,\n",
    "[0.20, 0.20, 0.30, 0.10, 0.10, 0.10]"
   ]
  },
  {
   "cell_type": "code",
   "execution_count": 12,
   "metadata": {},
   "outputs": [
    {
     "data": {
      "application/vnd.jupyter.widget-view+json": {
       "model_id": "af767a182832447ba93fe4ae4be5c02d",
       "version_major": 2,
       "version_minor": 0
      },
      "text/plain": [
       "HBox(children=(FloatProgress(value=0.0, max=300.0), HTML(value='')))"
      ]
     },
     "metadata": {},
     "output_type": "display_data"
    },
    {
     "name": "stdout",
     "output_type": "stream",
     "text": [
      "\n"
     ]
    },
    {
     "data": {
      "text/plain": [
       "([[0.9653751077600699, 0.034624892239930115],\n",
       "  [0.049753141654517795, 0.9502468583454821]],\n",
       " [[0.08959262483257437,\n",
       "   0.09649711802965273,\n",
       "   0.10385479972775373,\n",
       "   0.09875674072200365,\n",
       "   0.20589256170586523,\n",
       "   0.4054061549821497],\n",
       "  [0.2115341181952381,\n",
       "   0.19741476979454245,\n",
       "   0.2979677204973617,\n",
       "   0.08811167136997355,\n",
       "   0.10573313287585705,\n",
       "   0.09923858726703148]])"
      ]
     },
     "execution_count": 12,
     "metadata": {},
     "output_type": "execute_result"
    }
   ],
   "source": [
    "Baum_Welch(casino, 0.40, 0.40)"
   ]
  },
  {
   "cell_type": "markdown",
   "metadata": {},
   "source": [
    "dobra kostka: p_zmiany ~ 0.03 ,\n",
    "[0.09, 0.10, 0.10, 0.10, 0.20, 0.41] <br>\n",
    "zla kostka: p_zmiany ~ 0.05 ,\n",
    "[0.20, 0.20, 0.30, 0.10, 0.10, 0.10]"
   ]
  },
  {
   "cell_type": "code",
   "execution_count": 15,
   "metadata": {},
   "outputs": [
    {
     "data": {
      "application/vnd.jupyter.widget-view+json": {
       "model_id": "2f97b3b3aae0447f81c17efa078885d9",
       "version_major": 2,
       "version_minor": 0
      },
      "text/plain": [
       "HBox(children=(FloatProgress(value=0.0, max=300.0), HTML(value='')))"
      ]
     },
     "metadata": {},
     "output_type": "display_data"
    },
    {
     "name": "stdout",
     "output_type": "stream",
     "text": [
      "\n"
     ]
    },
    {
     "data": {
      "text/plain": [
       "([[0.9653751077600699, 0.03462489223993011],\n",
       "  [0.04975314165451778, 0.9502468583454822]],\n",
       " [[0.08959262483257434,\n",
       "   0.09649711802965272,\n",
       "   0.10385479972775373,\n",
       "   0.09875674072200362,\n",
       "   0.20589256170586526,\n",
       "   0.40540615498214966],\n",
       "  [0.21153411819523818,\n",
       "   0.19741476979454248,\n",
       "   0.29796772049736164,\n",
       "   0.08811167136997354,\n",
       "   0.1057331328758571,\n",
       "   0.09923858726703151]])"
      ]
     },
     "execution_count": 15,
     "metadata": {},
     "output_type": "execute_result"
    }
   ],
   "source": [
    "Baum_Welch(casino, 0.70, 0.40)"
   ]
  },
  {
   "cell_type": "code",
   "execution_count": null,
   "metadata": {},
   "outputs": [],
   "source": []
  }
 ],
 "metadata": {
  "kernelspec": {
   "display_name": "Python 3",
   "language": "python",
   "name": "python3"
  },
  "language_info": {
   "codemirror_mode": {
    "name": "ipython",
    "version": 3
   },
   "file_extension": ".py",
   "mimetype": "text/x-python",
   "name": "python",
   "nbconvert_exporter": "python",
   "pygments_lexer": "ipython3",
   "version": "3.8.3"
  }
 },
 "nbformat": 4,
 "nbformat_minor": 4
}
