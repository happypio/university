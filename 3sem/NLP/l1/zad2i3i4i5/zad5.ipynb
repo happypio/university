{
 "cells": [
  {
   "cell_type": "code",
   "execution_count": 1,
   "metadata": {},
   "outputs": [],
   "source": [
    "SUF = -3\n",
    "sentences = []\n",
    "with open('test.txt', 'r') as f:\n",
    "    for line in f:\n",
    "        sentences.append(line.rstrip('\\n'))"
   ]
  },
  {
   "cell_type": "code",
   "execution_count": 2,
   "metadata": {},
   "outputs": [
    {
     "name": "stdout",
     "output_type": "stream",
     "text": [
      "10000000\n",
      "20000000\n",
      "30000000\n",
      "40000000\n",
      "50000000\n"
     ]
    }
   ],
   "source": [
    "s_sets = [set(i.split()) for i in sentences]\n",
    "s_sets_suffixes = [set([w[SUF:] for w in i.split()]) for i in sentences]\n",
    "dictionary = {}\n",
    "dictionary_suffixes = {}\n",
    "\n",
    "with open('poleval_2grams.txt', 'r') as f:\n",
    "    i = 0\n",
    "    for line in f:\n",
    "        i += 1\n",
    "        if i%10000000 == 0:\n",
    "            print(i)\n",
    "        weight, root, subsequent = line.split()\n",
    "        if int(weight) > 10:\n",
    "            for s in range(len(s_sets)):\n",
    "                if root in s_sets[s] and subsequent in s_sets[s]:\n",
    "                    if root not in dictionary:\n",
    "                        dictionary[root] = {}\n",
    "                    dictionary[root][subsequent] = int(weight)\n",
    "                if root[SUF:] in s_sets_suffixes[s] and subsequent[SUF:] in s_sets_suffixes[s]:\n",
    "                    if root[SUF:] not in dictionary_suffixes:\n",
    "                        dictionary_suffixes[root[SUF:]] = {}\n",
    "                    dictionary_suffixes[root[SUF:]][subsequent[SUF:]] = int(weight)"
   ]
  },
  {
   "cell_type": "code",
   "execution_count": 3,
   "metadata": {},
   "outputs": [
    {
     "name": "stdout",
     "output_type": "stream",
     "text": [
      "10000000\n",
      "20000000\n",
      "30000000\n",
      "40000000\n",
      "50000000\n",
      "60000000\n",
      "70000000\n",
      "80000000\n",
      "90000000\n",
      "100000000\n",
      "110000000\n",
      "120000000\n",
      "130000000\n",
      "140000000\n",
      "150000000\n",
      "160000000\n",
      "170000000\n"
     ]
    }
   ],
   "source": [
    "with open('poleval_3grams.txt', 'r') as f:\n",
    "    i = 0\n",
    "    for line in f:\n",
    "        i += 1\n",
    "        if i%10000000 == 0:\n",
    "            print(i)\n",
    "        if len(line.split()) == 3:\n",
    "            weight, root, subsequent1 = line.split()\n",
    "            subsequent2 = None\n",
    "            subsequent = subsequent1\n",
    "            subsequent_s = subsequent1\n",
    "        else:\n",
    "            weight, root, subsequent1, subsequent2 = line.split()\n",
    "            subsequent = ','.join([subsequent1,subsequent2])\n",
    "            subsequent_s = ','.join([subsequent1[SUF:],subsequent2[SUF:]])\n",
    "        if int(weight) > 15:\n",
    "            for s in range(len(s_sets)):\n",
    "                if root in s_sets[s] and subsequent1 in s_sets[s] and (subsequent2 == None or subsequent2 in s_sets[s]):\n",
    "                    if root not in dictionary:\n",
    "                        dictionary[root] = {}\n",
    "                    dictionary[root][subsequent] = int(weight)\n",
    "                if root[SUF:] in s_sets_suffixes[s] and subsequent1[SUF:] in s_sets_suffixes[s] and (subsequent2[SUF:] == None or subsequent2[SUF:] in s_sets_suffixes[s]):\n",
    "                    if root[SUF:] not in dictionary_suffixes:\n",
    "                        dictionary_suffixes[root[SUF:]] = {}\n",
    "                    dictionary_suffixes[root[SUF:]][subsequent_s] = int(weight)"
   ]
  },
  {
   "cell_type": "code",
   "execution_count": 95,
   "metadata": {},
   "outputs": [],
   "source": [
    "def rate_better(sentence):\n",
    "    ans = 0\n",
    "    for i in range(len(sentence) - 1):\n",
    "        if sentence[i] in dictionary and sentence[i + 1] in dictionary[sentence[i]]:\n",
    "            ans +=  dictionary[sentence[i]][sentence[i + 1]]\n",
    "            if i < len(sentence) - 2:\n",
    "                if ','.join([sentence[i + 1],sentence[i + 2]]) in dictionary[sentence[i]]:\n",
    "                    ans += 2 * dictionary[sentence[i]][','.join([sentence[i + 1],sentence[i + 2]])]\n",
    "        if sentence[i][SUF:] in dictionary_suffixes and sentence[i + 1][SUF:] in dictionary_suffixes[sentence[i][SUF:]]:\n",
    "            ans +=  dictionary_suffixes[sentence[i][SUF:]][sentence[i + 1][SUF:]]\n",
    "            if i < len(sentence) - 2:\n",
    "                if ','.join([sentence[i + 1][SUF:],sentence[i + 2][SUF:]]) in dictionary_suffixes[sentence[i][SUF:]]:\n",
    "                    ans += 2 * dictionary_suffixes[sentence[i][SUF:]][','.join([sentence[i + 1][SUF:],sentence[i + 2][SUF:]])]\n",
    "    return ans"
   ]
  },
  {
   "cell_type": "code",
   "execution_count": 96,
   "metadata": {},
   "outputs": [],
   "source": [
    "def check_pos(s, a):\n",
    "    c = 0\n",
    "    while s != list(a[c][1]):\n",
    "        c += 1\n",
    "        if c > 50000:\n",
    "            print('ERROR')\n",
    "            break\n",
    "    return c + 1"
   ]
  },
  {
   "cell_type": "code",
   "execution_count": 99,
   "metadata": {},
   "outputs": [
    {
     "name": "stdout",
     "output_type": "stream",
     "text": [
      "AVERAGE:  0.26558630794766425\n"
     ]
    }
   ],
   "source": [
    "import itertools\n",
    "count = 0\n",
    "sum_s = 0\n",
    "for s in sentences:\n",
    "    count += 1\n",
    "    perm = list(itertools.permutations(s.split()))\n",
    "    ans = [[rate_better(p), p] for p in perm]\n",
    "    ans.sort(key = lambda p: p[0], reverse = True)\n",
    "    sum_s += 1/check_pos(s.split(),ans)\n",
    "    \n",
    "print(\"AVERAGE: \", sum_s / count)"
   ]
  },
  {
   "cell_type": "code",
   "execution_count": null,
   "metadata": {},
   "outputs": [],
   "source": []
  }
 ],
 "metadata": {
  "kernelspec": {
   "display_name": "Python 3",
   "language": "python",
   "name": "python3"
  },
  "language_info": {
   "codemirror_mode": {
    "name": "ipython",
    "version": 3
   },
   "file_extension": ".py",
   "mimetype": "text/x-python",
   "name": "python",
   "nbconvert_exporter": "python",
   "pygments_lexer": "ipython3",
   "version": "3.8.3"
  }
 },
 "nbformat": 4,
 "nbformat_minor": 4
}
