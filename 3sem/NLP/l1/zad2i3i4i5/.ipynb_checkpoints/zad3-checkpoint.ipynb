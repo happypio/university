{
 "cells": [
  {
   "cell_type": "code",
   "execution_count": 19,
   "metadata": {},
   "outputs": [],
   "source": [
    "def load(file):\n",
    "    K = 20\n",
    "    with open(file, 'r') as f:\n",
    "        res = [line.split() for line in f if int(line.split()[0]) >= K]\n",
    "    return res"
   ]
  },
  {
   "cell_type": "code",
   "execution_count": 21,
   "metadata": {},
   "outputs": [],
   "source": [
    "twograms = load('poleval_2grams.txt')\n",
    "threegrams = load('poleval_3grams.txt')"
   ]
  },
  {
   "cell_type": "code",
   "execution_count": 36,
   "metadata": {},
   "outputs": [],
   "source": [
    "two_grams = {line[1] : {} for line in twograms}\n",
    "for line in twograms:\n",
    "    two_grams[line[1]][line[2]] = line[0]\n",
    "three_grams = {(line[1],line[2]) : {} for line in threegrams if len(line) > 3}\n",
    "for line in threegrams:\n",
    "    if len(line) > 3:\n",
    "        three_grams[(line[1],line[2])][line[3]] = line[0]\n"
   ]
  },
  {
   "cell_type": "code",
   "execution_count": 72,
   "metadata": {},
   "outputs": [],
   "source": [
    "import random\n",
    "import numpy as np\n",
    "def gen_sen_2grams():\n",
    "    sentence = []\n",
    "    #word = random.choice(list(two_grams.keys()))\n",
    "    word = '<BOS>'\n",
    "    sentence.append(word)\n",
    "    while word in two_grams:\n",
    "        prob = list ( map ( int, list (two_grams[word].values() ) ) )\n",
    "        choices = list (two_grams[word].keys() )\n",
    "        sum_prob = sum(prob)\n",
    "        r = np.random.choice(len (choices) , p = [p_r/sum_prob for p_r in prob])\n",
    "        word = choices[r]\n",
    "        sentence.append(word)\n",
    "    return sentence"
   ]
  },
  {
   "cell_type": "code",
   "execution_count": 86,
   "metadata": {},
   "outputs": [
    {
     "name": "stdout",
     "output_type": "stream",
     "text": [
      "natomiast do końca 2013 . wszelka cenę . młodzi rolnicy i to po chodniku . \n",
      "postanawia , 6,6 % alkoholu oraz w \n",
      "europie ( dz . został paniom i poszczególne części obrad powołuję \n",
      "posłów sld . "
     ]
    }
   ],
   "source": [
    "num_gen = 5\n",
    "while num_gen > 0:\n",
    "    i = 0\n",
    "    for w in gen_sen_2grams():\n",
    "        i += 1\n",
    "        if w != '<BOS>' and w!= '<EOS>':\n",
    "            print(w, end = ' ')\n",
    "        if i % 8 == 0:\n",
    "            print()\n",
    "    num_gen -= 1"
   ]
  },
  {
   "cell_type": "code",
   "execution_count": 80,
   "metadata": {},
   "outputs": [],
   "source": [
    "def gen_sen_3grams():\n",
    "    sentence = []\n",
    "    word = random.choice(list(three_grams.keys()))\n",
    "    sentence.append(word[0])\n",
    "    sentence.append(word[1])\n",
    "    while word in three_grams:\n",
    "        prob = list ( map ( int, list (three_grams[word].values() ) ) )\n",
    "        choices = list (three_grams[word].keys() )\n",
    "        sum_prob = sum(prob)\n",
    "        r = np.random.choice(len (choices) , p = [p_r/sum_prob for p_r in prob])\n",
    "        tmp = (word[1], choices[r])\n",
    "        word = tmp\n",
    "        sentence.append(word[1])\n",
    "    return sentence"
   ]
  },
  {
   "cell_type": "code",
   "execution_count": 85,
   "metadata": {},
   "outputs": [
    {
     "name": "stdout",
     "output_type": "stream",
     "text": [
      ", sprawiedliwości i praw człowieka , to również \n",
      "efekt listy mówców , którzy chcieliby mieć należy skontaktować się z racji tego , że \n",
      "sejm wniosek przyjął . członków kierownictwa resortu i rządu . ochotniczych strażach pożarnych . "
     ]
    }
   ],
   "source": [
    "num_gen = 5\n",
    "while num_gen > 0:\n",
    "    i = 0\n",
    "    for w in gen_sen_3grams():\n",
    "        i += 1\n",
    "        if w != '<BOS>' and w!= '<EOS>':\n",
    "            print(w, end = ' ')\n",
    "        if i % 8 == 0:\n",
    "            print()\n",
    "    num_gen -= 1"
   ]
  },
  {
   "cell_type": "code",
   "execution_count": null,
   "metadata": {},
   "outputs": [],
   "source": []
  }
 ],
 "metadata": {
  "kernelspec": {
   "display_name": "Python 3",
   "language": "python",
   "name": "python3"
  },
  "language_info": {
   "codemirror_mode": {
    "name": "ipython",
    "version": 3
   },
   "file_extension": ".py",
   "mimetype": "text/x-python",
   "name": "python",
   "nbconvert_exporter": "python",
   "pygments_lexer": "ipython3",
   "version": "3.8.3"
  }
 },
 "nbformat": 4,
 "nbformat_minor": 4
}
