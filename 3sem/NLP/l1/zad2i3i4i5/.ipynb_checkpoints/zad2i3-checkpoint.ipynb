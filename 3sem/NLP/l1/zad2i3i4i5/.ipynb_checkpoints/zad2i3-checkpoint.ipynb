{
 "cells": [
  {
   "cell_type": "code",
   "execution_count": 54,
   "metadata": {},
   "outputs": [
    {
     "name": "stdout",
     "output_type": "stream",
     "text": [
      "10000000\n",
      "20000000\n",
      "30000000\n",
      "40000000\n",
      "50000000\n"
     ]
    }
   ],
   "source": [
    "class Word:\n",
    "\tdef __init__(self):\n",
    "\t\tself.subsequent = []\n",
    "\n",
    "\n",
    "dictionary = {}\n",
    "\n",
    "with open('poleval_2grams.txt', 'r') as f:\n",
    "\ti = 0\n",
    "\tfor line in f:\n",
    "\t\ti += 1\n",
    "\t\tif i%10000000 == 0:\n",
    "\t\t\tprint(i)\n",
    "\t\tweight, root, subsequent = line.split()\n",
    "\t\tif int(weight) > 20:\n",
    "\t\t\tif root in dictionary:\n",
    "\t\t\t\tdictionary[root].subsequent.append(([subsequent],weight))\n",
    "\t\t\telse:\n",
    "\t\t\t\tnew_word = Word()\n",
    "\t\t\t\tnew_word.subsequent.append(([subsequent],weight))\n",
    "\t\t\t\tdictionary[root] = new_word"
   ]
  },
  {
   "cell_type": "code",
   "execution_count": 44,
   "metadata": {},
   "outputs": [
    {
     "name": "stdout",
     "output_type": "stream",
     "text": [
      "10000000\n",
      "20000000\n",
      "30000000\n",
      "40000000\n",
      "50000000\n",
      "60000000\n",
      "70000000\n",
      "80000000\n",
      "90000000\n",
      "100000000\n",
      "110000000\n",
      "120000000\n",
      "130000000\n",
      "140000000\n",
      "150000000\n",
      "160000000\n",
      "170000000\n"
     ]
    }
   ],
   "source": [
    "with open('poleval_3grams.txt', 'r') as f:\n",
    "    i = 0\n",
    "    for line in f:\n",
    "        i += 1\n",
    "        if i%10000000 == 0:\n",
    "            print(i)\n",
    "        if len(line.split()) == 3:\n",
    "            weight, root, subsequent1 = line.split()\n",
    "            subsequent2 = None\n",
    "        else:\n",
    "            weight, root, subsequent1, subsequent2 = line.split()\n",
    "        if int(weight) > 20:\n",
    "            if root in dictionary:\n",
    "                dictionary[root].subsequent.append(([subsequent1, subsequent2],weight))\n",
    "            else:\n",
    "                new_word = Word()\n",
    "                new_word.subsequent.append(([subsequent1, subsequent2],weight))\n",
    "                dictionary[root] = new_word"
   ]
  },
  {
   "cell_type": "code",
   "execution_count": 56,
   "metadata": {},
   "outputs": [],
   "source": [
    "import random\n",
    "def generate_sentence():\n",
    "    sentence = []\n",
    "    word = random.choice(list(dictionary.keys()))\n",
    "    sentence.append(word)\n",
    "    while word in dictionary:\n",
    "        tmp = random.choice(dictionary[word].subsequent)\n",
    "        words = tmp[0]\n",
    "        weight = tmp[1]\n",
    "        for w in words:\n",
    "            sentence.append(w)\n",
    "            word = w\n",
    "    return sentence"
   ]
  },
  {
   "cell_type": "code",
   "execution_count": 58,
   "metadata": {},
   "outputs": [
    {
     "name": "stdout",
     "output_type": "stream",
     "text": [
      "marvel studios i państwami w bachórzu eklektycznym . 5 będzie umieszczenie leku w logo i classic to earth i prognozowane dochody te matki przy sprzedaży a kolej . dariusz rosati , rozbudowę stron za wprowadzeniem instytucji jak urządzić sobie jaki ? <EOS> wycieczką do niecodziennej sytuacji - prezentacje multimedialne i złymi duchami . 4d . g. e. f. w zasadach uzyskiwania środków znajdujących zastosowanie leku należy uczynić jedynie wieża została ograniczona - spowodował poważne sprawy ochrony gospodarki będą produkowane są pozbawiane są zimne wody pobranej od elementu składowego . nie podlegać szczególnej kodeksu synajskiego przyrodników im. adolfa dygasińskiego kołchozów , względnie duże z lekarką , powodował obawę przed niepożądanymi "
     ]
    }
   ],
   "source": [
    "num_gen = 5\n",
    "while num_gen > 0:\n",
    "    for w in generate_sentence():\n",
    "        print(w, end = ' ')\n",
    "    num_gen -= 1"
   ]
  },
  {
   "cell_type": "code",
   "execution_count": 89,
   "metadata": {},
   "outputs": [],
   "source": [
    "import numpy as np\n",
    "def generate_sentence_better():\n",
    "    sentence = []\n",
    "    word = random.choice(list(dictionary.keys()))\n",
    "    sentence.append(word)\n",
    "    while word in dictionary:\n",
    "        choices = dictionary[word].subsequent\n",
    "        sum_prob = 0\n",
    "        p = []\n",
    "        for c in choices:\n",
    "            sum_prob += int(c[1])\n",
    "        tmp = 0\n",
    "        for c in range(len(choices)):\n",
    "            if c != len(choices) - 1:\n",
    "                tmp += int(choices[c][1]) / sum_prob\n",
    "                p.append(int(choices[c][1]) / sum_prob)\n",
    "            else:\n",
    "                p.append(1 - tmp)\n",
    "        print(dictionary[word].subsequent, p)\n",
    "        r = np.random.choice(len(dictionary[word].subsequent), p)\n",
    "        tmp = dictionary[word].subsequent[r]\n",
    "        words = tmp[0]\n",
    "        weight = tmp[1]\n",
    "        for w in words:\n",
    "            sentence.append(w)\n",
    "            word = w\n",
    "    return sentence"
   ]
  },
  {
   "cell_type": "code",
   "execution_count": 90,
   "metadata": {},
   "outputs": [
    {
     "name": "stdout",
     "output_type": "stream",
     "text": [
      "[([','], '64'), (['.'], '93')] [0.40764331210191085, 0.5923566878980892]\n"
     ]
    },
    {
     "ename": "ValueError",
     "evalue": "a must be 1-dimensional",
     "output_type": "error",
     "traceback": [
      "\u001b[0;31m---------------------------------------------------------------------------\u001b[0m",
      "\u001b[0;31mValueError\u001b[0m                                Traceback (most recent call last)",
      "\u001b[0;32m<ipython-input-90-1939ca2488e9>\u001b[0m in \u001b[0;36m<module>\u001b[0;34m\u001b[0m\n\u001b[1;32m      2\u001b[0m \u001b[0;32mwhile\u001b[0m \u001b[0mnum_gen\u001b[0m \u001b[0;34m>\u001b[0m \u001b[0;36m0\u001b[0m\u001b[0;34m:\u001b[0m\u001b[0;34m\u001b[0m\u001b[0;34m\u001b[0m\u001b[0m\n\u001b[1;32m      3\u001b[0m     \u001b[0mi\u001b[0m \u001b[0;34m=\u001b[0m \u001b[0;36m0\u001b[0m\u001b[0;34m\u001b[0m\u001b[0;34m\u001b[0m\u001b[0m\n\u001b[0;32m----> 4\u001b[0;31m     \u001b[0;32mfor\u001b[0m \u001b[0mw\u001b[0m \u001b[0;32min\u001b[0m \u001b[0mgenerate_sentence_better\u001b[0m\u001b[0;34m(\u001b[0m\u001b[0;34m)\u001b[0m\u001b[0;34m:\u001b[0m\u001b[0;34m\u001b[0m\u001b[0;34m\u001b[0m\u001b[0m\n\u001b[0m\u001b[1;32m      5\u001b[0m         \u001b[0mi\u001b[0m \u001b[0;34m+=\u001b[0m \u001b[0;36m1\u001b[0m\u001b[0;34m\u001b[0m\u001b[0;34m\u001b[0m\u001b[0m\n\u001b[1;32m      6\u001b[0m         \u001b[0mprint\u001b[0m\u001b[0;34m(\u001b[0m\u001b[0mw\u001b[0m\u001b[0;34m,\u001b[0m \u001b[0mend\u001b[0m \u001b[0;34m=\u001b[0m \u001b[0;34m' '\u001b[0m\u001b[0;34m)\u001b[0m\u001b[0;34m\u001b[0m\u001b[0;34m\u001b[0m\u001b[0m\n",
      "\u001b[0;32m<ipython-input-89-5d04c5c24eba>\u001b[0m in \u001b[0;36mgenerate_sentence_better\u001b[0;34m()\u001b[0m\n\u001b[1;32m     18\u001b[0m                 \u001b[0mp\u001b[0m\u001b[0;34m.\u001b[0m\u001b[0mappend\u001b[0m\u001b[0;34m(\u001b[0m\u001b[0;36m1\u001b[0m \u001b[0;34m-\u001b[0m \u001b[0mtmp\u001b[0m\u001b[0;34m)\u001b[0m\u001b[0;34m\u001b[0m\u001b[0;34m\u001b[0m\u001b[0m\n\u001b[1;32m     19\u001b[0m         \u001b[0mprint\u001b[0m\u001b[0;34m(\u001b[0m\u001b[0mdictionary\u001b[0m\u001b[0;34m[\u001b[0m\u001b[0mword\u001b[0m\u001b[0;34m]\u001b[0m\u001b[0;34m.\u001b[0m\u001b[0msubsequent\u001b[0m\u001b[0;34m,\u001b[0m \u001b[0mp\u001b[0m\u001b[0;34m)\u001b[0m\u001b[0;34m\u001b[0m\u001b[0;34m\u001b[0m\u001b[0m\n\u001b[0;32m---> 20\u001b[0;31m         \u001b[0mtmp\u001b[0m \u001b[0;34m=\u001b[0m \u001b[0mnp\u001b[0m\u001b[0;34m.\u001b[0m\u001b[0mrandom\u001b[0m\u001b[0;34m.\u001b[0m\u001b[0mchoice\u001b[0m\u001b[0;34m(\u001b[0m\u001b[0mdictionary\u001b[0m\u001b[0;34m[\u001b[0m\u001b[0mword\u001b[0m\u001b[0;34m]\u001b[0m\u001b[0;34m.\u001b[0m\u001b[0msubsequent\u001b[0m\u001b[0;34m,\u001b[0m \u001b[0mp\u001b[0m\u001b[0;34m)\u001b[0m\u001b[0;34m\u001b[0m\u001b[0;34m\u001b[0m\u001b[0m\n\u001b[0m\u001b[1;32m     21\u001b[0m         \u001b[0mwords\u001b[0m \u001b[0;34m=\u001b[0m \u001b[0mtmp\u001b[0m\u001b[0;34m[\u001b[0m\u001b[0;36m0\u001b[0m\u001b[0;34m]\u001b[0m\u001b[0;34m\u001b[0m\u001b[0;34m\u001b[0m\u001b[0m\n\u001b[1;32m     22\u001b[0m         \u001b[0mweight\u001b[0m \u001b[0;34m=\u001b[0m \u001b[0mtmp\u001b[0m\u001b[0;34m[\u001b[0m\u001b[0;36m1\u001b[0m\u001b[0;34m]\u001b[0m\u001b[0;34m\u001b[0m\u001b[0;34m\u001b[0m\u001b[0m\n",
      "\u001b[0;32mmtrand.pyx\u001b[0m in \u001b[0;36mnumpy.random.mtrand.RandomState.choice\u001b[0;34m()\u001b[0m\n",
      "\u001b[0;31mValueError\u001b[0m: a must be 1-dimensional"
     ]
    }
   ],
   "source": [
    "num_gen = 2\n",
    "while num_gen > 0:\n",
    "    i = 0\n",
    "    for w in generate_sentence_better():\n",
    "        i += 1\n",
    "        print(w, end = ' ')\n",
    "        if i % 8 == 0:\n",
    "            print()\n",
    "    num_gen -= 1"
   ]
  },
  {
   "cell_type": "code",
   "execution_count": null,
   "metadata": {},
   "outputs": [],
   "source": []
  }
 ],
 "metadata": {
  "kernelspec": {
   "display_name": "Python 3",
   "language": "python",
   "name": "python3"
  },
  "language_info": {
   "codemirror_mode": {
    "name": "ipython",
    "version": 3
   },
   "file_extension": ".py",
   "mimetype": "text/x-python",
   "name": "python",
   "nbconvert_exporter": "python",
   "pygments_lexer": "ipython3",
   "version": "3.8.3"
  }
 },
 "nbformat": 4,
 "nbformat_minor": 4
}
