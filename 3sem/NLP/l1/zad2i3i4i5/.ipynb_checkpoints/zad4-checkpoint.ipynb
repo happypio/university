{
 "cells": [
  {
   "cell_type": "code",
   "execution_count": 13,
   "metadata": {},
   "outputs": [],
   "source": [
    "SUF = -3\n",
    "sentences = [\n",
    "    \"judyta dała wczoraj stefanowi czekoladki\",\n",
    "    \"babuleńka miała dwa rogate koziołki\",\n",
    "    \"wczoraj wieczorem spotkałem pewną piękną kobietę\",\n",
    "    \"dzisiaj rano zagrałem intensywny mecz w siatkówkę\",\n",
    "    \"w naszej wannie chodzi wielka jaszczurka\"\n",
    "]"
   ]
  },
  {
   "cell_type": "code",
   "execution_count": 17,
   "metadata": {},
   "outputs": [
    {
     "name": "stdout",
     "output_type": "stream",
     "text": [
      "10000000\n",
      "20000000\n",
      "30000000\n",
      "40000000\n",
      "50000000\n"
     ]
    }
   ],
   "source": [
    "s_sets = [set(i.split()) for i in sentences]\n",
    "s_sets_suffixes = [set([w[SUF:] for w in i.split()]) for i in sentences]\n",
    "dictionary = {}\n",
    "dictionary_suffixes = {}\n",
    "\n",
    "with open('poleval_2grams.txt', 'r') as f:\n",
    "    i = 0\n",
    "    for line in f:\n",
    "        i += 1\n",
    "        if i%10000000 == 0:\n",
    "            print(i)\n",
    "        weight, root, subsequent = line.split()\n",
    "        for s in range(len(s_sets)):\n",
    "            if root in s_sets[s] and subsequent in s_sets[s]:\n",
    "                if root not in dictionary:\n",
    "                    dictionary[root] = {}\n",
    "                dictionary[root][subsequent] = int(weight)\n",
    "            if root[SUF:] in s_sets_suffixes[s] and subsequent[SUF:] in s_sets_suffixes[s]:\n",
    "                if root[SUF:] not in dictionary_suffixes:\n",
    "                    dictionary_suffixes[root[SUF:]] = {}\n",
    "                dictionary_suffixes[root[SUF:]][subsequent[SUF:]] = int(weight)"
   ]
  },
  {
   "cell_type": "code",
   "execution_count": 18,
   "metadata": {},
   "outputs": [
    {
     "name": "stdout",
     "output_type": "stream",
     "text": [
      "10000000\n",
      "20000000\n",
      "30000000\n",
      "40000000\n",
      "50000000\n",
      "60000000\n",
      "70000000\n",
      "80000000\n",
      "90000000\n",
      "100000000\n",
      "110000000\n",
      "120000000\n",
      "130000000\n",
      "140000000\n",
      "150000000\n",
      "160000000\n",
      "170000000\n"
     ]
    }
   ],
   "source": [
    "with open('poleval_3grams.txt', 'r') as f:\n",
    "    i = 0\n",
    "    for line in f:\n",
    "        i += 1\n",
    "        if i%10000000 == 0:\n",
    "            print(i)\n",
    "        if len(line.split()) == 3:\n",
    "            weight, root, subsequent1 = line.split()\n",
    "            subsequent2 = None\n",
    "            subsequent = subsequent1\n",
    "            subsequent_s = subsequent1\n",
    "        else:\n",
    "            weight, root, subsequent1, subsequent2 = line.split()\n",
    "            subsequent = ','.join([subsequent1,subsequent2])\n",
    "            subsequent_s = ','.join([subsequent1[SUF:],subsequent2[SUF:]])\n",
    "            \n",
    "        for s in range(len(s_sets)):\n",
    "            if root in s_sets[s] and subsequent1 in s_sets[s] and (subsequent2 == None or subsequent2 in s_sets[s]):\n",
    "                if root not in dictionary:\n",
    "                    dictionary[root] = {}\n",
    "                dictionary[root][subsequent] = int(weight)\n",
    "            if root[SUF:] in s_sets_suffixes[s] and subsequent1[SUF:] in s_sets_suffixes[s] and (subsequent2[SUF:] == None or subsequent2[SUF:] in s_sets_suffixes[s]):\n",
    "                if root[SUF:] not in dictionary_suffixes:\n",
    "                    dictionary_suffixes[root[SUF:]] = {}\n",
    "                dictionary_suffixes[root[SUF:]][subsequent_s] = int(weight)"
   ]
  },
  {
   "cell_type": "code",
   "execution_count": 19,
   "metadata": {},
   "outputs": [],
   "source": [
    "def rate(sentence):\n",
    "    ans = 0\n",
    "    for i in range(len(sentence) - 1):\n",
    "        if sentence[i] in dictionary and sentence[i + 1] in dictionary[sentence[i]]:\n",
    "            ans += dictionary[sentence[i]][sentence[i + 1]]\n",
    "            if i < len(sentence) - 2:\n",
    "                if ','.join([sentence[i + 1],sentence[i + 2]]) in dictionary[sentence[i]]:\n",
    "                    ans += 5 * dictionary[sentence[i]][','.join([sentence[i + 1],sentence[i + 2]])]\n",
    "    return ans\n",
    "                "
   ]
  },
  {
   "cell_type": "code",
   "execution_count": 20,
   "metadata": {},
   "outputs": [
    {
     "name": "stdout",
     "output_type": "stream",
     "text": [
      "2 judyta dała wczoraj stefanowi czekoladki\n",
      "2 judyta dała wczoraj czekoladki stefanowi\n",
      "2 judyta stefanowi dała wczoraj czekoladki\n",
      "2 judyta stefanowi czekoladki dała wczoraj\n",
      "2 judyta czekoladki dała wczoraj stefanowi\n",
      "2 judyta czekoladki stefanowi dała wczoraj\n",
      "2 dała wczoraj judyta stefanowi czekoladki\n",
      "2 dała wczoraj judyta czekoladki stefanowi\n",
      "2 dała wczoraj stefanowi judyta czekoladki\n",
      "2 dała wczoraj stefanowi czekoladki judyta\n",
      "184 babuleńka miała dwa koziołki rogate\n",
      "184 babuleńka rogate miała dwa koziołki\n",
      "184 miała dwa koziołki babuleńka rogate\n",
      "184 miała dwa koziołki rogate babuleńka\n",
      "184 rogate babuleńka miała dwa koziołki\n",
      "184 rogate miała dwa koziołki babuleńka\n",
      "183 babuleńka miała dwa rogate koziołki\n",
      "183 babuleńka koziołki miała dwa rogate\n",
      "183 miała dwa rogate babuleńka koziołki\n",
      "183 miała dwa rogate koziołki babuleńka\n",
      "459 spotkałem wczoraj wieczorem pewną piękną kobietę\n",
      "459 pewną piękną kobietę spotkałem wczoraj wieczorem\n",
      "458 wczoraj wieczorem spotkałem pewną piękną kobietę\n",
      "458 spotkałem pewną piękną kobietę wczoraj wieczorem\n",
      "457 wczoraj wieczorem pewną piękną kobietę spotkałem\n",
      "457 pewną piękną kobietę wczoraj wieczorem spotkałem\n",
      "453 wczoraj wieczorem spotkałem piękną kobietę pewną\n",
      "453 wczoraj wieczorem pewną spotkałem piękną kobietę\n",
      "453 spotkałem piękną kobietę wczoraj wieczorem pewną\n",
      "453 spotkałem piękną kobietę pewną wczoraj wieczorem\n",
      "6860 rano dzisiaj w siatkówkę zagrałem intensywny mecz\n",
      "6860 rano dzisiaj w siatkówkę zagrałem mecz intensywny\n",
      "6860 rano dzisiaj w siatkówkę intensywny zagrałem mecz\n",
      "6860 rano dzisiaj w siatkówkę intensywny mecz zagrałem\n",
      "6860 rano dzisiaj w siatkówkę mecz zagrałem intensywny\n",
      "6860 rano dzisiaj w siatkówkę mecz intensywny zagrałem\n",
      "6860 rano zagrałem intensywny mecz dzisiaj w siatkówkę\n",
      "6860 rano zagrałem mecz dzisiaj w siatkówkę intensywny\n",
      "6860 rano intensywny zagrałem mecz dzisiaj w siatkówkę\n",
      "6860 rano intensywny mecz dzisiaj w siatkówkę zagrałem\n",
      "17901 wannie chodzi w naszej wielka jaszczurka\n",
      "17901 wannie wielka jaszczurka chodzi w naszej\n",
      "17901 chodzi w naszej wannie wielka jaszczurka\n",
      "17901 chodzi w naszej wielka jaszczurka wannie\n",
      "17901 wielka jaszczurka wannie chodzi w naszej\n",
      "17901 wielka jaszczurka chodzi w naszej wannie\n",
      "17900 wannie chodzi w naszej jaszczurka wielka\n",
      "17900 wannie wielka chodzi w naszej jaszczurka\n",
      "17900 wannie jaszczurka chodzi w naszej wielka\n",
      "17900 wannie jaszczurka wielka chodzi w naszej\n"
     ]
    }
   ],
   "source": [
    "import itertools\n",
    "import heapq\n",
    "ans = []\n",
    "for i in sentences:\n",
    "    perm = list(itertools.permutations(i.split()))\n",
    "    tmp_ans = heapq.nlargest(10,[[rate(p), p] for p in perm], key = lambda p: p[0])\n",
    "    ans += tmp_ans\n",
    "\n",
    "for a in ans:\n",
    "    print(a[0], ' '.join(a[1]))"
   ]
  },
  {
   "cell_type": "code",
   "execution_count": 37,
   "metadata": {},
   "outputs": [],
   "source": [
    "def rate_better(sentence):\n",
    "    ans = 0\n",
    "    for i in range(len(sentence) - 1):\n",
    "        if sentence[i] in dictionary and sentence[i + 1] in dictionary[sentence[i]]:\n",
    "            ans += dictionary[sentence[i]][sentence[i + 1]]\n",
    "            if i < len(sentence) - 2:\n",
    "                if ','.join([sentence[i + 1],sentence[i + 2]]) in dictionary[sentence[i]]:\n",
    "                    ans += 2 * dictionary[sentence[i]][','.join([sentence[i + 1],sentence[i + 2]])]\n",
    "        if sentence[i][SUF:] in dictionary_suffixes and sentence[i + 1][SUF:] in dictionary_suffixes[sentence[i][SUF:]]:\n",
    "            ans += dictionary_suffixes[sentence[i][SUF:]][sentence[i + 1][SUF:]]\n",
    "            if i < len(sentence) - 2:\n",
    "                if ','.join([sentence[i + 1][SUF:],sentence[i + 2][SUF:]]) in dictionary_suffixes[sentence[i][SUF:]]:\n",
    "                    ans += 2 * dictionary_suffixes[sentence[i][SUF:]][','.join([sentence[i + 1][SUF:],sentence[i + 2][SUF:]])]\n",
    "    return ans"
   ]
  },
  {
   "cell_type": "code",
   "execution_count": 36,
   "metadata": {},
   "outputs": [
    {
     "name": "stdout",
     "output_type": "stream",
     "text": [
      "63 stefanowi wczoraj dała czekoladki judyta\n",
      "63 czekoladki judyta stefanowi wczoraj dała\n",
      "61 stefanowi wczoraj czekoladki dała judyta\n",
      "61 czekoladki dała judyta stefanowi wczoraj\n",
      "58 judyta stefanowi wczoraj dała czekoladki\n",
      "58 judyta czekoladki stefanowi wczoraj dała\n",
      "58 stefanowi wczoraj dała judyta czekoladki\n",
      "58 czekoladki stefanowi wczoraj dała judyta\n",
      "55 judyta stefanowi wczoraj czekoladki dała\n",
      "55 judyta czekoladki dała stefanowi wczoraj\n",
      "584 babuleńka miała dwa rogate koziołki\n",
      "584 babuleńka miała dwa koziołki rogate\n",
      "584 babuleńka rogate miała dwa koziołki\n",
      "579 babuleńka koziołki miała dwa rogate\n",
      "579 miała dwa rogate koziołki babuleńka\n",
      "579 miała dwa koziołki babuleńka rogate\n",
      "579 miała dwa koziołki rogate babuleńka\n",
      "579 rogate babuleńka miała dwa koziołki\n",
      "579 rogate miała dwa koziołki babuleńka\n",
      "579 koziołki babuleńka miała dwa rogate\n",
      "1708 pewną piękną kobietę spotkałem wczoraj wieczorem\n",
      "1706 spotkałem wczoraj wieczorem pewną piękną kobietę\n",
      "1705 wczoraj wieczorem spotkałem pewną piękną kobietę\n",
      "1700 pewną piękną kobietę wczoraj wieczorem spotkałem\n",
      "1698 spotkałem pewną piękną kobietę wczoraj wieczorem\n",
      "1693 wczoraj wieczorem spotkałem piękną kobietę pewną\n",
      "1693 wczoraj wieczorem pewną piękną kobietę spotkałem\n",
      "1689 spotkałem wczoraj wieczorem piękną kobietę pewną\n",
      "1689 piękną kobietę pewną spotkałem wczoraj wieczorem\n",
      "1688 pewną wczoraj wieczorem spotkałem piękną kobietę\n",
      "20653 zagrałem dzisiaj w siatkówkę rano mecz intensywny\n",
      "20650 zagrałem rano mecz intensywny dzisiaj w siatkówkę\n",
      "20648 dzisiaj w siatkówkę rano mecz intensywny zagrałem\n",
      "20647 zagrałem rano dzisiaj w siatkówkę mecz intensywny\n",
      "20647 mecz intensywny zagrałem rano dzisiaj w siatkówkę\n",
      "20646 dzisiaj w siatkówkę zagrałem rano mecz intensywny\n",
      "20646 rano mecz intensywny zagrałem dzisiaj w siatkówkę\n",
      "20646 mecz intensywny zagrałem dzisiaj w siatkówkę rano\n",
      "20645 rano mecz intensywny dzisiaj w siatkówkę zagrałem\n",
      "20645 zagrałem mecz intensywny dzisiaj w siatkówkę rano\n",
      "53730 wielka jaszczurka wannie chodzi w naszej\n",
      "53726 wannie chodzi w naszej wielka jaszczurka\n",
      "53720 chodzi w naszej wannie wielka jaszczurka\n",
      "53720 wielka wannie chodzi w naszej jaszczurka\n",
      "53720 jaszczurka wannie chodzi w naszej wielka\n",
      "53720 jaszczurka wielka wannie chodzi w naszej\n",
      "53718 wannie chodzi w naszej jaszczurka wielka\n",
      "53714 wannie wielka jaszczurka chodzi w naszej\n",
      "53714 wielka jaszczurka chodzi w naszej wannie\n",
      "53712 chodzi w naszej wielka jaszczurka wannie\n"
     ]
    }
   ],
   "source": [
    "ans = []\n",
    "for i in sentences:\n",
    "    perm = list(itertools.permutations(i.split()))\n",
    "    tmp_ans = heapq.nlargest(10,[[rate_better(p), p] for p in perm], key = lambda p: p[0])\n",
    "    ans += tmp_ans\n",
    "\n",
    "for a in ans:\n",
    "    print(a[0], ' '.join(a[1]))"
   ]
  },
  {
   "cell_type": "code",
   "execution_count": null,
   "metadata": {},
   "outputs": [],
   "source": []
  }
 ],
 "metadata": {
  "kernelspec": {
   "display_name": "Python 3",
   "language": "python",
   "name": "python3"
  },
  "language_info": {
   "codemirror_mode": {
    "name": "ipython",
    "version": 3
   },
   "file_extension": ".py",
   "mimetype": "text/x-python",
   "name": "python",
   "nbconvert_exporter": "python",
   "pygments_lexer": "ipython3",
   "version": "3.8.3"
  }
 },
 "nbformat": 4,
 "nbformat_minor": 4
}
