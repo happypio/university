{
 "cells": [
  {
   "cell_type": "markdown",
   "metadata": {},
   "source": [
    "# Ładowanie danych"
   ]
  },
  {
   "cell_type": "code",
   "execution_count": 1,
   "metadata": {},
   "outputs": [],
   "source": [
    "SUF = -3\n",
    "sentences = []\n",
    "with open('test.txt', 'r') as f:\n",
    "    for line in f:\n",
    "        sentences.append(line.rstrip('\\n'))"
   ]
  },
  {
   "cell_type": "code",
   "execution_count": 2,
   "metadata": {},
   "outputs": [],
   "source": [
    "s_sets = set()\n",
    "s_sets_suf = set()\n",
    "for i in sentences:\n",
    "    for j in i.split():\n",
    "        s_sets.add(j)\n",
    "        s_sets_suf.add(j[SUF:])\n",
    "def load_Ngrams(file):\n",
    "    unigrams = {}\n",
    "    unigrams_suf = {}\n",
    "    bigrams = {}\n",
    "    bigrams_suf = {}\n",
    "    with open(file, 'r') as f:\n",
    "        for line in f:\n",
    "            count, w1, w2 = line.split()\n",
    "            count = int(count)\n",
    "            if w1 in s_sets and w2 in s_sets:\n",
    "                \n",
    "                if w1 not in bigrams:\n",
    "                    bigrams[w1] = {}\n",
    "                bigrams[w1][w2] = count\n",
    "                \n",
    "                if w1 not in unigrams:\n",
    "                    unigrams[w1] = 1\n",
    "                if w2 not in unigrams:\n",
    "                    unigrams[w2] = 1\n",
    "                unigrams[w1] += 1\n",
    "                unigrams[w2] += 1\n",
    "            if w1[SUF:] in s_sets_suf and w2[SUF:] in s_sets_suf:\n",
    "                \n",
    "                if w1[SUF:] not in bigrams_suf:\n",
    "                    bigrams_suf[w1[SUF:]] = {}\n",
    "                bigrams_suf[w1[SUF:]][w2[SUF:]] = count\n",
    "                \n",
    "                if w1[SUF:] not in unigrams_suf:\n",
    "                    unigrams_suf[w1[SUF:]] = 1\n",
    "                if w2[SUF:] not in unigrams_suf:\n",
    "                    unigrams_suf[w2[SUF:]] = 1\n",
    "                unigrams_suf[w1[SUF:]] += 1\n",
    "                unigrams_suf[w2[SUF:]] += 1\n",
    "                \n",
    "    return unigrams,unigrams_suf,bigrams,bigrams_suf"
   ]
  },
  {
   "cell_type": "code",
   "execution_count": 3,
   "metadata": {},
   "outputs": [],
   "source": [
    "def load_supertags(file):\n",
    "    d_suf_words = {}\n",
    "    d_tags = {}\n",
    "    d_words = {}\n",
    "    with open(file, 'r') as f:\n",
    "        for line in f:\n",
    "            t = line.split()[1]\n",
    "            w = line.split()[0]\n",
    "            ws = (\"^\" + w)[-3:]\n",
    "            d_words[w] = t\n",
    "            if ws not in d_suf_words:\n",
    "                d_suf_words[ws] = {}\n",
    "            if t not in d_suf_words:\n",
    "                d_suf_words[ws][t] = 0\n",
    "            d_suf_words[ws][t] += 1\n",
    "            if t not in d_tags:\n",
    "                d_tags[t] = {}\n",
    "            d_tags[t][w] = 1\n",
    "                \n",
    "    return (d_suf_words, d_tags, d_words)"
   ]
  },
  {
   "cell_type": "code",
   "execution_count": 4,
   "metadata": {},
   "outputs": [],
   "source": [
    "unigrams,unigrams_suf,bigrams,bigrams_suf = load_Ngrams(\"poleval_2grams.txt\")"
   ]
  },
  {
   "cell_type": "code",
   "execution_count": 5,
   "metadata": {},
   "outputs": [],
   "source": [
    "d_suf_words, d_tags, d_words = load_supertags(\"supertags.txt\")"
   ]
  },
  {
   "cell_type": "code",
   "execution_count": 6,
   "metadata": {},
   "outputs": [],
   "source": [
    "def load_taggrams(file):\n",
    "    K = 5\n",
    "    t_unigrams = {}\n",
    "    t_bigrams = {}\n",
    "    with open(file, 'r') as f:\n",
    "        for line in f:\n",
    "            count = int(line.split()[0])\n",
    "            w1 = line.split()[1]\n",
    "            w2 = line.split()[2]\n",
    "            if w1 in d_words:\n",
    "                w1 = d_words[w1]\n",
    "            else:\n",
    "                count = 0\n",
    "            if w2 in d_words:\n",
    "                w2 = d_words[w2]\n",
    "            else:\n",
    "                count = 0\n",
    "            if count >= K:\n",
    "                \n",
    "                if w1 not in t_bigrams:\n",
    "                    t_bigrams[w1] = {}\n",
    "                t_bigrams[w1][w2] = count\n",
    "                \n",
    "                if w1 not in t_unigrams:\n",
    "                    t_unigrams[w1] = 1\n",
    "                if w2 not in t_unigrams:\n",
    "                    t_unigrams[w2] = 1\n",
    "                t_unigrams[w1] += 1\n",
    "                t_unigrams[w2] += 1\n",
    "    return t_unigrams, t_bigrams"
   ]
  },
  {
   "cell_type": "code",
   "execution_count": 7,
   "metadata": {},
   "outputs": [],
   "source": [
    "t_unigrams,t_bigrams = load_taggrams(\"poleval_2grams.txt\")"
   ]
  },
  {
   "cell_type": "code",
   "execution_count": 8,
   "metadata": {},
   "outputs": [
    {
     "name": "stdout",
     "output_type": "stream",
     "text": [
      "9640981\n",
      "33209\n",
      "20708246\n"
     ]
    }
   ],
   "source": [
    "T = 0\n",
    "for t in t_unigrams:\n",
    "    T += t_unigrams[t]\n",
    "print(T)\n",
    "N = 0\n",
    "for u in unigrams:\n",
    "    N += unigrams[u]\n",
    "print(N)\n",
    "N_s = 0\n",
    "for u in unigrams_suf:\n",
    "    N_s += unigrams_suf[u]\n",
    "print(N_s)"
   ]
  },
  {
   "cell_type": "markdown",
   "metadata": {},
   "source": [
    "# INTERPOLACJA"
   ]
  },
  {
   "cell_type": "code",
   "execution_count": 9,
   "metadata": {},
   "outputs": [],
   "source": [
    "CORPUS = []\n",
    "sizeofcorpus = pow(10, 6)\n",
    "with open(\"polish_corpora.txt\", 'r') as f:\n",
    "    for i in range(sizeofcorpus):\n",
    "        line = f.readline().lower()\n",
    "        CORPUS += line.split()"
   ]
  },
  {
   "cell_type": "code",
   "execution_count": 10,
   "metadata": {},
   "outputs": [],
   "source": [
    "import random\n",
    "def k1k2():\n",
    "    bgrams = [dict(), dict()]\n",
    "    ugrams = [dict(),dict()]\n",
    "    w1 = CORPUS[0]\n",
    "    \n",
    "    for w2 in CORPUS[1:]:\n",
    "        r = random.randint(0,10)\n",
    "        i = 0\n",
    "        if r == 5:\n",
    "            i = 1\n",
    "            \n",
    "        if w1 not in bgrams[i]:\n",
    "            bgrams[i][w1] = {}\n",
    "        if w2 not in bgrams[i][w1]:\n",
    "            bgrams[i][w1][w2] = 0\n",
    "        bgrams[i][w1][w2] += 1\n",
    "\n",
    "        if w1 not in ugrams[i]:\n",
    "            ugrams[i][w1] = 0\n",
    "        ugrams[i][w1] += 1\n",
    "        w1 = w2\n",
    "    \n",
    "    return ugrams[0],bgrams[0],ugrams[1],bgrams[1],\n",
    "    "
   ]
  },
  {
   "cell_type": "code",
   "execution_count": 11,
   "metadata": {},
   "outputs": [],
   "source": [
    "K1_unigrams, K1_bigrams, K2_unigrams, K2_bigrams = k1k2()"
   ]
  },
  {
   "cell_type": "code",
   "execution_count": 12,
   "metadata": {},
   "outputs": [],
   "source": [
    "def deleted_interpolation(K1,K2):\n",
    "    K = 0\n",
    "    for u in K1[0]:\n",
    "        K += K1[0][u]\n",
    "    method_3 = 0\n",
    "    method_2 = 0\n",
    "    method_1 = 0\n",
    "    for w1 in K2[1]:\n",
    "        for w2 in K2[1][w1]:\n",
    "            count_2 = 0\n",
    "            if w1 in K1[1] and w2 in K1[1][w1]:\n",
    "                count_2 += K1[1][w1][w2] / K1[0][w1]\n",
    "            count_1 = 0\n",
    "            if w2 in K1[0]:\n",
    "                count_1 += K1[0][w2] / K\n",
    "            count_3 = 0\n",
    "            if w1 in d_words and w2 in d_words:\n",
    "                if d_words[w1] in t_bigrams and d_words[w2] in  t_bigrams[d_words[w1]] and w2 in unigrams:\n",
    "                    count_3 += (t_bigrams[d_words[w1]][d_words[w2]] / t_unigrams[d_words[w1]]) * (unigrams[w2] / t_unigrams[d_words[w2]])\n",
    "            count_4 = 0\n",
    "        \n",
    "               \n",
    "            if count_2 > count_1:\n",
    "                if count_2 > count_3:\n",
    "                    method_2 += 1\n",
    "                else:\n",
    "                    method_3 += 1\n",
    "            else:\n",
    "                if count_1 > count_3:\n",
    "                    method_1 += 1\n",
    "                else:\n",
    "                    method_3 += 1\n",
    "    print(method_3)\n",
    "    print(method_2)\n",
    "    print(method_1)\n",
    "    return method_1 / (method_1 + method_2 + method_3), method_2 / (method_1 + method_2 + method_3), method_3 / (method_1 + method_2 + method_3)"
   ]
  },
  {
   "cell_type": "code",
   "execution_count": 13,
   "metadata": {},
   "outputs": [
    {
     "name": "stdout",
     "output_type": "stream",
     "text": [
      "3812\n",
      "433533\n",
      "485169\n",
      "0.5259204738356275 0.46994733955257045 0.004132186611802097\n"
     ]
    }
   ],
   "source": [
    "lambda1, lambda2, lambdat= deleted_interpolation([K1_unigrams, K1_bigrams], [K2_unigrams, K2_bigrams])\n",
    "print(lambda1, lambda2, lambdat)"
   ]
  },
  {
   "cell_type": "code",
   "execution_count": 14,
   "metadata": {},
   "outputs": [],
   "source": [
    "from math import log as ln\n",
    "def interpolation(sentence):\n",
    "    P_w = 0\n",
    "    w1 = sentence[0]\n",
    "    if w1 in unigrams:\n",
    "        P_w += ln(unigrams[w1] / N)\n",
    "        \n",
    "    for w2 in sentence[1:]:\n",
    "        \n",
    "        if (w2 in unigrams and w1 not in bigrams) or (w2 in unigrams and w1 in bigrams and w2 not in bigrams[w1]):\n",
    "            P_w += ln(lambda1 * (unigrams[w2] / N))\n",
    "            \n",
    "        if w2 in unigrams and w1 in bigrams and w2 in bigrams[w1]:\n",
    "            if w1 in d_words and w2 in d_words:\n",
    "                if d_words[w1] in t_bigrams and d_words[w2] in  t_bigrams[d_words[w1]] and w2 in unigrams:\n",
    "                    P_w += ln( lambda1 * (unigrams[w2] / N) + lambda2 * (bigrams[w1][w2] / unigrams[w1])\n",
    "                              + lambdat * (t_bigrams[d_words[w1]][d_words[w2]] / t_unigrams[d_words[w1]]) * (unigrams[w2] / t_unigrams[d_words[w2]]))\n",
    "            else:\n",
    "                if w1[SUF:] in bigrams_suf and w2[SUF:] in bigrams_suf[w1[SUF:]]:\n",
    "                    P_w +=  ln(lambda1 * (unigrams[w2] / N) + lambda2 * (bigrams[w1][w2] / unigrams[w1]) +\n",
    "                        0.2 * (bigrams_suf[w1[SUF:]][w2[SUF:]] / unigrams_suf[w1[SUF:]]))\n",
    "                else:\n",
    "                    P_w += ln(lambda1 * (unigrams[w2] / N) + lambda2 * (bigrams[w1][w2] / unigrams[w1]))\n",
    "        \n",
    "            \n",
    "        \n",
    "        w1 = w2\n",
    "    return P_w\n",
    "    "
   ]
  },
  {
   "cell_type": "code",
   "execution_count": 15,
   "metadata": {},
   "outputs": [
    {
     "name": "stdout",
     "output_type": "stream",
     "text": [
      "-22.592090814806102\n"
     ]
    }
   ],
   "source": [
    "print(interpolation(\"nasz przedmiot to przetwarzanie języka naturalnego\".split()))"
   ]
  },
  {
   "cell_type": "code",
   "execution_count": 16,
   "metadata": {},
   "outputs": [],
   "source": [
    "#lambda1 = 0.3\n",
    "#lambda2 = 0.66\n",
    "def check_pos(s, a):\n",
    "    c = 0\n",
    "    while s != list(a[c][1]):\n",
    "        c += 1\n",
    "        if c > 50000:\n",
    "            print('ERROR')\n",
    "            break\n",
    "    return c + 1"
   ]
  },
  {
   "cell_type": "code",
   "execution_count": 17,
   "metadata": {},
   "outputs": [
    {
     "name": "stdout",
     "output_type": "stream",
     "text": [
      "AVERAGE:  0.35863097948860023\n"
     ]
    }
   ],
   "source": [
    "import itertools\n",
    "count = 0\n",
    "sum_s = 0\n",
    "for s in sentences:\n",
    "    count += 1\n",
    "    perm = list(itertools.permutations(s.split()))\n",
    "    ans = [[interpolation(p), p] for p in perm]\n",
    "    ans.sort(key = lambda p: p[0], reverse = True)\n",
    "    sum_s += 1/check_pos(s.split(),ans)\n",
    "    \n",
    "print(\"AVERAGE: \", sum_s / count)"
   ]
  },
  {
   "cell_type": "code",
   "execution_count": null,
   "metadata": {},
   "outputs": [],
   "source": []
  }
 ],
 "metadata": {
  "kernelspec": {
   "display_name": "Python 3",
   "language": "python",
   "name": "python3"
  },
  "language_info": {
   "codemirror_mode": {
    "name": "ipython",
    "version": 3
   },
   "file_extension": ".py",
   "mimetype": "text/x-python",
   "name": "python",
   "nbconvert_exporter": "python",
   "pygments_lexer": "ipython3",
   "version": "3.8.3"
  }
 },
 "nbformat": 4,
 "nbformat_minor": 4
}
