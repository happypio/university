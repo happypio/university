{
 "cells": [
  {
   "cell_type": "code",
   "execution_count": 1,
   "metadata": {},
   "outputs": [],
   "source": [
    "import pandas as pd\n",
    "import numpy as np"
   ]
  },
  {
   "cell_type": "markdown",
   "metadata": {},
   "source": [
    "## import the data (2000 - 2021)"
   ]
  },
  {
   "cell_type": "code",
   "execution_count": 72,
   "metadata": {},
   "outputs": [],
   "source": [
    "df_atp = pd.read_csv('tennis_atp-master/atp_matches_2000.csv')\n",
    "for i in range(1, 22):\n",
    "    b = ''\n",
    "    if i < 10:\n",
    "        b = 0\n",
    "    df = pd.read_csv(f'tennis_atp-master/atp_matches_20{b}{i}.csv')\n",
    "    df_atp = pd.concat([df_atp,df], ignore_index=True)"
   ]
  },
  {
   "cell_type": "code",
   "execution_count": 87,
   "metadata": {},
   "outputs": [],
   "source": [
    "df_atp = df_atp.sort_values(by = ['tourney_date', 'match_num'], ignore_index=True)"
   ]
  },
  {
   "cell_type": "code",
   "execution_count": 91,
   "metadata": {},
   "outputs": [],
   "source": [
    "def get_smaller_than_season(year):\n",
    "    I = df_atp.loc[:, 'tourney_date'] < int(f'{year}0000')\n",
    "    I = np.asarray(I)\n",
    "    return df_atp.loc[I, 'tourney_date']"
   ]
  },
  {
   "cell_type": "code",
   "execution_count": 95,
   "metadata": {},
   "outputs": [
    {
     "name": "stdout",
     "output_type": "stream",
     "text": [
      "                            tourney_id                     tourney_name  \\\n",
      "0                             2000-339                         Adelaide   \n",
      "1                             2000-451                             Doha   \n",
      "2                             2000-891                          Chennai   \n",
      "3                             2000-339                         Adelaide   \n",
      "4                             2000-451                             Doha   \n",
      "...                                ...                              ...   \n",
      "65889  2021-M-DC-2021-FLS-M-CRO-SRB-01  Davis Cup Finals SF: CRO vs SRB   \n",
      "65890  2021-M-DC-2021-FLS-M-RTF-GER-01  Davis Cup Finals SF: RTF vs GER   \n",
      "65891  2021-M-DC-2021-FLS-M-RTF-GER-01  Davis Cup Finals SF: RTF vs GER   \n",
      "65892  2021-M-DC-2021-FLS-M-RTF-CRO-01   Davis Cup Finals F: RTF vs CRO   \n",
      "65893  2021-M-DC-2021-FLS-M-RTF-CRO-01   Davis Cup Finals F: RTF vs CRO   \n",
      "\n",
      "      surface  draw_size tourney_level  tourney_date  match_num  winner_id  \\\n",
      "0        Hard         32             A      20000103          1     102358   \n",
      "1        Hard         32             A      20000103          1     103017   \n",
      "2        Hard         32             A      20000103          1     103420   \n",
      "3        Hard         32             A      20000103          2     103819   \n",
      "4        Hard         32             A      20000103          2     101750   \n",
      "...       ...        ...           ...           ...        ...        ...   \n",
      "65889    Hard          2             D      20211203          2     104925   \n",
      "65890    Hard          2             D      20211204          1     126094   \n",
      "65891    Hard          2             D      20211204          2     106421   \n",
      "65892    Hard          2             D      20211205          1     126094   \n",
      "65893    Hard          2             D      20211205          2     106421   \n",
      "\n",
      "       winner_seed winner_entry  ... l_1stIn l_1stWon  l_2ndWon l_SvGms  \\\n",
      "0              1.0          NaN  ...    37.0     25.0      13.0     9.0   \n",
      "1              1.0          NaN  ...    53.0     36.0      17.0    12.0   \n",
      "2              NaN          NaN  ...    23.0     16.0      13.0     9.0   \n",
      "3              NaN          NaN  ...    15.0     13.0      12.0     8.0   \n",
      "4              NaN            Q  ...    57.0     41.0      18.0    16.0   \n",
      "...            ...          ...  ...     ...      ...       ...     ...   \n",
      "65889          NaN          NaN  ...    37.0     23.0      13.0     9.0   \n",
      "65890          NaN          NaN  ...    21.0     12.0      10.0     8.0   \n",
      "65891          NaN          NaN  ...    34.0     29.0       7.0    10.0   \n",
      "65892          NaN          NaN  ...    52.0     33.0      20.0    11.0   \n",
      "65893          NaN          NaN  ...    38.0     31.0       9.0    10.0   \n",
      "\n",
      "       l_bpSaved  l_bpFaced  winner_rank winner_rank_points loser_rank  \\\n",
      "0            2.0        4.0          4.0             2606.0       56.0   \n",
      "1            2.0        4.0          6.0             2447.0       55.0   \n",
      "2            3.0        7.0        123.0              374.0        2.0   \n",
      "3            0.0        3.0         64.0              749.0       91.0   \n",
      "4            2.0        7.0        213.0              190.0      221.0   \n",
      "...          ...        ...          ...                ...        ...   \n",
      "65889        5.0        8.0          1.0            11540.0       30.0   \n",
      "65890        0.0        4.0          5.0             5150.0       54.0   \n",
      "65891        3.0        5.0          2.0             8640.0       51.0   \n",
      "65892        7.0        8.0          5.0             5150.0      279.0   \n",
      "65893        1.0        3.0          2.0             8640.0       30.0   \n",
      "\n",
      "      loser_rank_points  \n",
      "0                 805.0  \n",
      "1                 814.0  \n",
      "2                3465.0  \n",
      "3                 525.0  \n",
      "4                 185.0  \n",
      "...                 ...  \n",
      "65889            1710.0  \n",
      "65890            1101.0  \n",
      "65891            1134.0  \n",
      "65892             196.0  \n",
      "65893            1710.0  \n",
      "\n",
      "[65894 rows x 49 columns]\n"
     ]
    }
   ],
   "source": [
    "print(df_atp)"
   ]
  },
  {
   "cell_type": "code",
   "execution_count": 94,
   "metadata": {},
   "outputs": [
    {
     "name": "stdout",
     "output_type": "stream",
     "text": [
      "0        20000103\n",
      "1        20000103\n",
      "2        20000103\n",
      "3        20000103\n",
      "4        20000103\n",
      "           ...   \n",
      "29244    20081109\n",
      "29245    20081109\n",
      "29246    20081121\n",
      "29247    20081121\n",
      "29248    20081121\n",
      "Name: tourney_date, Length: 29249, dtype: int64\n"
     ]
    }
   ],
   "source": [
    "print(get_smaller_than_season(2009))"
   ]
  }
 ],
 "metadata": {
  "kernelspec": {
   "display_name": "Python 3",
   "language": "python",
   "name": "python3"
  },
  "language_info": {
   "codemirror_mode": {
    "name": "ipython",
    "version": 3
   },
   "file_extension": ".py",
   "mimetype": "text/x-python",
   "name": "python",
   "nbconvert_exporter": "python",
   "pygments_lexer": "ipython3",
   "version": "3.8.3"
  }
 },
 "nbformat": 4,
 "nbformat_minor": 4
}
